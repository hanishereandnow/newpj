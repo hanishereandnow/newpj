{
 "cells": [
  {
   "cell_type": "markdown",
   "id": "410ee6b9",
   "metadata": {},
   "source": [
    "# 11. 사이킷런으로 구현해 보는 머신러닝"
   ]
  },
  {
   "cell_type": "markdown",
   "id": "777e4e44",
   "metadata": {},
   "source": [
    "머신러닝의 알고리즘 종류는 크게 3가지로 나눌 수 있습니다.<br>\n",
    "\n",
    "지도학습 (Supervised Learning ▶ 분류, 회귀, 예측<br>\n",
    "비지도학습 (Unsupervised Learning) ▶ 클러스터링, 자원축소<br>\n",
    "강화학습 (Reinforcement Learning)<br>"
   ]
  },
  {
   "cell_type": "markdown",
   "id": "b1022c1d",
   "metadata": {},
   "source": [
    "어느 알고리즘을 사용해야 할까? <br>\n",
    "\n",
    "고려할 사항<br>\n",
    "- 데이터의 크기, 품질, 특성\n",
    "- 가용 연산(계산) 시간\n",
    "- 작업의 긴급성\n",
    "- 데이터를 이용해 하고 싶은 것\n",
    "\n",
    "![MLchart](https://blogs.sas.com/content/saskorea/files/2019/03/%EC%B9%98%ED%8A%B82.png)"
   ]
  },
  {
   "cell_type": "markdown",
   "id": "e2ec7791",
   "metadata": {},
   "source": [
    "보통 라벨(정답)의 유무에 따라 머신러닝을 지도학습(정답O)과 비지도학습(정답X)으로 나눈다.<br>\n",
    "\n",
    "데이터가 매우 복잡하다면 차원을 축소하기도 하고 만약 주요한 성분이 있다면 주성분 분석을 적용하기도.<br>\n",
    "\n",
    "또한, 데이터의 종류에 따라 같은 회귀라도 선형회귀는 수치형 데이터(연속적인 데이터)를 예측하는 데 사용된다면, <br>\n",
    "로지스틱 회귀는 분류(엄밀히 말하면 이진 분류)에 사용된다.<br>\n",
    "\n",
    "따라서 <b>정답 유무, 데이터의 종류, 특성, 문제 정의</b>에 따라 머신러닝 알고리즘은 굉장히 복합적으로 사용된다."
   ]
  },
  {
   "cell_type": "markdown",
   "id": "69ae3455",
   "metadata": {},
   "source": [
    "### 강화 학습\n",
    "\n",
    "학습하는 시스템을 에이전트라고 하고, 환경을 관찰해서 에이전트가 스스로 행동하게 합니다. <br>\n",
    "모델은 그 결과로 특정 보상을 받아 이 보상을 최대화하도록 학습합니다. <br>\n",
    "강화학습에서 기본적으로 쓰이는 용어를 정리하면 다음과 같습니다. <br>\n",
    "\n",
    "에이전트(Agent): 학습 주체 (혹은 actor, controller)<br>\n",
    "환경(Environment): 에이전트에게 주어진 환경, 상황, 조건<br>\n",
    "행동(Action): 환경으로부터 주어진 정보를 바탕으로 에이전트가 판단한 행동<br>\n",
    "보상(Reward): 행동에 대한 보상을 머신러닝 엔지니어가 설계<br>"
   ]
  },
  {
   "cell_type": "markdown",
   "id": "5992d0ce",
   "metadata": {},
   "source": [
    "강화학습 알고리즘의 대표적인 종류<br>\n",
    "\n",
    "Monte Carlo methods<br>\n",
    "Q-Learning<br>\n",
    "Policy Gradient methods<br>\n",
    "\n",
    "강화학습 관련 커뮤니티<br>\n",
    "https://github.com/reinforcement-learning-kr\n",
    "https://github.com/aikorea/awesome-rl"
   ]
  },
  {
   "cell_type": "markdown",
   "id": "babf6d1a",
   "metadata": {},
   "source": [
    "참고: https://blogs.sas.com/content/saskorea/2017/08/22/%EC%B5%9C%EC%A0%81%EC%9D%98-%EB%A8%B8%EC%8B%A0%EB%9F%AC%EB%8B%9D-%EC%95%8C%EA%B3%A0%EB%A6%AC%EC%A6%98%EC%9D%84-%EA%B3%A0%EB%A5%B4%EA%B8%B0-%EC%9C%84%ED%95%9C-%EC%B9%98%ED%8A%B8/"
   ]
  },
  {
   "cell_type": "markdown",
   "id": "c99ac077",
   "metadata": {},
   "source": [
    "### 사이킷런에서 가이드하는 머신러닝 알고리즘\n",
    "\n",
    "![sci](https://scikit-learn.org/stable/_static/ml_map.png)\n",
    "\n",
    "참고: https://scikit-learn.org/stable/tutorial/machine_learning_map/index.html"
   ]
  },
  {
   "cell_type": "markdown",
   "id": "73b6f5c8",
   "metadata": {},
   "source": [
    "사이킷런에서 알고리즘을 나누는 기준\n",
    "\n",
    "- 샘플 개수(데이터 개수)\n",
    "- 라벨 유무(정답 유무)\n",
    "- 범주형 데이터인가 수치형 데이터인가(데이터의 종류)"
   ]
  },
  {
   "cell_type": "markdown",
   "id": "7ebbb04b",
   "metadata": {},
   "source": [
    "Scikit-learn은 다음의 명령어로 설치\n",
    "\n",
    "pip install scikit-learn"
   ]
  },
  {
   "cell_type": "code",
   "execution_count": 1,
   "id": "3d50ce28",
   "metadata": {},
   "outputs": [
    {
     "name": "stdout",
     "output_type": "stream",
     "text": [
      "1.0\n"
     ]
    }
   ],
   "source": [
    "# 모듈 import & 버전 확인\n",
    "import sklearn\n",
    "print(sklearn.__version__)"
   ]
  },
  {
   "cell_type": "markdown",
   "id": "239c18e3",
   "metadata": {},
   "source": [
    "## 데이터 표현법"
   ]
  },
  {
   "cell_type": "markdown",
   "id": "ee18afeb",
   "metadata": {},
   "source": [
    "사이킷런의 알고리즘은 파이썬 클래스로 구현되어 있고, <br>\n",
    "데이터셋은 NumPy의 ndarray, Pandas의 DataFrame, SciPy의 Sparse Matrix를 이용해 나타낼 수 있다. <br>\n",
    "그리고 훈련과 예측 등 머신러닝 모델을 다룰 때는 CoreAPI라고 불리는 fit(), transfomer(), predict()과 같은 함수들을 이용한다."
   ]
  },
  {
   "cell_type": "markdown",
   "id": "3ec23057",
   "metadata": {},
   "source": [
    "사이킷런의 API\n",
    "참고: https://scikit-learn.org/stable/modules/classes.html\n",
    "        \n",
    "주로 사용하는 API\n",
    "![scikAPI](https://d3s0tskafalll9.cloudfront.net/media/images/Untitled_sP0AtFE.max-800x600.png)"
   ]
  },
  {
   "cell_type": "markdown",
   "id": "fe4d0183",
   "metadata": {},
   "source": [
    "### 사이킷런의 데이터 표현 방식\n",
    "- 특성 행렬(Feature Matrix)\n",
    "- 타겟 벡터(Target Vector)\n",
    "![fmtv](https://d3s0tskafalll9.cloudfront.net/media/images/Untitled_1.max-800x600.png)\n",
    "출처: https://jakevdp.github.io/PythonDataScienceHandbook/06.00-figure-code.html#Features-and-Labels-Grid\n"
   ]
  },
  {
   "cell_type": "markdown",
   "id": "34d49aa0",
   "metadata": {},
   "source": [
    "### <b> 특성 행렬 </b>\n",
    "- 입력 데이터를 의미\n",
    "- 특성(feature)\n",
    "  <br> - 데이터에서 수치 값, 이산 값, 불리언 값으로 표현되는 개별 관측치를 의미합니다. \n",
    "  <br>  - 특성 행렬에서는 열에 해당하는 값입니다.\n",
    "- 표본(sample): 각 입력 데이터, 특성 행렬에서는 행에 해당하는 값입니다.\n",
    "- n_samples: 행의 개수(표본의 개수)\n",
    "- n_features: 열의 개수(특성의 개수)\n",
    "- X: 통상 특성 행렬은 변수명 X로 표기합니다.<br>\n",
    "[n_samples, n_features]은 [행, 열] 형태의 2차원 배열 구조를 사용하며 <br>\n",
    "이는 NumPy의 ndarray, Pandas의 DataFrame, SciPy의 Sparse Matrix를 사용하여 나타낼 수 있습니다."
   ]
  },
  {
   "cell_type": "markdown",
   "id": "1166e451",
   "metadata": {},
   "source": [
    "### <b> 타겟 벡터(Target Vector) </b>\n",
    "- 입력 데이터의 라벨(정답) 을 의미합니다.\n",
    "- 목표(Target): 라벨, 타겟값, 목표값이라고도 부르며 특성 행렬(Feature Matrix)로부터 예측하고자 하는 것을 말합니다.\n",
    "- n_samples: 벡터의 길이(라벨의 개수)\n",
    "타겟 벡터에서 n_features는 없습니다.\n",
    "- y: 통상 타겟 벡터는 변수명 y로 표기합니다.<br>\n",
    "타겟 벡터는 보통 1차원 벡터로 나타내며, 이는 NumPy의 ndarray, Pandas의 Series를 사용하여 나타낼 수 있습니다.<br>\n",
    "(단, 타겟 벡터는 경우에 따라 1차원으로 나타내지 않을 수도 있습니다. 이 노드에서 사용되는 예제는 모두 1차원 벡터입니다.)"
   ]
  },
  {
   "cell_type": "markdown",
   "id": "1054fa89",
   "metadata": {},
   "source": [
    "### ❗️특성 행렬 X의 n_samples와 타겟 벡터 y의 n_samples는 동일해야 합니다. (행의 개수 동일해야)"
   ]
  },
  {
   "cell_type": "markdown",
   "id": "d90cbb05",
   "metadata": {},
   "source": [
    "## 회귀 모델 실습"
   ]
  },
  {
   "cell_type": "code",
   "execution_count": 2,
   "id": "1ff6469d",
   "metadata": {},
   "outputs": [
    {
     "data": {
      "text/plain": [
       "<matplotlib.collections.PathCollection at 0x7f60d338dac0>"
      ]
     },
     "execution_count": 2,
     "metadata": {},
     "output_type": "execute_result"
    },
    {
     "data": {
      "image/png": "[encoded data removed]",
      "text/plain": [
       "<Figure size 432x288 with 1 Axes>"
      ]
     },
     "metadata": {
      "needs_background": "light"
     },
     "output_type": "display_data"
    }
   ],
   "source": [
    "# yn이라는 라벨 값을 각각 가지는 입력데이터 xn 100개로 이루어져 있는 데이터\n",
    "import numpy as np\n",
    "import matplotlib.pyplot as plt\n",
    "r = np.random.RandomState(10)    # 특정 seed(10)를 가진다\n",
    "x = 10 * r.rand(100)    # rand: 0~1사이 표준정규분포 난수를 100개 생성 > * 10: 0~10사이 100개\n",
    "y = 2 * x - 3 * r.rand(100)\n",
    "plt.scatter(x,y)"
   ]
  },
  {
   "cell_type": "markdown",
   "id": "10ac4d81",
   "metadata": {},
   "source": [
    "참고:\n",
    "https://frhyme.github.io/python-libs/np_random_randomstate/\n",
    "https://nittaku.tistory.com/443"
   ]
  },
  {
   "cell_type": "code",
   "execution_count": 3,
   "id": "6603ff9d",
   "metadata": {},
   "outputs": [
    {
     "data": {
      "text/plain": [
       "(100,)"
      ]
     },
     "execution_count": 3,
     "metadata": {},
     "output_type": "execute_result"
    }
   ],
   "source": [
    "# 입력 데이터의 모양\n",
    "x.shape"
   ]
  },
  {
   "cell_type": "code",
   "execution_count": 4,
   "id": "8bd387b1",
   "metadata": {},
   "outputs": [
    {
     "data": {
      "text/plain": [
       "(100,)"
      ]
     },
     "execution_count": 4,
     "metadata": {},
     "output_type": "execute_result"
    }
   ],
   "source": [
    "# 정답 데이터의 모양\n",
    "y.shape"
   ]
  },
  {
   "cell_type": "markdown",
   "id": "aabc4e49",
   "metadata": {},
   "source": [
    "x와 y의 모양은 (100,)으로 1차원 벡터"
   ]
  },
  {
   "cell_type": "code",
   "execution_count": 5,
   "id": "6d6d8cde",
   "metadata": {},
   "outputs": [
    {
     "data": {
      "text/plain": [
       "LinearRegression()"
      ]
     },
     "execution_count": 5,
     "metadata": {},
     "output_type": "execute_result"
    }
   ],
   "source": [
    "# 사이킷런에서 ML 모델을 사용하기 위해 모델 객체를 생성\n",
    "# 모델: LinearRegression\n",
    "from sklearn.linear_model import LinearRegression\n",
    "model = LinearRegression()\n",
    "model"
   ]
  },
  {
   "cell_type": "code",
   "execution_count": 6,
   "id": "524376ff",
   "metadata": {},
   "outputs": [
    {
     "ename": "ValueError",
     "evalue": "Expected 2D array, got 1D array instead:\narray=[7.71320643 0.20751949 6.33648235 7.48803883 4.98507012 2.24796646\n 1.98062865 7.60530712 1.69110837 0.88339814 6.85359818 9.53393346\n 0.03948266 5.12192263 8.12620962 6.12526067 7.21755317 2.91876068\n 9.17774123 7.14575783 5.42544368 1.42170048 3.7334076  6.74133615\n 4.41833174 4.34013993 6.17766978 5.13138243 6.50397182 6.01038953\n 8.05223197 5.21647152 9.08648881 3.19236089 0.90459349 3.00700057\n 1.13984362 8.28681326 0.46896319 6.26287148 5.47586156 8.19286996\n 1.9894754  8.56850302 3.51652639 7.54647692 2.95961707 8.8393648\n 3.25511638 1.65015898 3.92529244 0.93460375 8.21105658 1.5115202\n 3.84114449 9.44260712 9.87625475 4.56304547 8.26122844 2.51374134\n 5.97371648 9.0283176  5.34557949 5.90201363 0.39281767 3.57181759\n 0.7961309  3.05459918 3.30719312 7.73830296 0.39959209 4.29492178\n 3.14926872 6.36491143 3.4634715  0.43097356 8.79915175 7.63240587\n 8.78096643 4.17509144 6.05577564 5.13466627 5.97836648 2.62215661\n 3.00871309 0.25399782 3.03062561 2.42075875 5.57578189 5.6550702\n 4.75132247 2.92797976 0.64251061 9.78819146 3.39707844 4.95048631\n 9.77080726 4.40773825 3.18272805 5.19796986].\nReshape your data either using array.reshape(-1, 1) if your data has a single feature or array.reshape(1, -1) if it contains a single sample.",
     "output_type": "error",
     "traceback": [
      "\u001b[0;31m---------------------------------------------------------------------------\u001b[0m",
      "\u001b[0;31mValueError\u001b[0m                                Traceback (most recent call last)",
      "\u001b[0;32m/tmp/ipykernel_184/1800634711.py\u001b[0m in \u001b[0;36m<module>\u001b[0;34m\u001b[0m\n\u001b[1;32m      4\u001b[0m \u001b[0;34m\u001b[0m\u001b[0m\n\u001b[1;32m      5\u001b[0m \u001b[0;31m# ! 에러 발생\u001b[0m\u001b[0;34m\u001b[0m\u001b[0;34m\u001b[0m\u001b[0m\n\u001b[0;32m----> 6\u001b[0;31m \u001b[0mmodel\u001b[0m\u001b[0;34m.\u001b[0m\u001b[0mfit\u001b[0m\u001b[0;34m(\u001b[0m\u001b[0mx\u001b[0m\u001b[0;34m,\u001b[0m \u001b[0my\u001b[0m\u001b[0;34m)\u001b[0m\u001b[0;34m\u001b[0m\u001b[0;34m\u001b[0m\u001b[0m\n\u001b[0m\u001b[1;32m      7\u001b[0m \u001b[0;34m\u001b[0m\u001b[0m\n\u001b[1;32m      8\u001b[0m \u001b[0;31m# x를 행렬로 바꾸어 주어야 한다\u001b[0m\u001b[0;34m\u001b[0m\u001b[0;34m\u001b[0m\u001b[0m\n",
      "\u001b[0;32m/opt/conda/lib/python3.9/site-packages/sklearn/linear_model/_base.py\u001b[0m in \u001b[0;36mfit\u001b[0;34m(self, X, y, sample_weight)\u001b[0m\n\u001b[1;32m    659\u001b[0m         \u001b[0maccept_sparse\u001b[0m \u001b[0;34m=\u001b[0m \u001b[0;32mFalse\u001b[0m \u001b[0;32mif\u001b[0m \u001b[0mself\u001b[0m\u001b[0;34m.\u001b[0m\u001b[0mpositive\u001b[0m \u001b[0;32melse\u001b[0m \u001b[0;34m[\u001b[0m\u001b[0;34m\"csr\"\u001b[0m\u001b[0;34m,\u001b[0m \u001b[0;34m\"csc\"\u001b[0m\u001b[0;34m,\u001b[0m \u001b[0;34m\"coo\"\u001b[0m\u001b[0;34m]\u001b[0m\u001b[0;34m\u001b[0m\u001b[0;34m\u001b[0m\u001b[0m\n\u001b[1;32m    660\u001b[0m \u001b[0;34m\u001b[0m\u001b[0m\n\u001b[0;32m--> 661\u001b[0;31m         X, y = self._validate_data(\n\u001b[0m\u001b[1;32m    662\u001b[0m             \u001b[0mX\u001b[0m\u001b[0;34m,\u001b[0m \u001b[0my\u001b[0m\u001b[0;34m,\u001b[0m \u001b[0maccept_sparse\u001b[0m\u001b[0;34m=\u001b[0m\u001b[0maccept_sparse\u001b[0m\u001b[0;34m,\u001b[0m \u001b[0my_numeric\u001b[0m\u001b[0;34m=\u001b[0m\u001b[0;32mTrue\u001b[0m\u001b[0;34m,\u001b[0m \u001b[0mmulti_output\u001b[0m\u001b[0;34m=\u001b[0m\u001b[0;32mTrue\u001b[0m\u001b[0;34m\u001b[0m\u001b[0;34m\u001b[0m\u001b[0m\n\u001b[1;32m    663\u001b[0m         )\n",
      "\u001b[0;32m/opt/conda/lib/python3.9/site-packages/sklearn/base.py\u001b[0m in \u001b[0;36m_validate_data\u001b[0;34m(self, X, y, reset, validate_separately, **check_params)\u001b[0m\n\u001b[1;32m    570\u001b[0m                 \u001b[0my\u001b[0m \u001b[0;34m=\u001b[0m \u001b[0mcheck_array\u001b[0m\u001b[0;34m(\u001b[0m\u001b[0my\u001b[0m\u001b[0;34m,\u001b[0m \u001b[0;34m**\u001b[0m\u001b[0mcheck_y_params\u001b[0m\u001b[0;34m)\u001b[0m\u001b[0;34m\u001b[0m\u001b[0;34m\u001b[0m\u001b[0m\n\u001b[1;32m    571\u001b[0m             \u001b[0;32melse\u001b[0m\u001b[0;34m:\u001b[0m\u001b[0;34m\u001b[0m\u001b[0;34m\u001b[0m\u001b[0m\n\u001b[0;32m--> 572\u001b[0;31m                 \u001b[0mX\u001b[0m\u001b[0;34m,\u001b[0m \u001b[0my\u001b[0m \u001b[0;34m=\u001b[0m \u001b[0mcheck_X_y\u001b[0m\u001b[0;34m(\u001b[0m\u001b[0mX\u001b[0m\u001b[0;34m,\u001b[0m \u001b[0my\u001b[0m\u001b[0;34m,\u001b[0m \u001b[0;34m**\u001b[0m\u001b[0mcheck_params\u001b[0m\u001b[0;34m)\u001b[0m\u001b[0;34m\u001b[0m\u001b[0;34m\u001b[0m\u001b[0m\n\u001b[0m\u001b[1;32m    573\u001b[0m             \u001b[0mout\u001b[0m \u001b[0;34m=\u001b[0m \u001b[0mX\u001b[0m\u001b[0;34m,\u001b[0m \u001b[0my\u001b[0m\u001b[0;34m\u001b[0m\u001b[0;34m\u001b[0m\u001b[0m\n\u001b[1;32m    574\u001b[0m \u001b[0;34m\u001b[0m\u001b[0m\n",
      "\u001b[0;32m/opt/conda/lib/python3.9/site-packages/sklearn/utils/validation.py\u001b[0m in \u001b[0;36mcheck_X_y\u001b[0;34m(X, y, accept_sparse, accept_large_sparse, dtype, order, copy, force_all_finite, ensure_2d, allow_nd, multi_output, ensure_min_samples, ensure_min_features, y_numeric, estimator)\u001b[0m\n\u001b[1;32m    954\u001b[0m         \u001b[0;32mraise\u001b[0m \u001b[0mValueError\u001b[0m\u001b[0;34m(\u001b[0m\u001b[0;34m\"y cannot be None\"\u001b[0m\u001b[0;34m)\u001b[0m\u001b[0;34m\u001b[0m\u001b[0;34m\u001b[0m\u001b[0m\n\u001b[1;32m    955\u001b[0m \u001b[0;34m\u001b[0m\u001b[0m\n\u001b[0;32m--> 956\u001b[0;31m     X = check_array(\n\u001b[0m\u001b[1;32m    957\u001b[0m         \u001b[0mX\u001b[0m\u001b[0;34m,\u001b[0m\u001b[0;34m\u001b[0m\u001b[0;34m\u001b[0m\u001b[0m\n\u001b[1;32m    958\u001b[0m         \u001b[0maccept_sparse\u001b[0m\u001b[0;34m=\u001b[0m\u001b[0maccept_sparse\u001b[0m\u001b[0;34m,\u001b[0m\u001b[0;34m\u001b[0m\u001b[0;34m\u001b[0m\u001b[0m\n",
      "\u001b[0;32m/opt/conda/lib/python3.9/site-packages/sklearn/utils/validation.py\u001b[0m in \u001b[0;36mcheck_array\u001b[0;34m(array, accept_sparse, accept_large_sparse, dtype, order, copy, force_all_finite, ensure_2d, allow_nd, ensure_min_samples, ensure_min_features, estimator)\u001b[0m\n\u001b[1;32m    759\u001b[0m             \u001b[0;31m# If input is 1D raise error\u001b[0m\u001b[0;34m\u001b[0m\u001b[0;34m\u001b[0m\u001b[0m\n\u001b[1;32m    760\u001b[0m             \u001b[0;32mif\u001b[0m \u001b[0marray\u001b[0m\u001b[0;34m.\u001b[0m\u001b[0mndim\u001b[0m \u001b[0;34m==\u001b[0m \u001b[0;36m1\u001b[0m\u001b[0;34m:\u001b[0m\u001b[0;34m\u001b[0m\u001b[0;34m\u001b[0m\u001b[0m\n\u001b[0;32m--> 761\u001b[0;31m                 raise ValueError(\n\u001b[0m\u001b[1;32m    762\u001b[0m                     \u001b[0;34m\"Expected 2D array, got 1D array instead:\\narray={}.\\n\"\u001b[0m\u001b[0;34m\u001b[0m\u001b[0;34m\u001b[0m\u001b[0m\n\u001b[1;32m    763\u001b[0m                     \u001b[0;34m\"Reshape your data either using array.reshape(-1, 1) if \"\u001b[0m\u001b[0;34m\u001b[0m\u001b[0;34m\u001b[0m\u001b[0m\n",
      "\u001b[0;31mValueError\u001b[0m: Expected 2D array, got 1D array instead:\narray=[7.71320643 0.20751949 6.33648235 7.48803883 4.98507012 2.24796646\n 1.98062865 7.60530712 1.69110837 0.88339814 6.85359818 9.53393346\n 0.03948266 5.12192263 8.12620962 6.12526067 7.21755317 2.91876068\n 9.17774123 7.14575783 5.42544368 1.42170048 3.7334076  6.74133615\n 4.41833174 4.34013993 6.17766978 5.13138243 6.50397182 6.01038953\n 8.05223197 5.21647152 9.08648881 3.19236089 0.90459349 3.00700057\n 1.13984362 8.28681326 0.46896319 6.26287148 5.47586156 8.19286996\n 1.9894754  8.56850302 3.51652639 7.54647692 2.95961707 8.8393648\n 3.25511638 1.65015898 3.92529244 0.93460375 8.21105658 1.5115202\n 3.84114449 9.44260712 9.87625475 4.56304547 8.26122844 2.51374134\n 5.97371648 9.0283176  5.34557949 5.90201363 0.39281767 3.57181759\n 0.7961309  3.05459918 3.30719312 7.73830296 0.39959209 4.29492178\n 3.14926872 6.36491143 3.4634715  0.43097356 8.79915175 7.63240587\n 8.78096643 4.17509144 6.05577564 5.13466627 5.97836648 2.62215661\n 3.00871309 0.25399782 3.03062561 2.42075875 5.57578189 5.6550702\n 4.75132247 2.92797976 0.64251061 9.78819146 3.39707844 4.95048631\n 9.77080726 4.40773825 3.18272805 5.19796986].\nReshape your data either using array.reshape(-1, 1) if your data has a single feature or array.reshape(1, -1) if it contains a single sample."
     ]
    }
   ],
   "source": [
    "# 훈련시키자! fit 메소드\n",
    "# 인자로 특성 행렬과 타겟 벡터,\n",
    "# 즉 행렬 형태의 입력 데이터와 1차원 벡터 형태의 정답(라벨)을 각각 넣어준다\n",
    "\n",
    "# ! 에러 발생\n",
    "model.fit(x, y)\n",
    "\n",
    "# x를 행렬로 바꾸어 주어야 한다"
   ]
  },
  {
   "cell_type": "code",
   "execution_count": null,
   "id": "5b8efc64",
   "metadata": {},
   "outputs": [],
   "source": [
    "type(x)"
   ]
  },
  {
   "cell_type": "code",
   "execution_count": null,
   "id": "6c4697d0",
   "metadata": {},
   "outputs": [],
   "source": [
    "x"
   ]
  },
  {
   "cell_type": "code",
   "execution_count": null,
   "id": "4152b049",
   "metadata": {},
   "outputs": [],
   "source": [
    "# x를 X 행렬로 바꾼다\n",
    "X = x.reshape(100,1)\n",
    "\n",
    "# x는 numpy의 ndarray타입이니 reshape을 사용한다"
   ]
  },
  {
   "cell_type": "code",
   "execution_count": null,
   "id": "9917df6c",
   "metadata": {},
   "outputs": [],
   "source": [
    "X"
   ]
  },
  {
   "cell_type": "code",
   "execution_count": null,
   "id": "ab4c9417",
   "metadata": {},
   "outputs": [],
   "source": [
    "# 다시 넣어 훈련시킨다\n",
    "model.fit(X,y)"
   ]
  },
  {
   "cell_type": "code",
   "execution_count": null,
   "id": "809dae25",
   "metadata": {},
   "outputs": [],
   "source": [
    "# 새로운 데이터를 넣어 예측해보기\n",
    "\n",
    "x_new = np.linspace(-1, 11, 100)\n",
    "X_new = x_new.reshape(100,1)\n",
    "y_new = model.predict(X_new)"
   ]
  },
  {
   "cell_type": "markdown",
   "id": "27578757",
   "metadata": {},
   "source": [
    "linspace(시작점, 끝점, 개수) : 균일 간격으로 숫자 생성\n",
    "참고: https://jimmy-ai.tistory.com/41"
   ]
  },
  {
   "cell_type": "markdown",
   "id": "28fec438",
   "metadata": {},
   "source": [
    "### 잠깐 Tip!\n",
    "reshape() 함수에서 나머지 숫자를 -1로 넣으면 자동으로 남은 숫자를 계산해 준다.<br>\n",
    "즉, x_new의 인자의 개수가 100개이므로, (100, 1)의 형태나 (2, 50)의 형태 등으로 변환해 줄 수 있다.<br>\n",
    "(2, -1)을 인자로 넣으면 (2, 50)의 형태로 자동으로 변환. "
   ]
  },
  {
   "cell_type": "code",
   "execution_count": null,
   "id": "e62dd388",
   "metadata": {},
   "outputs": [],
   "source": [
    "X_ = x_new.reshape(-1,1)\n",
    "X_.shape"
   ]
  },
  {
   "cell_type": "markdown",
   "id": "c2b0558d",
   "metadata": {},
   "source": [
    "학습된 회귀 모델이 잘 예측했는지 모델의 성능을 평가해 보자.<br>\n",
    "앞에서 간단히 소개하였듯이 모델의 성능 평가 관련 모듈은 sklearn.metrics에 저장되어 있다.<br>\n",
    "회귀 모델의 경우 RMSE(Root Mean Square Error) 를 사용해 성능을 평가."
   ]
  },
  {
   "cell_type": "code",
   "execution_count": null,
   "id": "16929226",
   "metadata": {},
   "outputs": [],
   "source": [
    "from sklearn.metrics import mean_squared_error\n",
    "\n",
    "error = np.sqrt(mean_squared_error(y,y_new))\n",
    "\n",
    "print(error)"
   ]
  },
  {
   "cell_type": "markdown",
   "id": "bf2ff3c4",
   "metadata": {},
   "source": [
    "np.sqrt: 제곱근(Root) 구하기<br>\n",
    "np.sqrt 함수 안에 MSE를 넣어 RMSE를 만든다"
   ]
  },
  {
   "cell_type": "code",
   "execution_count": null,
   "id": "debed2a5",
   "metadata": {},
   "outputs": [],
   "source": [
    "plt.scatter(x, y, label='input data')\n",
    "plt.plot(X_new, y_new, color='red', label='regression line')"
   ]
  },
  {
   "cell_type": "markdown",
   "id": "5476a175",
   "metadata": {},
   "source": [
    "그래프의 점들과 회귀선이 거의 일치함을 확인할 수 있다"
   ]
  },
  {
   "cell_type": "markdown",
   "id": "5ca7ece8",
   "metadata": {},
   "source": [
    "## datasets 모듈"
   ]
  },
  {
   "cell_type": "code",
   "execution_count": null,
   "id": "0d31a44a",
   "metadata": {},
   "outputs": [],
   "source": [
    "# 와인 데이터셋 이용\n",
    "\n",
    "from sklearn.datasets import load_wine\n",
    "data = load_wine()\n",
    "type(data)"
   ]
  },
  {
   "cell_type": "code",
   "execution_count": null,
   "id": "9e9254a7",
   "metadata": {},
   "outputs": [],
   "source": [
    "print(data)"
   ]
  },
  {
   "cell_type": "code",
   "execution_count": null,
   "id": "70d049d6",
   "metadata": {},
   "outputs": [],
   "source": [
    "data.keys()"
   ]
  },
  {
   "cell_type": "markdown",
   "id": "091bb495",
   "metadata": {},
   "source": [
    "키값 data는 특성 행렬<br>\n",
    "파이썬의 딕셔너리와 유사하다▶ 키에 접근하기 위해서 .을 사용할 수 있다."
   ]
  },
  {
   "cell_type": "markdown",
   "id": "77cb35b9",
   "metadata": {},
   "source": [
    "### 1. data"
   ]
  },
  {
   "cell_type": "code",
   "execution_count": null,
   "id": "63ccc932",
   "metadata": {},
   "outputs": [],
   "source": [
    "data.data"
   ]
  },
  {
   "cell_type": "markdown",
   "id": "111972ae",
   "metadata": {},
   "source": [
    "특성 행렬은 2차원이며 행에는 데이터의 개수(n_samples)가 열에는 특성의 개수(n_features)가 들어 있다. "
   ]
  },
  {
   "cell_type": "code",
   "execution_count": null,
   "id": "2a78d42f",
   "metadata": {},
   "outputs": [],
   "source": [
    "data.data.shape\n",
    "\n",
    "#특성이 13개, 데이터가 178개인 특성 행렬"
   ]
  },
  {
   "cell_type": "code",
   "execution_count": null,
   "id": "752a3919",
   "metadata": {},
   "outputs": [],
   "source": [
    "# 차원을 확인\n",
    "data.data.ndim"
   ]
  },
  {
   "cell_type": "markdown",
   "id": "b7a18de6",
   "metadata": {},
   "source": [
    "### 2. target"
   ]
  },
  {
   "cell_type": "code",
   "execution_count": null,
   "id": "36d7eb8e",
   "metadata": {},
   "outputs": [],
   "source": [
    "# 키값 target은 타겟벡터\n",
    "data.target"
   ]
  },
  {
   "cell_type": "code",
   "execution_count": null,
   "id": "ac3cee91",
   "metadata": {},
   "outputs": [],
   "source": [
    "# 타겟벡터는 1차원\n",
    "# 타겟벡터의 길이는 특성행렬의 데이터 개수와 일치해야 한다\n",
    "data.target.shape"
   ]
  },
  {
   "cell_type": "markdown",
   "id": "cb635148",
   "metadata": {},
   "source": [
    "### 3. feature_names"
   ]
  },
  {
   "cell_type": "code",
   "execution_count": null,
   "id": "c14af3f7",
   "metadata": {},
   "outputs": [],
   "source": [
    "# 특성들의 이름 확인\n",
    "data.feature_names"
   ]
  },
  {
   "cell_type": "code",
   "execution_count": null,
   "id": "c9ee3c77",
   "metadata": {},
   "outputs": [],
   "source": [
    "len(data.feature_names)\n",
    "\n",
    "# feature_names의 개수와 특성 행렬의 n_features(열)의 숫자가 일치"
   ]
  },
  {
   "cell_type": "markdown",
   "id": "b816afa1",
   "metadata": {},
   "source": [
    "### 4. target_names"
   ]
  },
  {
   "cell_type": "code",
   "execution_count": null,
   "id": "7b802793",
   "metadata": {},
   "outputs": [],
   "source": [
    "# 분류하고자 하는 대상\n",
    "data.target_names"
   ]
  },
  {
   "cell_type": "markdown",
   "id": "461b6e61",
   "metadata": {},
   "source": [
    "### 5. DESCR"
   ]
  },
  {
   "cell_type": "code",
   "execution_count": null,
   "id": "949a705d",
   "metadata": {},
   "outputs": [],
   "source": [
    "# DESCR: describe의 약자, 데이터에 대한 설명\n",
    "print(data.DESCR)"
   ]
  },
  {
   "cell_type": "markdown",
   "id": "0a7facb0",
   "metadata": {},
   "source": [
    "## 사이킷런 데이터셋을 이용한 분류 문제 실습"
   ]
  },
  {
   "cell_type": "markdown",
   "id": "971d3e6d",
   "metadata": {},
   "source": [
    "### <b> DataFrame으로 나타내기</b>"
   ]
  },
  {
   "cell_type": "code",
   "execution_count": null,
   "id": "fa59501f",
   "metadata": {},
   "outputs": [],
   "source": [
    "# 특성 행렬을 Pandas의 DataFrame으로 나타낼 수 있다\n",
    "import pandas as pd\n",
    "\n",
    "pd.DataFrame(data.data, columns=data.feature_names)"
   ]
  },
  {
   "cell_type": "markdown",
   "id": "84a31128",
   "metadata": {},
   "source": [
    "### <b>머신러닝</b> \n",
    "머신러닝 모델을 만들고 예측을 해보자\n",
    "특성 행렬은 통상 변수명 X에 저장하고, 타겟 벡터는 y에 저장"
   ]
  },
  {
   "cell_type": "code",
   "execution_count": null,
   "id": "cd6cf818",
   "metadata": {},
   "outputs": [],
   "source": [
    "X = data.data\n",
    "y = data.target"
   ]
  },
  {
   "cell_type": "code",
   "execution_count": null,
   "id": "cef059b9",
   "metadata": {},
   "outputs": [],
   "source": [
    "# 모델 생성, 분류 문제이므로 RandomForestClassifier 사용\n",
    "from sklearn.ensemble import RandomForestClassifier\n",
    "model = RandomForestClassifier()"
   ]
  },
  {
   "cell_type": "code",
   "execution_count": null,
   "id": "da056bd3",
   "metadata": {},
   "outputs": [],
   "source": [
    "# 훈련시키기\n",
    "model.fit(X, y)"
   ]
  },
  {
   "cell_type": "code",
   "execution_count": null,
   "id": "108b896f",
   "metadata": {},
   "outputs": [],
   "source": [
    "# 예측하기\n",
    "y_pred = model.predict(X)"
   ]
  },
  {
   "cell_type": "code",
   "execution_count": null,
   "id": "20779446",
   "metadata": {},
   "outputs": [],
   "source": [
    "# 성능 평가하기\n",
    "\n",
    "from sklearn.metrics import accuracy_score\n",
    "from sklearn.metrics import classification_report\n",
    "\n",
    "#타겟 벡터 즉 라벨인 변수명 y와 예측값 y_pred을 각각 인자로 넣습니다. \n",
    "print(classification_report(y, y_pred))\n",
    "#정확도를 출력합니다. \n",
    "print(\"accuracy = \", accuracy_score(y, y_pred))"
   ]
  },
  {
   "cell_type": "markdown",
   "id": "c51bae84",
   "metadata": {},
   "source": [
    "왜 정확도가 1(100)일까? 뒤에서 설명"
   ]
  },
  {
   "cell_type": "markdown",
   "id": "7ad7477c",
   "metadata": {},
   "source": [
    "## Estimator"
   ]
  },
  {
   "cell_type": "markdown",
   "id": "cdab6181",
   "metadata": {},
   "source": [
    "앞의 실습에서 머신러닝 모델의 훈련은 fit() 메서드를 이용하고 예측은 predict() 메서드를 이용했다. <br>\n",
    "사이킷런은 API가 매우 일관성 있게 설계되어 있다는 점이 장점<br>\n",
    "이번에는 모델 훈련에서 핵심이 되는 API를 살펴보도록 하자."
   ]
  },
  {
   "cell_type": "markdown",
   "id": "594e9625",
   "metadata": {},
   "source": [
    "### <b>Estimator 객체</b>"
   ]
  },
  {
   "cell_type": "markdown",
   "id": "7347d7fb",
   "metadata": {},
   "source": [
    "데이터셋을 기반으로 머신러닝 모델의 파라미터를 추정하는 객체를 Estimator라고 한다.<br>\n",
    "사이킷런의 모든 머신러닝 모델은 Estimator라는 파이썬 클래스로 구현되어 있습니다. <br>\n",
    "추정을 하는 과정 즉, 훈련은 Estimator의 fit()메서드를 통해 이루어지고, 예측은 predict()메서드를 통해 이루어진다."
   ]
  },
  {
   "cell_type": "markdown",
   "id": "fde3c2bb",
   "metadata": {},
   "source": [
    "앞에서 실습에 사용한 Estimator 객체는 LinearRegression()과 RandomForestClassifier()."
   ]
  },
  {
   "cell_type": "markdown",
   "id": "156856a6",
   "metadata": {},
   "source": [
    "와인 분류 문제 해결하는 과정\n",
    "![wine solution](https://d3s0tskafalll9.cloudfront.net/media/images/Untitled_2_4s16x9i.max-800x600.png)"
   ]
  },
  {
   "cell_type": "markdown",
   "id": "c04cf12e",
   "metadata": {},
   "source": [
    "선형 회귀 문제 해결하는 과정\n",
    "![Linear Regression](https://d3s0tskafalll9.cloudfront.net/media/images/Untitled_3.max-800x600.png)"
   ]
  },
  {
   "cell_type": "markdown",
   "id": "70c97106",
   "metadata": {},
   "source": [
    "타겟 벡터가 없다면 어떻게 표현할 수 있을까?\n",
    "정답이 없는 데이터인 비지도학습의 경우는 fit() 메서드의 인자로 Target Vector가 들어가지 않는다.\n",
    "![NTV](https://d3s0tskafalll9.cloudfront.net/media/images/Untitled_4_QrGQlgR.max-800x600.png)"
   ]
  },
  {
   "cell_type": "markdown",
   "id": "136953d0",
   "metadata": {},
   "source": [
    "사이킷런의 Estimator 객체를 사용한다면 비지도학습, 지도학습에 관계없이 학습과 예측을 할 수 있습니다."
   ]
  },
  {
   "cell_type": "markdown",
   "id": "659b9ef7",
   "metadata": {},
   "source": [
    "### 훈련 데이터와 테스트 데이터 분리하기"
   ]
  },
  {
   "cell_type": "markdown",
   "id": "7d8c9e97",
   "metadata": {},
   "source": [
    "앞의 와인 분류 문제에서 정확도가 100%로 나왔다. <br>\n",
    "위의 그림에서 Estimator 객체에 fit()과 prediction() 메서드에 인자로 각기 다른 데이터가 들어가야 한다! <br>\n",
    "\n",
    "처음에 우리는 아래 그림과 같이 훈련에 사용되는 데이터(특성 행렬)와 예측에 사용되는 데이터(특성 행렬)에 같은 값을 넣었다.<br>\n",
    "즉, 동일한 데이터로 훈련과 예측을 하니 정확도가 100% 로 나온 것!<br>\n",
    "\n",
    "![notthis](https://d3s0tskafalll9.cloudfront.net/media/images/Untitled_5_1h97C6Y.max-800x600.png)"
   ]
  },
  {
   "cell_type": "markdown",
   "id": "11117a6e",
   "metadata": {},
   "source": [
    "하지만 아래 그림과 같이 훈련에 쓰이는 데이터와 예측에 쓰이는 데이터는 다른 데이터를 사용해야 한다.\n",
    "![this](https://d3s0tskafalll9.cloudfront.net/media/images/Untitled_6_uWp8wos.max-800x600.png)"
   ]
  },
  {
   "cell_type": "markdown",
   "id": "07672f9a",
   "metadata": {},
   "source": [
    "### 훈련 데이터와 테스트 데이터 직접 분리하기\n",
    "\n",
    "보통 훈련 데이터와 테스트 데이터의 비율은 8:2로 설정. 자 그럼 데이터를 나누어 보자."
   ]
  },
  {
   "cell_type": "code",
   "execution_count": null,
   "id": "c166241d",
   "metadata": {},
   "outputs": [],
   "source": [
    "from sklearn.datasets import load_wine\n",
    "data = load_wine()\n",
    "print(data.data.shape)\n",
    "print(data.target.shape)"
   ]
  },
  {
   "cell_type": "markdown",
   "id": "15e6e6e5",
   "metadata": {},
   "source": [
    "전체 데이터의 개수는 178개. <br>\n",
    "8 대 2로 특성 행렬과 타겟 벡터를 나누어 보자. <br>\n",
    "데이터의 개수이므로 정수만 가능. <br>\n",
    "178개의 80%면 142.4이지만 정수로 표현해 142개, 그리고 훈련 데이터는 나머지 36개로 나누어 보자.\n",
    "\n",
    "![split](https://d3s0tskafalll9.cloudfront.net/media/images/Untitled_7_ZPz2Mc9.max-800x600.png)"
   ]
  },
  {
   "cell_type": "code",
   "execution_count": null,
   "id": "c9a88659",
   "metadata": {},
   "outputs": [],
   "source": [
    "# 특성 행렬과 타겟 벡터는 ndarray type이니 numpy의 슬라이싱을 사용\n",
    "X_train = data.data[:142]\n",
    "X_test = data.data[142:]\n",
    "print(X_train.shape, X_test.shape)"
   ]
  },
  {
   "cell_type": "code",
   "execution_count": null,
   "id": "80f96abe",
   "metadata": {},
   "outputs": [],
   "source": [
    "y_train = data.target[:142]\n",
    "y_test = data.target[142:]\n",
    "print(y_train.shape, y_test.shape)"
   ]
  },
  {
   "cell_type": "markdown",
   "id": "1360b1d1",
   "metadata": {},
   "source": [
    "훈련 데이터와 테스트 데이터의 분리가 끝났다. 그럼 다시 훈련과 예측을 해보자."
   ]
  },
  {
   "cell_type": "code",
   "execution_count": null,
   "id": "0c604ee0",
   "metadata": {},
   "outputs": [],
   "source": [
    "from sklearn.ensemble import RandomForestClassifier\n",
    "model = RandomForestClassifier()\n",
    "model.fit(X_train, y_train)"
   ]
  },
  {
   "cell_type": "code",
   "execution_count": null,
   "id": "5f2e6ab6",
   "metadata": {},
   "outputs": [],
   "source": [
    "y_pred = model.predict(X_test)"
   ]
  },
  {
   "cell_type": "code",
   "execution_count": null,
   "id": "c5dcc539",
   "metadata": {},
   "outputs": [],
   "source": [
    "# 정확도 평가\n",
    "from sklearn.metrics import accuracy_score\n",
    "\n",
    "print(\"정답률=\", accuracy_score(y_test, y_pred))"
   ]
  },
  {
   "cell_type": "markdown",
   "id": "566a71a0",
   "metadata": {},
   "source": [
    "### <b>train_test_split() 사용해서 분리하기</b>\n",
    "\n",
    " 훈련 데이터와 테스트 데이터 분리는 필수 기능. <br>\n",
    " 훈련에 쓴 데이터를 예측에 사용하면 항상 정확도는 100%가 나올 것이기 때문.<br>\n",
    " 사이킷런에서는 이 필수 기능을 당연히 API로 제공, <br>\n",
    " 바로 model_selection의 train_test_split() 함수이다."
   ]
  },
  {
   "cell_type": "code",
   "execution_count": null,
   "id": "f65bda0e",
   "metadata": {},
   "outputs": [],
   "source": [
    "from sklearn.model_selection import train_test_split\n",
    "\n",
    "result = train_test_split(X, y, test_size=0.2, random_state=42)"
   ]
  },
  {
   "cell_type": "markdown",
   "id": "aab7ae07",
   "metadata": {},
   "source": [
    "인자로 특성 행렬 X와 타겟 벡터 y를 넣고 테스트 데이터의 비율을 넣어 키워드 인자로 지정해 준다. 20%로 해 보자. <br>\n",
    "그리고 우리는 0번부터 순차적으로 데이터를 분할했는데, 사이킷런은 랜덤하게 데이터를 섞어주는 기능도 있습니다. <br>\n",
    "random_state 인자에 seed 번호를 입력하면 된다. <br>\n",
    "seed 번호는 임의로 결정할 수 있고, 같은 seed 번호를 사용하면 언제든 같은 결과를 얻을 수 있다."
   ]
  },
  {
   "cell_type": "code",
   "execution_count": null,
   "id": "e1b1766d",
   "metadata": {},
   "outputs": [],
   "source": [
    "print(type(result))\n",
    "print(len(result))"
   ]
  },
  {
   "cell_type": "markdown",
   "id": "4a883c4a",
   "metadata": {},
   "source": [
    "train_test_split()은 반환값으로 4개의 원소로 이루어진 list를 반환. (*리스트 원소의 데이터 타입은 array.)"
   ]
  },
  {
   "cell_type": "code",
   "execution_count": null,
   "id": "08bde751",
   "metadata": {},
   "outputs": [],
   "source": [
    "# 각각의 모양 확인\n",
    "\n",
    "result[0].shape"
   ]
  },
  {
   "cell_type": "code",
   "execution_count": null,
   "id": "5a2b3af5",
   "metadata": {},
   "outputs": [],
   "source": [
    "result[1].shape"
   ]
  },
  {
   "cell_type": "code",
   "execution_count": null,
   "id": "4ea7b7c8",
   "metadata": {},
   "outputs": [],
   "source": [
    "result[2].shape"
   ]
  },
  {
   "cell_type": "code",
   "execution_count": null,
   "id": "7b934a8e",
   "metadata": {},
   "outputs": [],
   "source": [
    "result[3].shape"
   ]
  },
  {
   "cell_type": "markdown",
   "id": "c2939a4a",
   "metadata": {},
   "source": [
    " 0번 원소부터 순서대로 <br>\n",
    "훈련 데이터용 특성 행렬, <br>\n",
    "테스트 데이터용 특성 행렬, <br>\n",
    "훈련 데이터용 타겟 벡터, <br>\n",
    "테스트 데이터용 타겟 벡터입니다."
   ]
  },
  {
   "cell_type": "code",
   "execution_count": null,
   "id": "944415ff",
   "metadata": {},
   "outputs": [],
   "source": [
    "# unpacking\n",
    "X_train, X_test, y_train, y_test = train_test_split(X, y, test_size=0.2, random_state=42)"
   ]
  },
  {
   "cell_type": "markdown",
   "id": "7656342f",
   "metadata": {},
   "source": [
    "# Q\n",
    "그럼 앞서 와인 분류 문제의 데이터를 훈련용 데이터셋과 테스트용 데이터셋으로 나눈 뒤 훈련하고 예측하는 전체 코드를 직접 작성해 보세요."
   ]
  },
  {
   "cell_type": "code",
   "execution_count": null,
   "id": "bacbac6b",
   "metadata": {},
   "outputs": [],
   "source": [
    "# 데이터셋 로드하기\n",
    "from sklearn.datasets import load_wine\n",
    "data = load_wine()\n",
    "type(data)\n",
    "\n",
    "# 훈련용 데이터셋 나누기\n",
    "from sklearn.model_selection import train_test_split\n",
    "X_train, X_test, y_train, y_test = train_test_split(data.data, data.target, test_size=0.2, random_state=42)\n",
    "\n",
    "# 훈련하기\n",
    "# 모델 생성, 분류 문제이므로 RandomForestClassifier 사용\n",
    "from sklearn.ensemble import RandomForestClassifier\n",
    "model = RandomForestClassifier()\n",
    "model.fit(X_train, y_train)\n",
    "\n",
    "# 예측하기\n",
    "y_pred = model.predict(X_test)\n",
    "\n",
    "# 정답률 출력하기\n",
    "from sklearn.metrics import accuracy_score\n",
    "\n",
    "print(\"정답률=\", accuracy_score(y_test, y_pred))"
   ]
  },
  {
   "cell_type": "markdown",
   "id": "6d9c40b5",
   "metadata": {},
   "source": [
    "사이킷런에서 핵심이 되는 데이터의 표현법과 Estimator를 이용해 모델을 어떻게 훈련하고 예측하는지 알아보았다.<br>\n",
    "마지막으로 훈련 데이터와 테스트 데이터를 분리하는 방법에 대해서도 학습했다. <br>\n",
    "이 외에도 평가와 관련된 항목들은 metrics 모듈에 들어가 있고, 여기서 언급하진 않았지만 sklearn.preprocessing 모듈 역시 중요한 API 중 하나"
   ]
  },
  {
   "cell_type": "markdown",
   "id": "2385e559",
   "metadata": {},
   "source": [
    "사이킷런 주요 모듈\n",
    "\n",
    "![scikit](https://d3s0tskafalll9.cloudfront.net/media/images/Untitled_8_gdSwRxK.max-800x600.png)"
   ]
  }
 ],
 "metadata": {
  "kernelspec": {
   "display_name": "Python 3 (ipykernel)",
   "language": "python",
   "name": "python3"
  },
  "language_info": {
   "codemirror_mode": {
    "name": "ipython",
    "version": 3
   },
   "file_extension": ".py",
   "mimetype": "text/x-python",
   "name": "python",
   "nbconvert_exporter": "python",
   "pygments_lexer": "ipython3",
   "version": "3.9.7"
  }
 },
 "nbformat": 4,
 "nbformat_minor": 5
}
