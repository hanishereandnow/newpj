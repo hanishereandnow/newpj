{
 "cells": [
  {
   "cell_type": "markdown",
   "id": "c8074022",
   "metadata": {},
   "source": [
    "# 프로젝트: 번역기를 만들어보자\n",
    "## 단어 단위 번역기 만들기: 영어-프랑스어"
   ]
  },
  {
   "cell_type": "code",
   "execution_count": 1,
   "id": "f07a2921",
   "metadata": {},
   "outputs": [
    {
     "name": "stdout",
     "output_type": "stream",
     "text": [
      "2.6.0\n"
     ]
    }
   ],
   "source": [
    "# 주요 라이브러리 버전 확인\n",
    "\n",
    "import tensorflow\n",
    "print(tensorflow.__version__)"
   ]
  },
  {
   "cell_type": "code",
   "execution_count": 2,
   "id": "e3389156",
   "metadata": {},
   "outputs": [],
   "source": [
    "# 모듈 불러오기\n",
    "import pandas as pd\n",
    "from tensorflow.keras.preprocessing.text import Tokenizer\n",
    "from tensorflow.keras.preprocessing.sequence import pad_sequences\n",
    "from tensorflow.keras.utils import to_categorical\n",
    "import numpy as np\n",
    "import os"
   ]
  },
  {
   "cell_type": "markdown",
   "id": "f040f338",
   "metadata": {},
   "source": [
    "학습과 테스트 시의 원활한 진행을 위해서 데이터에서 상위 33,000개의 샘플만 사용하였다. <br>\n",
    "\n",
    "33000개 중 3000개는 테스트 데이터로 분리하여 모델을 학습한 후에 번역을 테스트 하는 용도로 사용"
   ]
  },
  {
   "cell_type": "code",
   "execution_count": 3,
   "id": "b78f2a9c",
   "metadata": {},
   "outputs": [
    {
     "name": "stdout",
     "output_type": "stream",
     "text": [
      "전체 샘플의 수 : 197463\n"
     ]
    },
    {
     "data": {
      "text/html": [
       "<div>\n",
       "<style scoped>\n",
       "    .dataframe tbody tr th:only-of-type {\n",
       "        vertical-align: middle;\n",
       "    }\n",
       "\n",
       "    .dataframe tbody tr th {\n",
       "        vertical-align: top;\n",
       "    }\n",
       "\n",
       "    .dataframe thead th {\n",
       "        text-align: right;\n",
       "    }\n",
       "</style>\n",
       "<table border=\"1\" class=\"dataframe\">\n",
       "  <thead>\n",
       "    <tr style=\"text-align: right;\">\n",
       "      <th></th>\n",
       "      <th>eng</th>\n",
       "      <th>fra</th>\n",
       "      <th>cc</th>\n",
       "    </tr>\n",
       "  </thead>\n",
       "  <tbody>\n",
       "    <tr>\n",
       "      <th>9357</th>\n",
       "      <td>Who thinks so?</td>\n",
       "      <td>Qui partage cet avis ?</td>\n",
       "      <td>CC-BY 2.0 (France) Attribution: tatoeba.org #2...</td>\n",
       "    </tr>\n",
       "    <tr>\n",
       "      <th>161315</th>\n",
       "      <td>All wished each other a Merry Christmas.</td>\n",
       "      <td>Tous se sont souhaités un joyeux Noël.</td>\n",
       "      <td>CC-BY 2.0 (France) Attribution: tatoeba.org #7...</td>\n",
       "    </tr>\n",
       "    <tr>\n",
       "      <th>30029</th>\n",
       "      <td>I made a few calls.</td>\n",
       "      <td>J'ai passé quelques coups de fil.</td>\n",
       "      <td>CC-BY 2.0 (France) Attribution: tatoeba.org #2...</td>\n",
       "    </tr>\n",
       "    <tr>\n",
       "      <th>138783</th>\n",
       "      <td>What are you two conspiring about?</td>\n",
       "      <td>Qu'est-ce que vous complotez tous les deux ?</td>\n",
       "      <td>CC-BY 2.0 (France) Attribution: tatoeba.org #5...</td>\n",
       "    </tr>\n",
       "    <tr>\n",
       "      <th>36877</th>\n",
       "      <td>I'm more than happy.</td>\n",
       "      <td>Je suis plus que content.</td>\n",
       "      <td>CC-BY 2.0 (France) Attribution: tatoeba.org #2...</td>\n",
       "    </tr>\n",
       "  </tbody>\n",
       "</table>\n",
       "</div>"
      ],
      "text/plain": [
       "                                             eng  \\\n",
       "9357                              Who thinks so?   \n",
       "161315  All wished each other a Merry Christmas.   \n",
       "30029                        I made a few calls.   \n",
       "138783        What are you two conspiring about?   \n",
       "36877                       I'm more than happy.   \n",
       "\n",
       "                                                 fra  \\\n",
       "9357                          Qui partage cet avis ?   \n",
       "161315        Tous se sont souhaités un joyeux Noël.   \n",
       "30029              J'ai passé quelques coups de fil.   \n",
       "138783  Qu'est-ce que vous complotez tous les deux ?   \n",
       "36877                      Je suis plus que content.   \n",
       "\n",
       "                                                       cc  \n",
       "9357    CC-BY 2.0 (France) Attribution: tatoeba.org #2...  \n",
       "161315  CC-BY 2.0 (France) Attribution: tatoeba.org #7...  \n",
       "30029   CC-BY 2.0 (France) Attribution: tatoeba.org #2...  \n",
       "138783  CC-BY 2.0 (France) Attribution: tatoeba.org #5...  \n",
       "36877   CC-BY 2.0 (France) Attribution: tatoeba.org #2...  "
      ]
     },
     "execution_count": 3,
     "metadata": {},
     "output_type": "execute_result"
    }
   ],
   "source": [
    "file_path = os.getenv('HOME')+'/aiffel/translator_seq2seq/data/fra.txt'\n",
    "lines = pd.read_csv(file_path, names=['eng', 'fra', 'cc'], sep='\\t')\n",
    "print('전체 샘플의 수 :',len(lines))\n",
    "lines.sample(5) #샘플 5개 출력"
   ]
  },
  {
   "cell_type": "code",
   "execution_count": 4,
   "id": "c94be336",
   "metadata": {},
   "outputs": [
    {
     "data": {
      "text/html": [
       "<div>\n",
       "<style scoped>\n",
       "    .dataframe tbody tr th:only-of-type {\n",
       "        vertical-align: middle;\n",
       "    }\n",
       "\n",
       "    .dataframe tbody tr th {\n",
       "        vertical-align: top;\n",
       "    }\n",
       "\n",
       "    .dataframe thead th {\n",
       "        text-align: right;\n",
       "    }\n",
       "</style>\n",
       "<table border=\"1\" class=\"dataframe\">\n",
       "  <thead>\n",
       "    <tr style=\"text-align: right;\">\n",
       "      <th></th>\n",
       "      <th>eng</th>\n",
       "      <th>fra</th>\n",
       "    </tr>\n",
       "  </thead>\n",
       "  <tbody>\n",
       "    <tr>\n",
       "      <th>32461</th>\n",
       "      <td>Tom almost drowned.</td>\n",
       "      <td>Tom s'est presque noyé.</td>\n",
       "    </tr>\n",
       "    <tr>\n",
       "      <th>28657</th>\n",
       "      <td>Do you want to eat?</td>\n",
       "      <td>Est-ce que vous voulez manger ?</td>\n",
       "    </tr>\n",
       "    <tr>\n",
       "      <th>1207</th>\n",
       "      <td>I'm ready!</td>\n",
       "      <td>Je suis prête !</td>\n",
       "    </tr>\n",
       "    <tr>\n",
       "      <th>10499</th>\n",
       "      <td>I have a cough.</td>\n",
       "      <td>J’ai une toux.</td>\n",
       "    </tr>\n",
       "    <tr>\n",
       "      <th>15314</th>\n",
       "      <td>Let's try again.</td>\n",
       "      <td>Essayons encore une fois.</td>\n",
       "    </tr>\n",
       "  </tbody>\n",
       "</table>\n",
       "</div>"
      ],
      "text/plain": [
       "                       eng                              fra\n",
       "32461  Tom almost drowned.          Tom s'est presque noyé.\n",
       "28657  Do you want to eat?  Est-ce que vous voulez manger ?\n",
       "1207            I'm ready!                  Je suis prête !\n",
       "10499      I have a cough.                   J’ai une toux.\n",
       "15314     Let's try again.        Essayons encore une fois."
      ]
     },
     "execution_count": 4,
     "metadata": {},
     "output_type": "execute_result"
    }
   ],
   "source": [
    "lines = lines[['eng', 'fra']][:33000] # 33,000개 샘플 사용\n",
    "lines.sample(5)"
   ]
  },
  {
   "cell_type": "code",
   "execution_count": 5,
   "id": "ddec1bb7",
   "metadata": {},
   "outputs": [
    {
     "name": "stdout",
     "output_type": "stream",
     "text": [
      "전체 샘플의 수 : 33000\n"
     ]
    },
    {
     "data": {
      "text/html": [
       "<div>\n",
       "<style scoped>\n",
       "    .dataframe tbody tr th:only-of-type {\n",
       "        vertical-align: middle;\n",
       "    }\n",
       "\n",
       "    .dataframe tbody tr th {\n",
       "        vertical-align: top;\n",
       "    }\n",
       "\n",
       "    .dataframe thead th {\n",
       "        text-align: right;\n",
       "    }\n",
       "</style>\n",
       "<table border=\"1\" class=\"dataframe\">\n",
       "  <thead>\n",
       "    <tr style=\"text-align: right;\">\n",
       "      <th></th>\n",
       "      <th>eng</th>\n",
       "      <th>fra</th>\n",
       "    </tr>\n",
       "  </thead>\n",
       "  <tbody>\n",
       "    <tr>\n",
       "      <th>27443</th>\n",
       "      <td>What was your job?</td>\n",
       "      <td>\\t Quel était ton travail ? \\n</td>\n",
       "    </tr>\n",
       "    <tr>\n",
       "      <th>24873</th>\n",
       "      <td>I'm really hungry.</td>\n",
       "      <td>\\t J'ai vraiment faim. \\n</td>\n",
       "    </tr>\n",
       "    <tr>\n",
       "      <th>15395</th>\n",
       "      <td>My cat is black.</td>\n",
       "      <td>\\t Mon chat est noir. \\n</td>\n",
       "    </tr>\n",
       "    <tr>\n",
       "      <th>20455</th>\n",
       "      <td>That isn't a cat.</td>\n",
       "      <td>\\t Ce n'est pas un chat. \\n</td>\n",
       "    </tr>\n",
       "    <tr>\n",
       "      <th>32753</th>\n",
       "      <td>Tom looks relieved.</td>\n",
       "      <td>\\t Tom a l'air soulagé. \\n</td>\n",
       "    </tr>\n",
       "  </tbody>\n",
       "</table>\n",
       "</div>"
      ],
      "text/plain": [
       "                       eng                             fra\n",
       "27443   What was your job?  \\t Quel était ton travail ? \\n\n",
       "24873   I'm really hungry.       \\t J'ai vraiment faim. \\n\n",
       "15395     My cat is black.        \\t Mon chat est noir. \\n\n",
       "20455    That isn't a cat.     \\t Ce n'est pas un chat. \\n\n",
       "32753  Tom looks relieved.      \\t Tom a l'air soulagé. \\n"
      ]
     },
     "execution_count": 5,
     "metadata": {},
     "output_type": "execute_result"
    }
   ],
   "source": [
    "# 시작 토큰과 종료 토큰 추가\n",
    "sos_token = '\\t'\n",
    "eos_token = '\\n'\n",
    "lines.fra = lines.fra.apply(lambda x : '\\t '+ x + ' \\n')\n",
    "print('전체 샘플의 수 :',len(lines))\n",
    "lines.sample(5)"
   ]
  },
  {
   "cell_type": "code",
   "execution_count": 6,
   "id": "2ba40c59",
   "metadata": {},
   "outputs": [],
   "source": [
    "# 구두점 분리\n",
    "# 소문자 바꾸기: 토크나이저에 내장되어있음\n",
    "# 띄어쓰기: 토크나이저에 내장되어 있음"
   ]
  },
  {
   "cell_type": "code",
   "execution_count": 7,
   "id": "b39f8246",
   "metadata": {},
   "outputs": [],
   "source": [
    "import string\n",
    "\n",
    "def pad_punctuation(s): return re.sub(f\"([{string.punctuation}])\", r' \\1 ', s)\n",
    "\n",
    "# 프랑스어 구두점 분리\n",
    "def french_punctuations(s):\n",
    "    s = re.sub('[\\u202f\\u2009\\xa0]', '', s)\n",
    "    s = re.sub('’', \" ' \", s)\n",
    "    s = re.sub('[—––]', ' - ', s)\n",
    "    s = re.sub('[«»]', ' \" ', s)\n",
    "    return s\n",
    "\n",
    "# 참고: https://stackoverflow.com/questions/64125019/how-to-tokenize-punctuations-using-the-tokenizer-function-tensorflow"
   ]
  },
  {
   "cell_type": "code",
   "execution_count": 8,
   "id": "91b5f202",
   "metadata": {},
   "outputs": [
    {
     "data": {
      "text/plain": [
       "50              \\t Bonjour  !  \\n\n",
       "51                \\t Salut  !  \\n\n",
       "52          \\t Je comprends .  \\n\n",
       "53                   \\t Aha .  \\n\n",
       "54            \\t J ' essaye .  \\n\n",
       "55         \\t J ' ai gagné  !  \\n\n",
       "56    \\t Je l ' ai emporté  !  \\n\n",
       "57            \\t J’ai gagné .  \\n\n",
       "58               \\t Oh non  !  \\n\n",
       "59           \\t Calme - toi .  \\n\n",
       "Name: fra, dtype: object"
      ]
     },
     "execution_count": 8,
     "metadata": {},
     "output_type": "execute_result"
    }
   ],
   "source": [
    "import re\n",
    "\n",
    "lines.fra = [pad_punctuation(s) for s in lines.fra]\n",
    "lines.fra[50:60]"
   ]
  },
  {
   "cell_type": "code",
   "execution_count": 9,
   "id": "545a3b30",
   "metadata": {},
   "outputs": [
    {
     "data": {
      "text/plain": [
       "50              \\t Bonjour  !  \\n\n",
       "51                \\t Salut  !  \\n\n",
       "52          \\t Je comprends .  \\n\n",
       "53                   \\t Aha .  \\n\n",
       "54            \\t J ' essaye .  \\n\n",
       "55         \\t J ' ai gagné  !  \\n\n",
       "56    \\t Je l ' ai emporté  !  \\n\n",
       "57          \\t J ' ai gagné .  \\n\n",
       "58               \\t Oh non  !  \\n\n",
       "59           \\t Calme - toi .  \\n\n",
       "Name: fra, dtype: object"
      ]
     },
     "execution_count": 9,
     "metadata": {},
     "output_type": "execute_result"
    }
   ],
   "source": [
    "lines.fra = [french_punctuations(s) for s in lines.fra]\n",
    "lines.fra[50:60]"
   ]
  },
  {
   "cell_type": "code",
   "execution_count": 10,
   "id": "f8e9fa4b",
   "metadata": {},
   "outputs": [
    {
     "data": {
      "text/plain": [
       "0    Go . \n",
       "1    Go . \n",
       "2    Go . \n",
       "3    Go . \n",
       "4    Hi . \n",
       "Name: eng, dtype: object"
      ]
     },
     "execution_count": 10,
     "metadata": {},
     "output_type": "execute_result"
    }
   ],
   "source": [
    "# 구두점 분리된 영어 문장을 뽑아서 확인\n",
    "lines.eng = [pad_punctuation(s) for s in lines.eng]\n",
    "lines.eng.head()"
   ]
  },
  {
   "cell_type": "markdown",
   "id": "77b51820",
   "metadata": {},
   "source": [
    "영어와 프랑스어에 대한 토크나이저를 각각 생성"
   ]
  },
  {
   "cell_type": "code",
   "execution_count": 11,
   "id": "61f21670",
   "metadata": {},
   "outputs": [
    {
     "data": {
      "text/plain": [
       "[[29, 1], [29, 1], [29, 1]]"
      ]
     },
     "execution_count": 11,
     "metadata": {},
     "output_type": "execute_result"
    }
   ],
   "source": [
    "# 텍스트 시퀀스를 정수 시퀀스로 변환하는 정수 인코딩 과정\n",
    "eng_tokenizer = Tokenizer(char_level=False, filters=\"\")   # 단어 단위로 Tokenizer를 생성합니다. \n",
    "eng_tokenizer.fit_on_texts(lines.eng)               # 33,000개의 행을 가진 eng의 각 행에 토큰화를 수행\n",
    "input_text = eng_tokenizer.texts_to_sequences(lines.eng)    # 단어를 숫자값 인덱스로 변환하여 저장\n",
    "input_text[:3]"
   ]
  },
  {
   "cell_type": "code",
   "execution_count": 12,
   "id": "c51df152",
   "metadata": {},
   "outputs": [
    {
     "data": {
      "text/plain": [
       "[[1, 74, 10, 2], [1, 339, 3, 2], [1, 27, 489, 10, 2]]"
      ]
     },
     "execution_count": 12,
     "metadata": {},
     "output_type": "execute_result"
    }
   ],
   "source": [
    "fra_tokenizer = Tokenizer(char_level=False, filters=\"\")   # 단어 단위로 Tokenizer를 생성합니다. \n",
    "fra_tokenizer.fit_on_texts(lines.fra)                 # 33,000개의 행을 가진 fra의 각 행에 토큰화를 수행\n",
    "target_text = fra_tokenizer.texts_to_sequences(lines.fra)     # 단어를 숫자값 인덱스로 변환하여 저장\n",
    "target_text[:3]"
   ]
  },
  {
   "cell_type": "code",
   "execution_count": 13,
   "id": "a168e180",
   "metadata": {},
   "outputs": [
    {
     "name": "stdout",
     "output_type": "stream",
     "text": [
      "영어 단어장의 크기 : 4713\n",
      "프랑스어 단어장의 크기 : 8595\n"
     ]
    }
   ],
   "source": [
    "# 단어장의 크기를 변수로 저장, 0번 토큰을 고려하여 +1\n",
    "eng_vocab_size = len(eng_tokenizer.word_index) + 1\n",
    "fra_vocab_size = len(fra_tokenizer.word_index) + 1\n",
    "print('영어 단어장의 크기 :', eng_vocab_size)\n",
    "print('프랑스어 단어장의 크기 :', fra_vocab_size)"
   ]
  },
  {
   "cell_type": "code",
   "execution_count": 14,
   "id": "c36de60d",
   "metadata": {},
   "outputs": [
    {
     "name": "stdout",
     "output_type": "stream",
     "text": [
      "영어 시퀀스의 최대 길이 10\n",
      "프랑스어 시퀀스의 최대 길이 20\n"
     ]
    }
   ],
   "source": [
    "# 패딩을 위해서 최대 길이 구하기\n",
    "max_eng_seq_len = max([len(line) for line in input_text])\n",
    "max_fra_seq_len = max([len(line) for line in target_text])\n",
    "print('영어 시퀀스의 최대 길이', max_eng_seq_len)\n",
    "print('프랑스어 시퀀스의 최대 길이', max_fra_seq_len)"
   ]
  },
  {
   "cell_type": "code",
   "execution_count": 15,
   "id": "b7c061f4",
   "metadata": {},
   "outputs": [
    {
     "name": "stdout",
     "output_type": "stream",
     "text": [
      "전체 샘플의 수 : 33000\n",
      "영어 단어장의 크기 : 4713\n",
      "프랑스어 단어장의 크기 : 8595\n",
      "영어 시퀀스의 최대 길이 10\n",
      "프랑스어 시퀀스의 최대 길이 20\n"
     ]
    }
   ],
   "source": [
    "# 전체적인 통계 정보 출력\n",
    "print('전체 샘플의 수 :',len(lines))\n",
    "print('영어 단어장의 크기 :', eng_vocab_size)\n",
    "print('프랑스어 단어장의 크기 :', fra_vocab_size)\n",
    "print('영어 시퀀스의 최대 길이', max_eng_seq_len)\n",
    "print('프랑스어 시퀀스의 최대 길이', max_fra_seq_len)"
   ]
  },
  {
   "cell_type": "code",
   "execution_count": 16,
   "id": "195d8fde",
   "metadata": {},
   "outputs": [],
   "source": [
    "encoder_input = input_text\n",
    "\n",
    "# 종료 토큰 제거\n",
    "decoder_input = [[ char for char in line if char != fra_tokenizer.word_index[eos_token] ] for line in target_text] \n",
    "\n",
    "# 시작 토큰 제거\n",
    "decoder_target = [[ char for char in line if char != fra_tokenizer.word_index[sos_token] ] for line in target_text]"
   ]
  },
  {
   "cell_type": "code",
   "execution_count": 17,
   "id": "4b158ef9",
   "metadata": {},
   "outputs": [
    {
     "name": "stdout",
     "output_type": "stream",
     "text": [
      "[[1, 74, 10], [1, 339, 3], [1, 27, 489, 10]]\n",
      "[[74, 10, 2], [339, 3, 2], [27, 489, 10, 2]]\n"
     ]
    }
   ],
   "source": [
    "# 디코더의 입력과 출력 확인\n",
    "print(decoder_input[:3])\n",
    "print(decoder_target[:3])"
   ]
  },
  {
   "cell_type": "markdown",
   "id": "4a51ea2c",
   "metadata": {},
   "source": [
    "padding"
   ]
  },
  {
   "cell_type": "code",
   "execution_count": 18,
   "id": "371a85ce",
   "metadata": {},
   "outputs": [
    {
     "name": "stdout",
     "output_type": "stream",
     "text": [
      "영어 데이터의 크기(shape) : (33000, 10)\n",
      "프랑스어 입력데이터의 크기(shape) : (33000, 20)\n",
      "프랑스어 출력데이터의 크기(shape) : (33000, 20)\n"
     ]
    }
   ],
   "source": [
    "# 모든 샘플들의 길이 동일하게 변환\n",
    "encoder_input = pad_sequences(encoder_input, maxlen = max_eng_seq_len, padding='post')\n",
    "decoder_input = pad_sequences(decoder_input, maxlen = max_fra_seq_len, padding='post')\n",
    "decoder_target = pad_sequences(decoder_target, maxlen = max_fra_seq_len, padding='post')\n",
    "print('영어 데이터의 크기(shape) :',np.shape(encoder_input))\n",
    "print('프랑스어 입력데이터의 크기(shape) :',np.shape(decoder_input))\n",
    "print('프랑스어 출력데이터의 크기(shape) :',np.shape(decoder_target))"
   ]
  },
  {
   "cell_type": "code",
   "execution_count": 19,
   "id": "fc14c1d4",
   "metadata": {
    "scrolled": true
   },
   "outputs": [
    {
     "name": "stdout",
     "output_type": "stream",
     "text": [
      "[29  1  0  0  0  0  0  0  0  0]\n"
     ]
    }
   ],
   "source": [
    "# 인코더의 샘플 출력해보기\n",
    "print(encoder_input[0])"
   ]
  },
  {
   "cell_type": "code",
   "execution_count": 20,
   "id": "e2e26a83",
   "metadata": {},
   "outputs": [
    {
     "name": "stdout",
     "output_type": "stream",
     "text": [
      "영어 학습데이터의 크기(shape) : (33000, 10)\n",
      "프랑스어 학습 입력데이터의 크기(shape) : (33000, 20)\n",
      "프랑스어 학습 출력데이터의 크기(shape) : (33000, 20)\n"
     ]
    }
   ],
   "source": [
    "n_of_val = 3000    # 검증데이터 3000개로 선택\n",
    "\n",
    "encoder_input_train = encoder_input[:-n_of_val]\n",
    "decoder_input_train = decoder_input[:-n_of_val]\n",
    "decoder_target_train = decoder_target[:-n_of_val]\n",
    "\n",
    "encoder_input_test = encoder_input[-n_of_val:]\n",
    "decoder_input_test = decoder_input[-n_of_val:]\n",
    "decoder_target_test = decoder_target[-n_of_val:]\n",
    "\n",
    "print('영어 학습데이터의 크기(shape) :',np.shape(encoder_input))\n",
    "print('프랑스어 학습 입력데이터의 크기(shape) :',np.shape(decoder_input))\n",
    "print('프랑스어 학습 출력데이터의 크기(shape) :',np.shape(decoder_target))"
   ]
  },
  {
   "cell_type": "markdown",
   "id": "93d736b8",
   "metadata": {},
   "source": [
    "임베딩층 사용하기\n",
    "- 입력이 되는 각 단어를 임베딩 층을 사용하여 벡터화\n",
    "- 주의할 점: 인코더와 디코더의 임베딩 층은 서로 다른 임베딩 층을 사용해야 하지만,\n",
    "- 디코더의 훈련 과정과 테스트 과정(예측 과정)에서의 임베딩 층은 동일해야"
   ]
  },
  {
   "cell_type": "code",
   "execution_count": 21,
   "id": "e83087c8",
   "metadata": {},
   "outputs": [],
   "source": [
    "from tensorflow.keras.layers import Input, Embedding, Masking, LSTM\n",
    "\n",
    "# 인코더에서 사용할 임베딩 층 사용\n",
    "encoder_inputs = Input(shape=(None,))\n",
    "enc_emb =  Embedding(eng_vocab_size, 256)(encoder_inputs)\n",
    "encoder_lstm = LSTM(256, return_state=True)\n",
    "encoder_outputs, state_h, state_c = encoder_lstm(enc_emb)\n",
    "encoder_states = [state_h, state_c]"
   ]
  },
  {
   "cell_type": "code",
   "execution_count": 22,
   "id": "f7886e97",
   "metadata": {},
   "outputs": [],
   "source": [
    "from tensorflow.keras.layers import Input, Embedding, Masking\n",
    "\n",
    "# 디코더에서 사용할 임베딩 층 사용\n",
    "decoder_inputs = Input(shape=(None,))\n",
    "dec_emb =  Embedding(fra_vocab_size, 256)(decoder_inputs)\n",
    "decoder_lstm = LSTM(256, return_sequences = True, return_state=True)\n",
    "decoder_outputs, _, _= decoder_lstm(dec_emb, initial_state = encoder_states)"
   ]
  },
  {
   "cell_type": "markdown",
   "id": "00b5cc54",
   "metadata": {},
   "source": [
    "글자 단위 번역기에서 구현한 모델을 참고로 단어 단위 번역기의 모델을 완성"
   ]
  },
  {
   "cell_type": "code",
   "execution_count": 23,
   "id": "9a3305f1",
   "metadata": {},
   "outputs": [
    {
     "name": "stdout",
     "output_type": "stream",
     "text": [
      "⏳\n"
     ]
    }
   ],
   "source": [
    "from tensorflow.keras.layers import Input, LSTM, Embedding, Dense\n",
    "from tensorflow.keras.models import Model\n",
    "\n",
    "print('⏳')"
   ]
  },
  {
   "cell_type": "code",
   "execution_count": 24,
   "id": "355570b0",
   "metadata": {},
   "outputs": [],
   "source": [
    "# 디코더의 출력층\n",
    "decoder_softmax_layer = Dense(fra_vocab_size, activation='softmax')\n",
    "decoder_outputs = decoder_softmax_layer(decoder_outputs)"
   ]
  },
  {
   "cell_type": "code",
   "execution_count": 25,
   "id": "c409abbe",
   "metadata": {},
   "outputs": [
    {
     "name": "stdout",
     "output_type": "stream",
     "text": [
      "Model: \"model\"\n",
      "__________________________________________________________________________________________________\n",
      "Layer (type)                    Output Shape         Param #     Connected to                     \n",
      "==================================================================================================\n",
      "input_1 (InputLayer)            [(None, None)]       0                                            \n",
      "__________________________________________________________________________________________________\n",
      "input_2 (InputLayer)            [(None, None)]       0                                            \n",
      "__________________________________________________________________________________________________\n",
      "embedding (Embedding)           (None, None, 256)    1206528     input_1[0][0]                    \n",
      "__________________________________________________________________________________________________\n",
      "embedding_1 (Embedding)         (None, None, 256)    2200320     input_2[0][0]                    \n",
      "__________________________________________________________________________________________________\n",
      "lstm (LSTM)                     [(None, 256), (None, 525312      embedding[0][0]                  \n",
      "__________________________________________________________________________________________________\n",
      "lstm_1 (LSTM)                   [(None, None, 256),  525312      embedding_1[0][0]                \n",
      "                                                                 lstm[0][1]                       \n",
      "                                                                 lstm[0][2]                       \n",
      "__________________________________________________________________________________________________\n",
      "dense (Dense)                   (None, None, 8595)   2208915     lstm_1[0][0]                     \n",
      "==================================================================================================\n",
      "Total params: 6,666,387\n",
      "Trainable params: 6,666,387\n",
      "Non-trainable params: 0\n",
      "__________________________________________________________________________________________________\n"
     ]
    }
   ],
   "source": [
    "model = Model([encoder_inputs, decoder_inputs], decoder_outputs)\n",
    "model.compile(optimizer=\"rmsprop\", loss=\"sparse_categorical_crossentropy\")    # 원핫인코딩이 아닐 때\n",
    "model.summary()"
   ]
  },
  {
   "cell_type": "code",
   "execution_count": 26,
   "id": "d398bf5d",
   "metadata": {},
   "outputs": [
    {
     "name": "stdout",
     "output_type": "stream",
     "text": [
      "Epoch 1/50\n",
      "118/118 [==============================] - 10s 48ms/step - loss: 1.9352 - val_loss: 1.6235\n",
      "Epoch 2/50\n",
      "118/118 [==============================] - 5s 42ms/step - loss: 1.2549 - val_loss: 1.4182\n",
      "Epoch 3/50\n",
      "118/118 [==============================] - 5s 42ms/step - loss: 1.0640 - val_loss: 1.2812\n",
      "Epoch 4/50\n",
      "118/118 [==============================] - 5s 42ms/step - loss: 0.9492 - val_loss: 1.1948\n",
      "Epoch 5/50\n",
      "118/118 [==============================] - 5s 42ms/step - loss: 0.8650 - val_loss: 1.1161\n",
      "Epoch 6/50\n",
      "118/118 [==============================] - 5s 42ms/step - loss: 0.8013 - val_loss: 1.0705\n",
      "Epoch 7/50\n",
      "118/118 [==============================] - 5s 43ms/step - loss: 0.7509 - val_loss: 1.0501\n",
      "Epoch 8/50\n",
      "118/118 [==============================] - 5s 43ms/step - loss: 0.7076 - val_loss: 1.0192\n",
      "Epoch 9/50\n",
      "118/118 [==============================] - 5s 43ms/step - loss: 0.6683 - val_loss: 0.9942\n",
      "Epoch 10/50\n",
      "118/118 [==============================] - 5s 43ms/step - loss: 0.6329 - val_loss: 0.9759\n",
      "Epoch 11/50\n",
      "118/118 [==============================] - 5s 42ms/step - loss: 0.6010 - val_loss: 0.9532\n",
      "Epoch 12/50\n",
      "118/118 [==============================] - 5s 42ms/step - loss: 0.5720 - val_loss: 0.9496\n",
      "Epoch 13/50\n",
      "118/118 [==============================] - 5s 43ms/step - loss: 0.5456 - val_loss: 0.9276\n",
      "Epoch 14/50\n",
      "118/118 [==============================] - 5s 42ms/step - loss: 0.5210 - val_loss: 0.9210\n",
      "Epoch 15/50\n",
      "118/118 [==============================] - 5s 42ms/step - loss: 0.4977 - val_loss: 0.9058\n",
      "Epoch 16/50\n",
      "118/118 [==============================] - 5s 42ms/step - loss: 0.4753 - val_loss: 0.9044\n",
      "Epoch 17/50\n",
      "118/118 [==============================] - 5s 43ms/step - loss: 0.4541 - val_loss: 0.8938\n",
      "Epoch 18/50\n",
      "118/118 [==============================] - 5s 43ms/step - loss: 0.4346 - val_loss: 0.8892\n",
      "Epoch 19/50\n",
      "118/118 [==============================] - 5s 43ms/step - loss: 0.4160 - val_loss: 0.8877\n",
      "Epoch 20/50\n",
      "118/118 [==============================] - 5s 43ms/step - loss: 0.3980 - val_loss: 0.8865\n",
      "Epoch 21/50\n",
      "118/118 [==============================] - 5s 42ms/step - loss: 0.3809 - val_loss: 0.8780\n",
      "Epoch 22/50\n",
      "118/118 [==============================] - 5s 42ms/step - loss: 0.3647 - val_loss: 0.8791\n",
      "Epoch 23/50\n",
      "118/118 [==============================] - 5s 42ms/step - loss: 0.3487 - val_loss: 0.8757\n",
      "Epoch 24/50\n",
      "118/118 [==============================] - 5s 43ms/step - loss: 0.3336 - val_loss: 0.8833\n",
      "Epoch 25/50\n",
      "118/118 [==============================] - 5s 42ms/step - loss: 0.3192 - val_loss: 0.8862\n",
      "Epoch 26/50\n",
      "118/118 [==============================] - 5s 42ms/step - loss: 0.3061 - val_loss: 0.8831\n",
      "Epoch 27/50\n",
      "118/118 [==============================] - 5s 42ms/step - loss: 0.2933 - val_loss: 0.8754\n",
      "Epoch 28/50\n",
      "118/118 [==============================] - 5s 42ms/step - loss: 0.2814 - val_loss: 0.8769\n",
      "Epoch 29/50\n",
      "118/118 [==============================] - 5s 42ms/step - loss: 0.2702 - val_loss: 0.8867\n",
      "Epoch 30/50\n",
      "118/118 [==============================] - 5s 43ms/step - loss: 0.2593 - val_loss: 0.8883\n",
      "Epoch 31/50\n",
      "118/118 [==============================] - 5s 42ms/step - loss: 0.2491 - val_loss: 0.8869\n"
     ]
    }
   ],
   "source": [
    "from tensorflow.keras.callbacks import EarlyStopping\n",
    "\n",
    "early_stopping = EarlyStopping(patience=4) # add early stopping\n",
    "\n",
    "history = model.fit(x=[encoder_input_train, decoder_input_train], y=decoder_target_train, \\\n",
    "          validation_data = ([encoder_input_test, decoder_input_test], decoder_target_test),\n",
    "          batch_size=256, epochs=50, callbacks=early_stopping)"
   ]
  },
  {
   "cell_type": "markdown",
   "id": "4a7c59c0",
   "metadata": {},
   "source": [
    "모델 평가"
   ]
  },
  {
   "cell_type": "code",
   "execution_count": 27,
   "id": "d8d24763",
   "metadata": {},
   "outputs": [
    {
     "name": "stdout",
     "output_type": "stream",
     "text": [
      "dict_keys(['loss', 'val_loss'])\n"
     ]
    },
    {
     "data": {
      "image/png": "[encoded data removed]",
      "text/plain": [
       "<Figure size 432x288 with 1 Axes>"
      ]
     },
     "metadata": {
      "needs_background": "light"
     },
     "output_type": "display_data"
    }
   ],
   "source": [
    "import matplotlib.pyplot as plt\n",
    "\n",
    "# plot loss\n",
    "history_dict = history.history\n",
    "print(history_dict.keys()) # keys to check parameters for plotting\n",
    "\n",
    "# acc = history_dict['accuracy']\n",
    "# val_acc = history_dict['val_accuracy']\n",
    "loss = history_dict['loss']\n",
    "val_loss = history_dict['val_loss']\n",
    "\n",
    "epochs = range(1, len(loss) + 1)\n",
    "\n",
    "# \"bo\" is \"dotted blue\"\n",
    "plt.plot(epochs, loss, 'bo', label='Training loss')\n",
    "# \"b\" is \"blue line\"\n",
    "plt.plot(epochs, val_loss, 'b', label='Validation loss')\n",
    "plt.title('Training and validation loss')\n",
    "plt.xlabel('Epochs')\n",
    "plt.ylabel('Loss')\n",
    "plt.legend()\n",
    "\n",
    "plt.show()"
   ]
  },
  {
   "cell_type": "code",
   "execution_count": 28,
   "id": "8bd8d94a",
   "metadata": {},
   "outputs": [
    {
     "name": "stdout",
     "output_type": "stream",
     "text": [
      "Model: \"model_1\"\n",
      "_________________________________________________________________\n",
      "Layer (type)                 Output Shape              Param #   \n",
      "=================================================================\n",
      "input_1 (InputLayer)         [(None, None)]            0         \n",
      "_________________________________________________________________\n",
      "embedding (Embedding)        (None, None, 256)         1206528   \n",
      "_________________________________________________________________\n",
      "lstm (LSTM)                  [(None, 256), (None, 256) 525312    \n",
      "=================================================================\n",
      "Total params: 1,731,840\n",
      "Trainable params: 1,731,840\n",
      "Non-trainable params: 0\n",
      "_________________________________________________________________\n"
     ]
    }
   ],
   "source": [
    "# 인코더 정의\n",
    "encoder_model = Model(inputs = encoder_inputs, outputs = encoder_states)\n",
    "encoder_model.summary()"
   ]
  },
  {
   "cell_type": "code",
   "execution_count": 29,
   "id": "1439770b",
   "metadata": {},
   "outputs": [],
   "source": [
    "# 디코더 설계\n",
    "\n",
    "# 이전 time step의 hidden state를 저장하는 텐서\n",
    "decoder_state_input_h = Input(shape=(256,))\n",
    "# 이전 time step의 cell state를 저장하는 텐서\n",
    "decoder_state_input_c = Input(shape=(256,))\n",
    "# 이전 time step의 hidden state와 cell state를 하나의 변수에 저장\n",
    "decoder_states_inputs = [decoder_state_input_h, decoder_state_input_c]\n",
    "\n",
    "# decoder_states_inputs를 현재 time step의 초기 상태로 사용.\n",
    "# 구체적인 동작 자체는 def decode_sequence()에 구현.\n",
    "decoder_outputs, state_h, state_c = decoder_lstm(dec_emb, initial_state = decoder_states_inputs)\n",
    "# 현재 time step의 hidden state와 cell state를 하나의 변수에 저장.\n",
    "decoder_states = [state_h, state_c]"
   ]
  },
  {
   "cell_type": "code",
   "execution_count": 30,
   "id": "bb2415e4",
   "metadata": {},
   "outputs": [
    {
     "name": "stdout",
     "output_type": "stream",
     "text": [
      "Model: \"model_2\"\n",
      "__________________________________________________________________________________________________\n",
      "Layer (type)                    Output Shape         Param #     Connected to                     \n",
      "==================================================================================================\n",
      "input_2 (InputLayer)            [(None, None)]       0                                            \n",
      "__________________________________________________________________________________________________\n",
      "embedding_1 (Embedding)         (None, None, 256)    2200320     input_2[0][0]                    \n",
      "__________________________________________________________________________________________________\n",
      "input_3 (InputLayer)            [(None, 256)]        0                                            \n",
      "__________________________________________________________________________________________________\n",
      "input_4 (InputLayer)            [(None, 256)]        0                                            \n",
      "__________________________________________________________________________________________________\n",
      "lstm_1 (LSTM)                   [(None, None, 256),  525312      embedding_1[0][0]                \n",
      "                                                                 input_3[0][0]                    \n",
      "                                                                 input_4[0][0]                    \n",
      "__________________________________________________________________________________________________\n",
      "dense (Dense)                   (None, None, 8595)   2208915     lstm_1[1][0]                     \n",
      "==================================================================================================\n",
      "Total params: 4,934,547\n",
      "Trainable params: 4,934,547\n",
      "Non-trainable params: 0\n",
      "__________________________________________________________________________________________________\n"
     ]
    }
   ],
   "source": [
    "# 디코더 출력층 재설계\n",
    "decoder_outputs = decoder_softmax_layer(decoder_outputs)\n",
    "decoder_model = Model(inputs=[decoder_inputs] + decoder_states_inputs, outputs=[decoder_outputs] + decoder_states)\n",
    "decoder_model.summary()"
   ]
  },
  {
   "cell_type": "code",
   "execution_count": 31,
   "id": "c3afc0db",
   "metadata": {},
   "outputs": [],
   "source": [
    "# 단어에서 정수로, 정수에서 단어로 바꾸는 사전(dictionary) 준비\n",
    "eng2idx = eng_tokenizer.word_index\n",
    "fra2idx = fra_tokenizer.word_index\n",
    "idx2eng = eng_tokenizer.index_word\n",
    "idx2fra = fra_tokenizer.index_word"
   ]
  },
  {
   "cell_type": "code",
   "execution_count": 32,
   "id": "e8121277",
   "metadata": {},
   "outputs": [],
   "source": [
    "def decode_sequence(input_seq):\n",
    "    # 입력으로부터 인코더의 상태를 얻음\n",
    "    states_value = encoder_model.predict(input_seq)\n",
    "\n",
    "    # 에 해당하는 원-핫 벡터 생성\n",
    "    target_seq = np.zeros((1,1)) \n",
    "    target_seq[0, 0] = fra2idx['\\t']\n",
    "    \n",
    "    stop_condition = False\n",
    "    decoded_sentence = \"\"\n",
    "\n",
    "    # stop_condition이 True가 될 때까지 루프 반복\n",
    "    while not stop_condition:\n",
    "        # 이점 시점의 상태 states_value를 현 시점의 초기 상태로 사용\n",
    "        output_tokens, h, c = decoder_model.predict([target_seq] + states_value)\n",
    "\n",
    "        # 예측 결과를 문자로 변환\n",
    "        sampled_token_index = np.argmax(output_tokens[0, -1, :])\n",
    "        sampled_char = idx2fra[sampled_token_index]\n",
    "\n",
    "        # 현재 시점의 예측 문자를 예측 문장에 추가\n",
    "        decoded_sentence += ' '+sampled_char\n",
    "\n",
    "        # 에 도달하거나 최대 길이를 넘으면 중단.\n",
    "        if (sampled_char == '\\n' or\n",
    "           len(decoded_sentence) > max_fra_seq_len):\n",
    "            stop_condition = True\n",
    "\n",
    "        # 현재 시점의 예측 결과를 다음 시점의 입력으로 사용하기 위해 저장     \n",
    "        target_seq = np.zeros((1, 1))\n",
    "        target_seq[0, 0] = sampled_token_index\n",
    "\n",
    "        # 현재 시점의 상태를 다음 시점의 상태로 사용하기 위해 저장\n",
    "        states_value = [h, c]\n",
    "\n",
    "    return decoded_sentence"
   ]
  },
  {
   "cell_type": "code",
   "execution_count": 33,
   "id": "925b6e5c",
   "metadata": {},
   "outputs": [
    {
     "name": "stdout",
     "output_type": "stream",
     "text": [
      "-----------------------------------\n",
      "입력 문장: Go . \n",
      "정답 문장:  Bouge  !  \n",
      "번역기가 번역한 문장:  va ! \n",
      "-----------------------------------\n",
      "입력 문장: Hello ! \n",
      "정답 문장:  Bonjour  !  \n",
      "번역기가 번역한 문장:  bonjour ! \n",
      "-----------------------------------\n",
      "입력 문장: Got it ? \n",
      "정답 문장:  T ' as capté ?  \n",
      "번역기가 번역한 문장:  cela a - t - il l ' ai\n",
      "-----------------------------------\n",
      "입력 문장: Hang on . \n",
      "정답 문장:  Tiens bon  !  \n",
      "번역기가 번역한 문장:  attendez . \n",
      "-----------------------------------\n",
      "입력 문장: Here ' s  $ 5 . \n",
      "정답 문장:  Voilà cinq dollars .  \n",
      "번역기가 번역한 문장:  voici aux règles . \n"
     ]
    }
   ],
   "source": [
    "# 임의의 샘플 입력하여 출력 결과 테스트\n",
    "import numpy as np\n",
    "for seq_index in [3,50,100,300,1001]: # 입력 문장의 인덱스 (자유롭게 선택해 보세요)\n",
    "    input_seq = encoder_input[seq_index: seq_index + 1]\n",
    "    decoded_sentence = decode_sequence(input_seq)\n",
    "    print(35 * \"-\")\n",
    "    print('입력 문장:', lines.eng[seq_index])\n",
    "    print('정답 문장:', lines.fra[seq_index][1:len(lines.fra[seq_index])-1]) # '\\t'와 '\\n'을 빼고 출력\n",
    "    print('번역기가 번역한 문장:', decoded_sentence[:len(decoded_sentence)-1]) # '\\n'을 빼고 출력"
   ]
  },
  {
   "cell_type": "markdown",
   "id": "a68741f7",
   "metadata": {},
   "source": [
    "<회고> <br>\n",
    "영어-프랑스어 번역기를 만들어보았다\n",
    "- 관련 데이터 전처리 진행\n",
    "- seq2seq 모델 사용\n",
    "- 번역문 생성\n",
    "\n",
    "순으로 진행하였다.<br>\n",
    "\n",
    "- 아직 전반적인 과정과 코드 구현에 익숙지가 않아서 꽤나 애를 먹었다. 다른 분들의 도움을 많이 받음.\n",
    "- 개념을 어렴풋이 갖고 있는 것을 코드 쳐보는 것으로 많이 연습해봐야 할 것 같다는 생각이 든다.\n",
    "\n",
    "- 번역기는 크게 정확도가 높지는 않은 것으로 보인다. 정확도를 올리기 위해 파라미터 조정이 많이 필요할 것으로 보인다."
   ]
  }
 ],
 "metadata": {
  "kernelspec": {
   "display_name": "Python 3 (ipykernel)",
   "language": "python",
   "name": "python3"
  },
  "language_info": {
   "codemirror_mode": {
    "name": "ipython",
    "version": 3
   },
   "file_extension": ".py",
   "mimetype": "text/x-python",
   "name": "python",
   "nbconvert_exporter": "python",
   "pygments_lexer": "ipython3",
   "version": "3.9.7"
  }
 },
 "nbformat": 4,
 "nbformat_minor": 5
}
