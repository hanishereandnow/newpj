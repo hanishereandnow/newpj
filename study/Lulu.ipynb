{
 "cells": [
  {
   "cell_type": "markdown",
   "id": "b78704b1",
   "metadata": {},
   "source": [
    "# Lululemon 주식차트 만들기\n",
    "### 기간: 2020. 09. 01 ~ 2022. 09. 01 (2년)\n",
    "### 기준: Close열(종가)"
   ]
  },
  {
   "cell_type": "code",
   "execution_count": null,
   "id": "07ae624e",
   "metadata": {},
   "outputs": [],
   "source": [
    "import numpy as np\n",
    "import pandas as pd\n",
    "import matplotlib as mpl\n",
    "import matplotlib.pyplot as plt\n",
    "%matplotlib inline    \n",
    "# 생략해도 괜찮지만 써주는 것이 좋다\n",
    "import seaborn as sns"
   ]
  },
  {
   "cell_type": "markdown",
   "id": "5c14486d",
   "metadata": {},
   "source": [
    "### Dataframe 사용하기"
   ]
  },
  {
   "cell_type": "code",
   "execution_count": null,
   "id": "b43e92a3",
   "metadata": {},
   "outputs": [],
   "source": [
    "# Dataframe\n",
    "# lulu 파일을 불러와 lulu 이름으로 할당\n",
    "luludf = pd.read_csv('~/aiffel/data_analysis_basic/data/LULU.csv')\n",
    "\n",
    "# 할당된 lulu 변수 호출\n",
    "luludf"
   ]
  },
  {
   "cell_type": "code",
   "execution_count": null,
   "id": "00a777a4",
   "metadata": {},
   "outputs": [],
   "source": [
    "# Close 최솟값\n",
    "lulumin = luludf['Close'].min()\n",
    "lulumin"
   ]
  },
  {
   "cell_type": "code",
   "execution_count": null,
   "id": "5f30457d",
   "metadata": {},
   "outputs": [],
   "source": [
    "# Close 최솟값 인덱스 찾기\n",
    "idxmin = luludf['Close'].idxmin()\n",
    "idxmin"
   ]
  },
  {
   "cell_type": "code",
   "execution_count": null,
   "id": "7991d1e6",
   "metadata": {},
   "outputs": [],
   "source": [
    "# Close 최솟값이 있는 인덱스 정보 확인\n",
    "luludf.loc[idxmin]"
   ]
  },
  {
   "cell_type": "code",
   "execution_count": null,
   "id": "d2093f03",
   "metadata": {},
   "outputs": [],
   "source": [
    "# Close 최댓값\n",
    "lulumax = luludf['Close'].max()\n",
    "lulumax"
   ]
  },
  {
   "cell_type": "code",
   "execution_count": null,
   "id": "96c82fa5",
   "metadata": {},
   "outputs": [],
   "source": [
    "# Close 최댓값 인덱스 찾기\n",
    "idxmax = luludf['Close'].idxmax()\n",
    "idxmax"
   ]
  },
  {
   "cell_type": "code",
   "execution_count": null,
   "id": "2af486d5",
   "metadata": {},
   "outputs": [],
   "source": [
    "# Close 최댓값이 있는 인덱스 정보 확인\n",
    "luludf.loc[idxmax]"
   ]
  },
  {
   "cell_type": "code",
   "execution_count": null,
   "id": "4969a717",
   "metadata": {},
   "outputs": [],
   "source": [
    "# Close 평균값\n",
    "lulumean = luludf['Close'].mean()"
   ]
  },
  {
   "cell_type": "markdown",
   "id": "0e5a983e",
   "metadata": {},
   "source": [
    "### Matplotlib 사용하기"
   ]
  },
  {
   "cell_type": "code",
   "execution_count": null,
   "id": "9a8080ad",
   "metadata": {},
   "outputs": [],
   "source": [
    "from datetime import datetime\n",
    "import os\n",
    "\n",
    "# 그래프 데이터 \n",
    "csv_path = os.getenv(\"HOME\") + \"/aiffel/data_analysis_basic/data/LULU.csv\"\n",
    "data = pd.read_csv(csv_path ,index_col=0, parse_dates=True)\n",
    "price = data['Close']\n",
    "\n",
    "# 축 그리기 및 좌표축 설정\n",
    "fig = plt.figure(figsize=(9, 5))\n",
    "ax = fig.add_subplot(1,1,1)\n",
    "price.plot(ax=ax, style='blue', alpha=0.3)\n",
    "plt.ylim([200,500])\n",
    "plt.xlim(['2020-09-01','2022-09-01'])\n",
    "\n",
    "# 주석달기\n",
    "dLow = datetime(2022, 5, 24)\n",
    "dPeak = datetime(2021,11,16)\n",
    "\n",
    "ax.annotate(\"Low Price\", xy=(dLow, price.asof(dLow)-5), xytext=(dLow, price.asof(dLow)-50), arrowprops=dict(facecolor='red')) # 최저점 주석 달기\n",
    "ax.annotate(\"Peak Price\", xy=(dPeak, price.asof(dPeak)-30), xytext=(dPeak, price.asof(dPeak)-100), arrowprops=dict(facecolor='red')) # 최고점 주석 달기\n",
    "\n",
    "# 그리드, 타이틀 달기\n",
    "plt.grid()\n",
    "ax.set_title('Lululemon StockPrice')\n",
    "\n",
    "# 보여주기\n",
    "plt.show()"
   ]
  },
  {
   "cell_type": "markdown",
   "id": "56b60a4d",
   "metadata": {},
   "source": [
    "### Seaborn 사용하기"
   ]
  },
  {
   "cell_type": "code",
   "execution_count": null,
   "id": "acc9175f",
   "metadata": {},
   "outputs": [],
   "source": [
    "sns.scatterplot(data=luludf , x='Date', y='Close', palette=\"ch:r=-.2,d=.3_r\")"
   ]
  }
 ],
 "metadata": {
  "kernelspec": {
   "display_name": "Python 3 (ipykernel)",
   "language": "python",
   "name": "python3"
  },
  "language_info": {
   "codemirror_mode": {
    "name": "ipython",
    "version": 3
   },
   "file_extension": ".py",
   "mimetype": "text/x-python",
   "name": "python",
   "nbconvert_exporter": "python",
   "pygments_lexer": "ipython3",
   "version": "3.9.7"
  }
 },
 "nbformat": 4,
 "nbformat_minor": 5
}
