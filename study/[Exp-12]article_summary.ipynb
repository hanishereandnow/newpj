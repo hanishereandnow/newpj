{
 "cells": [
  {
   "cell_type": "markdown",
   "metadata": {
    "id": "4KDyUJUFXkeo"
   },
   "source": [
    "# 뉴스 기사 요약해보기"
   ]
  },
  {
   "cell_type": "markdown",
   "metadata": {
    "id": "3_9v_PsBXimK"
   },
   "source": [
    "<어텐션 메커니즘(Attention Mechanism)>\n",
    "- seq2seq는 인코더의 마지막 time step의 hidden state를 컨텍스트 벡터로 사용\n",
    "- 하지만 RNN 계열의 인공 신경망(바닐라 RNN, LSTM, GRU)의 한계로 인해 이 컨텍스트 정보에는 이미 입력 시퀀스의 많은 정보가 손실이 된 상태가 된다\n",
    "- 어텐션 메커니즘은 인코더의 모든 step의 hidden state의 정보가 컨텍스트 벡터에 전부 반영되도록 한다\n",
    "- 디코더의 현재 time step에 예측에 인코더의 각 step이 얼마나 영향을 미치는지에 따른 가중합으로 계산되는 방식\n",
    "- 인코더 hidden state의 가중치 값은 디코더의 현재 스텝이 어디냐에 따라 계속 달라진다\n",
    "> 사용방법\n",
    "    - seq2seq 사용\n",
    "    - RNN 계열 중 LSTM을 사용하므로 hidden state 뿐만 아니라 cell state도 사용\n",
    "    - 디코더의 예측 시퀀스에는 시작 토큰 SOS와 예측 토큰 EOS를 시퀀스의 앞, 뒤로 붙인다\n",
    "    - seq2seq를 구동시키면 디코더는 시작 토큰을 입력받아 예측을 시작\n",
    "    - seq2seq 기본 모델과 달리, 어텐션 메커니즘을 이용해 인코더의 hidden state의 중요도를 취합한 컨텍스트 벡터를 디코더 스텝 별로 계산\n",
    "    - 계산된 컨텍스트 벡터를 통해서 디코더는 다음에 등장할 단어를 예측"
   ]
  },
  {
   "cell_type": "code",
   "execution_count": 1,
   "metadata": {
    "colab": {
     "base_uri": "https://localhost:8080/"
    },
    "id": "cPOtev2DB_4i",
    "outputId": "ef5fddc7-09d2-4d6f-ba3f-dc027e9db1d2"
   },
   "outputs": [
    {
     "name": "stderr",
     "output_type": "stream",
     "text": [
      "[nltk_data] Downloading package stopwords to /aiffel/nltk_data...\n",
      "[nltk_data]   Package stopwords is already up-to-date!\n"
     ]
    }
   ],
   "source": [
    "import nltk\n",
    "nltk.download('stopwords')\n",
    "\n",
    "import numpy as np\n",
    "import pandas as pd\n",
    "import os\n",
    "import re\n",
    "import matplotlib.pyplot as plt\n",
    "from nltk.corpus import stopwords\n",
    "from bs4 import BeautifulSoup \n",
    "from tensorflow.keras.preprocessing.text import Tokenizer \n",
    "from tensorflow.keras.preprocessing.sequence import pad_sequences\n",
    "import urllib.request\n",
    "import warnings\n",
    "warnings.filterwarnings(\"ignore\", category=UserWarning, module='bs4')\n",
    "import summa"
   ]
  },
  {
   "cell_type": "markdown",
   "metadata": {
    "id": "yxql0YaKEl0v"
   },
   "source": [
    "## STEP 1. 데이터 수집하기"
   ]
  },
  {
   "cell_type": "code",
   "execution_count": 2,
   "metadata": {
    "id": "8CfGwX4AEo0x"
   },
   "outputs": [],
   "source": [
    "import urllib.request\n",
    "urllib.request.urlretrieve(\"https://raw.githubusercontent.com/sunnysai12345/News_Summary/master/news_summary_more.csv\", filename=\"news_summary_more.csv\")\n",
    "data = pd.read_csv('news_summary_more.csv', encoding='iso-8859-1')"
   ]
  },
  {
   "cell_type": "code",
   "execution_count": 3,
   "metadata": {
    "colab": {
     "base_uri": "https://localhost:8080/"
    },
    "id": "OtsiBGxbEq04",
    "outputId": "bdcbfd88-e523-40f9-aa5e-a3117e8572cb"
   },
   "outputs": [
    {
     "name": "stdout",
     "output_type": "stream",
     "text": [
      "전체 샘플 수: 98401\n"
     ]
    }
   ],
   "source": [
    "print(\"전체 샘플 수:\", len(data))"
   ]
  },
  {
   "cell_type": "code",
   "execution_count": 4,
   "metadata": {
    "colab": {
     "base_uri": "https://localhost:8080/",
     "height": 363
    },
    "id": "BJKb7C-DErkV",
    "outputId": "352e93ad-9632-4059-8bc0-18f30f4c4ff1"
   },
   "outputs": [
    {
     "data": {
      "text/html": [
       "<div>\n",
       "<style scoped>\n",
       "    .dataframe tbody tr th:only-of-type {\n",
       "        vertical-align: middle;\n",
       "    }\n",
       "\n",
       "    .dataframe tbody tr th {\n",
       "        vertical-align: top;\n",
       "    }\n",
       "\n",
       "    .dataframe thead th {\n",
       "        text-align: right;\n",
       "    }\n",
       "</style>\n",
       "<table border=\"1\" class=\"dataframe\">\n",
       "  <thead>\n",
       "    <tr style=\"text-align: right;\">\n",
       "      <th></th>\n",
       "      <th>headlines</th>\n",
       "      <th>text</th>\n",
       "    </tr>\n",
       "  </thead>\n",
       "  <tbody>\n",
       "    <tr>\n",
       "      <th>0</th>\n",
       "      <td>upGrad learner switches to career in ML &amp; Al w...</td>\n",
       "      <td>Saurav Kant, an alumnus of upGrad and IIIT-B's...</td>\n",
       "    </tr>\n",
       "    <tr>\n",
       "      <th>1</th>\n",
       "      <td>Delhi techie wins free food from Swiggy for on...</td>\n",
       "      <td>Kunal Shah's credit card bill payment platform...</td>\n",
       "    </tr>\n",
       "    <tr>\n",
       "      <th>2</th>\n",
       "      <td>New Zealand end Rohit Sharma-led India's 12-ma...</td>\n",
       "      <td>New Zealand defeated India by 8 wickets in the...</td>\n",
       "    </tr>\n",
       "    <tr>\n",
       "      <th>3</th>\n",
       "      <td>Aegon life iTerm insurance plan helps customer...</td>\n",
       "      <td>With Aegon Life iTerm Insurance plan, customer...</td>\n",
       "    </tr>\n",
       "    <tr>\n",
       "      <th>4</th>\n",
       "      <td>Have known Hirani for yrs, what if MeToo claim...</td>\n",
       "      <td>Speaking about the sexual harassment allegatio...</td>\n",
       "    </tr>\n",
       "    <tr>\n",
       "      <th>5</th>\n",
       "      <td>Rahat Fateh Ali Khan denies getting notice for...</td>\n",
       "      <td>Pakistani singer Rahat Fateh Ali Khan has deni...</td>\n",
       "    </tr>\n",
       "    <tr>\n",
       "      <th>6</th>\n",
       "      <td>India get all out for 92, their lowest ODI tot...</td>\n",
       "      <td>India recorded their lowest ODI total in New Z...</td>\n",
       "    </tr>\n",
       "    <tr>\n",
       "      <th>7</th>\n",
       "      <td>Govt directs Alok Verma to join work 1 day bef...</td>\n",
       "      <td>Weeks after ex-CBI Director Alok Verma told th...</td>\n",
       "    </tr>\n",
       "    <tr>\n",
       "      <th>8</th>\n",
       "      <td>Called PM Modi 'sir' 10 times to satisfy his e...</td>\n",
       "      <td>Andhra Pradesh CM N Chandrababu Naidu has said...</td>\n",
       "    </tr>\n",
       "    <tr>\n",
       "      <th>9</th>\n",
       "      <td>Cong wins Ramgarh bypoll in Rajasthan, takes t...</td>\n",
       "      <td>Congress candidate Shafia Zubair won the Ramga...</td>\n",
       "    </tr>\n",
       "  </tbody>\n",
       "</table>\n",
       "</div>"
      ],
      "text/plain": [
       "                                           headlines  \\\n",
       "0  upGrad learner switches to career in ML & Al w...   \n",
       "1  Delhi techie wins free food from Swiggy for on...   \n",
       "2  New Zealand end Rohit Sharma-led India's 12-ma...   \n",
       "3  Aegon life iTerm insurance plan helps customer...   \n",
       "4  Have known Hirani for yrs, what if MeToo claim...   \n",
       "5  Rahat Fateh Ali Khan denies getting notice for...   \n",
       "6  India get all out for 92, their lowest ODI tot...   \n",
       "7  Govt directs Alok Verma to join work 1 day bef...   \n",
       "8  Called PM Modi 'sir' 10 times to satisfy his e...   \n",
       "9  Cong wins Ramgarh bypoll in Rajasthan, takes t...   \n",
       "\n",
       "                                                text  \n",
       "0  Saurav Kant, an alumnus of upGrad and IIIT-B's...  \n",
       "1  Kunal Shah's credit card bill payment platform...  \n",
       "2  New Zealand defeated India by 8 wickets in the...  \n",
       "3  With Aegon Life iTerm Insurance plan, customer...  \n",
       "4  Speaking about the sexual harassment allegatio...  \n",
       "5  Pakistani singer Rahat Fateh Ali Khan has deni...  \n",
       "6  India recorded their lowest ODI total in New Z...  \n",
       "7  Weeks after ex-CBI Director Alok Verma told th...  \n",
       "8  Andhra Pradesh CM N Chandrababu Naidu has said...  \n",
       "9  Congress candidate Shafia Zubair won the Ramga...  "
      ]
     },
     "execution_count": 4,
     "metadata": {},
     "output_type": "execute_result"
    }
   ],
   "source": [
    "data.head(10)"
   ]
  },
  {
   "cell_type": "code",
   "execution_count": 5,
   "metadata": {
    "colab": {
     "base_uri": "https://localhost:8080/",
     "height": 363
    },
    "id": "JMFnfLo4Erh9",
    "outputId": "bc2fae8a-0bc0-4a7c-b951-48d0a8c45412"
   },
   "outputs": [
    {
     "data": {
      "text/html": [
       "<div>\n",
       "<style scoped>\n",
       "    .dataframe tbody tr th:only-of-type {\n",
       "        vertical-align: middle;\n",
       "    }\n",
       "\n",
       "    .dataframe tbody tr th {\n",
       "        vertical-align: top;\n",
       "    }\n",
       "\n",
       "    .dataframe thead th {\n",
       "        text-align: right;\n",
       "    }\n",
       "</style>\n",
       "<table border=\"1\" class=\"dataframe\">\n",
       "  <thead>\n",
       "    <tr style=\"text-align: right;\">\n",
       "      <th></th>\n",
       "      <th>headlines</th>\n",
       "      <th>text</th>\n",
       "    </tr>\n",
       "  </thead>\n",
       "  <tbody>\n",
       "    <tr>\n",
       "      <th>35570</th>\n",
       "      <td>Kathua rape horrific, hope accused brought to ...</td>\n",
       "      <td>When asked about UN Secretary-General AntÃÂ³n...</td>\n",
       "    </tr>\n",
       "    <tr>\n",
       "      <th>35200</th>\n",
       "      <td>Helicopters deployed to look for lost dogs in ...</td>\n",
       "      <td>Helicopters and thermal imaging equipment are ...</td>\n",
       "    </tr>\n",
       "    <tr>\n",
       "      <th>41361</th>\n",
       "      <td>Sonakshi to make a cameo in 'Yamla Pagla Deewa...</td>\n",
       "      <td>Actress Sonakshi Sinha will be making a cameo ...</td>\n",
       "    </tr>\n",
       "    <tr>\n",
       "      <th>21546</th>\n",
       "      <td>US researchers discover new molecular properti...</td>\n",
       "      <td>In a first, New York University scientists hav...</td>\n",
       "    </tr>\n",
       "    <tr>\n",
       "      <th>31154</th>\n",
       "      <td>KKR Captain asked me to smile as I was sad abo...</td>\n",
       "      <td>Post Kolkata Knight Rider's victory over Kings...</td>\n",
       "    </tr>\n",
       "    <tr>\n",
       "      <th>32822</th>\n",
       "      <td>BCCI denies nominating Dravid for Dronacharya ...</td>\n",
       "      <td>The BCCI has reportedly denied that it recomme...</td>\n",
       "    </tr>\n",
       "    <tr>\n",
       "      <th>39884</th>\n",
       "      <td>SpaceX launches communications satellite on Fa...</td>\n",
       "      <td>Elon Musk-led space exploration startup SpaceX...</td>\n",
       "    </tr>\n",
       "    <tr>\n",
       "      <th>20681</th>\n",
       "      <td>WhatsApp must have grievance officer in India:...</td>\n",
       "      <td>Union IT Minister Ravi Shankar Prasad met What...</td>\n",
       "    </tr>\n",
       "    <tr>\n",
       "      <th>78358</th>\n",
       "      <td>US first cannot mean Europe last: EU Prez on U...</td>\n",
       "      <td>After US House of Representatives approved fre...</td>\n",
       "    </tr>\n",
       "    <tr>\n",
       "      <th>1794</th>\n",
       "      <td>It wasnÃ¢ÂÂt against the rules: Gilchrist on...</td>\n",
       "      <td>Former Australian wicket-keeper Adam Gilchrist...</td>\n",
       "    </tr>\n",
       "  </tbody>\n",
       "</table>\n",
       "</div>"
      ],
      "text/plain": [
       "                                               headlines  \\\n",
       "35570  Kathua rape horrific, hope accused brought to ...   \n",
       "35200  Helicopters deployed to look for lost dogs in ...   \n",
       "41361  Sonakshi to make a cameo in 'Yamla Pagla Deewa...   \n",
       "21546  US researchers discover new molecular properti...   \n",
       "31154  KKR Captain asked me to smile as I was sad abo...   \n",
       "32822  BCCI denies nominating Dravid for Dronacharya ...   \n",
       "39884  SpaceX launches communications satellite on Fa...   \n",
       "20681  WhatsApp must have grievance officer in India:...   \n",
       "78358  US first cannot mean Europe last: EU Prez on U...   \n",
       "1794   It wasnÃ¢ÂÂt against the rules: Gilchrist on...   \n",
       "\n",
       "                                                    text  \n",
       "35570  When asked about UN Secretary-General AntÃÂ³n...  \n",
       "35200  Helicopters and thermal imaging equipment are ...  \n",
       "41361  Actress Sonakshi Sinha will be making a cameo ...  \n",
       "21546  In a first, New York University scientists hav...  \n",
       "31154  Post Kolkata Knight Rider's victory over Kings...  \n",
       "32822  The BCCI has reportedly denied that it recomme...  \n",
       "39884  Elon Musk-led space exploration startup SpaceX...  \n",
       "20681  Union IT Minister Ravi Shankar Prasad met What...  \n",
       "78358  After US House of Representatives approved fre...  \n",
       "1794   Former Australian wicket-keeper Adam Gilchrist...  "
      ]
     },
     "execution_count": 5,
     "metadata": {},
     "output_type": "execute_result"
    }
   ],
   "source": [
    "data.sample(10)"
   ]
  },
  {
   "cell_type": "markdown",
   "metadata": {
    "id": "-W9SBvqLeC7D"
   },
   "source": [
    "### 중복 샘플과 NULL 값이 존재하는 샘플 제거"
   ]
  },
  {
   "cell_type": "code",
   "execution_count": 6,
   "metadata": {
    "colab": {
     "base_uri": "https://localhost:8080/"
    },
    "id": "jC6oqaUgErfS",
    "outputId": "167777d7-ca73-4b99-94bc-cdf309ebb0d4"
   },
   "outputs": [
    {
     "name": "stdout",
     "output_type": "stream",
     "text": [
      "headlines 열에서 중복을 배제한 유일한 샘플의 수 : 98280\n",
      "text 열에서 중복을 배제한 유일한 샘플의 수 : 98360\n"
     ]
    }
   ],
   "source": [
    "print('headlines 열에서 중복을 배제한 유일한 샘플의 수 :', data['headlines'].nunique())\n",
    "print('text 열에서 중복을 배제한 유일한 샘플의 수 :', data['text'].nunique())"
   ]
  },
  {
   "cell_type": "code",
   "execution_count": 7,
   "metadata": {
    "colab": {
     "base_uri": "https://localhost:8080/"
    },
    "id": "K8A8C-WAErct",
    "outputId": "724da667-07cb-4482-c6d5-218c1c21d536"
   },
   "outputs": [
    {
     "name": "stdout",
     "output_type": "stream",
     "text": [
      "전체 샘플수 : 98360\n"
     ]
    }
   ],
   "source": [
    "# inplace=True 를 설정하면 DataFrame 타입 값을 return 하지 않고 data 내부를 직접적으로 바꿉니다\n",
    "data.drop_duplicates(subset = ['text'], inplace=True)\n",
    "print('전체 샘플수 :', (len(data)))"
   ]
  },
  {
   "cell_type": "code",
   "execution_count": 8,
   "metadata": {
    "colab": {
     "base_uri": "https://localhost:8080/"
    },
    "id": "Q2nRzCjoEraI",
    "outputId": "a3664aa2-0757-4be3-97e5-f0f33b93bf54"
   },
   "outputs": [
    {
     "name": "stdout",
     "output_type": "stream",
     "text": [
      "전체 샘플수 : 98360\n"
     ]
    }
   ],
   "source": [
    "data.dropna(axis=0, inplace=True)\n",
    "print('전체 샘플수 :', (len(data)))"
   ]
  },
  {
   "cell_type": "markdown",
   "metadata": {
    "id": "hgNinrYeeG3b"
   },
   "source": [
    "### 텍스트 정규화와 불용어 제거"
   ]
  },
  {
   "cell_type": "code",
   "execution_count": 9,
   "metadata": {
    "colab": {
     "base_uri": "https://localhost:8080/"
    },
    "id": "IcDWcc9zExFm",
    "outputId": "6d319f73-c612-42a5-ac63-1aecb261ca6d"
   },
   "outputs": [
    {
     "name": "stdout",
     "output_type": "stream",
     "text": [
      "정규화 사전의 수:  120\n"
     ]
    }
   ],
   "source": [
    "contractions = {\"ain't\": \"is not\", \"aren't\": \"are not\",\"can't\": \"cannot\", \"'cause\": \"because\", \"could've\": \"could have\", \"couldn't\": \"could not\",\n",
    "                           \"didn't\": \"did not\",  \"doesn't\": \"does not\", \"don't\": \"do not\", \"hadn't\": \"had not\", \"hasn't\": \"has not\", \"haven't\": \"have not\",\n",
    "                           \"he'd\": \"he would\",\"he'll\": \"he will\", \"he's\": \"he is\", \"how'd\": \"how did\", \"how'd'y\": \"how do you\", \"how'll\": \"how will\", \"how's\": \"how is\",\n",
    "                           \"I'd\": \"I would\", \"I'd've\": \"I would have\", \"I'll\": \"I will\", \"I'll've\": \"I will have\",\"I'm\": \"I am\", \"I've\": \"I have\", \"i'd\": \"i would\",\n",
    "                           \"i'd've\": \"i would have\", \"i'll\": \"i will\",  \"i'll've\": \"i will have\",\"i'm\": \"i am\", \"i've\": \"i have\", \"isn't\": \"is not\", \"it'd\": \"it would\",\n",
    "                           \"it'd've\": \"it would have\", \"it'll\": \"it will\", \"it'll've\": \"it will have\",\"it's\": \"it is\", \"let's\": \"let us\", \"ma'am\": \"madam\",\n",
    "                           \"mayn't\": \"may not\", \"might've\": \"might have\",\"mightn't\": \"might not\",\"mightn't've\": \"might not have\", \"must've\": \"must have\",\n",
    "                           \"mustn't\": \"must not\", \"mustn't've\": \"must not have\", \"needn't\": \"need not\", \"needn't've\": \"need not have\",\"o'clock\": \"of the clock\",\n",
    "                           \"oughtn't\": \"ought not\", \"oughtn't've\": \"ought not have\", \"shan't\": \"shall not\", \"sha'n't\": \"shall not\", \"shan't've\": \"shall not have\",\n",
    "                           \"she'd\": \"she would\", \"she'd've\": \"she would have\", \"she'll\": \"she will\", \"she'll've\": \"she will have\", \"she's\": \"she is\",\n",
    "                           \"should've\": \"should have\", \"shouldn't\": \"should not\", \"shouldn't've\": \"should not have\", \"so've\": \"so have\",\"so's\": \"so as\",\n",
    "                           \"this's\": \"this is\",\"that'd\": \"that would\", \"that'd've\": \"that would have\", \"that's\": \"that is\", \"there'd\": \"there would\",\n",
    "                           \"there'd've\": \"there would have\", \"there's\": \"there is\", \"here's\": \"here is\",\"they'd\": \"they would\", \"they'd've\": \"they would have\",\n",
    "                           \"they'll\": \"they will\", \"they'll've\": \"they will have\", \"they're\": \"they are\", \"they've\": \"they have\", \"to've\": \"to have\",\n",
    "                           \"wasn't\": \"was not\", \"we'd\": \"we would\", \"we'd've\": \"we would have\", \"we'll\": \"we will\", \"we'll've\": \"we will have\", \"we're\": \"we are\",\n",
    "                           \"we've\": \"we have\", \"weren't\": \"were not\", \"what'll\": \"what will\", \"what'll've\": \"what will have\", \"what're\": \"what are\",\n",
    "                           \"what's\": \"what is\", \"what've\": \"what have\", \"when's\": \"when is\", \"when've\": \"when have\", \"where'd\": \"where did\", \"where's\": \"where is\",\n",
    "                           \"where've\": \"where have\", \"who'll\": \"who will\", \"who'll've\": \"who will have\", \"who's\": \"who is\", \"who've\": \"who have\",\n",
    "                           \"why's\": \"why is\", \"why've\": \"why have\", \"will've\": \"will have\", \"won't\": \"will not\", \"won't've\": \"will not have\",\n",
    "                           \"would've\": \"would have\", \"wouldn't\": \"would not\", \"wouldn't've\": \"would not have\", \"y'all\": \"you all\",\n",
    "                           \"y'all'd\": \"you all would\",\"y'all'd've\": \"you all would have\",\"y'all're\": \"you all are\",\"y'all've\": \"you all have\",\n",
    "                           \"you'd\": \"you would\", \"you'd've\": \"you would have\", \"you'll\": \"you will\", \"you'll've\": \"you will have\",\n",
    "                           \"you're\": \"you are\", \"you've\": \"you have\"}\n",
    "\n",
    "print(\"정규화 사전의 수: \", len(contractions))"
   ]
  },
  {
   "cell_type": "code",
   "execution_count": 10,
   "metadata": {
    "colab": {
     "base_uri": "https://localhost:8080/"
    },
    "id": "AFo3ftIOEypP",
    "outputId": "895a9c2f-43d1-45b6-ad6d-9d198305e420"
   },
   "outputs": [
    {
     "name": "stdout",
     "output_type": "stream",
     "text": [
      "불용어 개수 : 179\n",
      "['i', 'me', 'my', 'myself', 'we', 'our', 'ours', 'ourselves', 'you', \"you're\", \"you've\", \"you'll\", \"you'd\", 'your', 'yours', 'yourself', 'yourselves', 'he', 'him', 'his', 'himself', 'she', \"she's\", 'her', 'hers', 'herself', 'it', \"it's\", 'its', 'itself', 'they', 'them', 'their', 'theirs', 'themselves', 'what', 'which', 'who', 'whom', 'this', 'that', \"that'll\", 'these', 'those', 'am', 'is', 'are', 'was', 'were', 'be', 'been', 'being', 'have', 'has', 'had', 'having', 'do', 'does', 'did', 'doing', 'a', 'an', 'the', 'and', 'but', 'if', 'or', 'because', 'as', 'until', 'while', 'of', 'at', 'by', 'for', 'with', 'about', 'against', 'between', 'into', 'through', 'during', 'before', 'after', 'above', 'below', 'to', 'from', 'up', 'down', 'in', 'out', 'on', 'off', 'over', 'under', 'again', 'further', 'then', 'once', 'here', 'there', 'when', 'where', 'why', 'how', 'all', 'any', 'both', 'each', 'few', 'more', 'most', 'other', 'some', 'such', 'no', 'nor', 'not', 'only', 'own', 'same', 'so', 'than', 'too', 'very', 's', 't', 'can', 'will', 'just', 'don', \"don't\", 'should', \"should've\", 'now', 'd', 'll', 'm', 'o', 're', 've', 'y', 'ain', 'aren', \"aren't\", 'couldn', \"couldn't\", 'didn', \"didn't\", 'doesn', \"doesn't\", 'hadn', \"hadn't\", 'hasn', \"hasn't\", 'haven', \"haven't\", 'isn', \"isn't\", 'ma', 'mightn', \"mightn't\", 'mustn', \"mustn't\", 'needn', \"needn't\", 'shan', \"shan't\", 'shouldn', \"shouldn't\", 'wasn', \"wasn't\", 'weren', \"weren't\", 'won', \"won't\", 'wouldn', \"wouldn't\"]\n"
     ]
    }
   ],
   "source": [
    "print('불용어 개수 :', len(stopwords.words('english') ))\n",
    "print(stopwords.words('english'))"
   ]
  },
  {
   "cell_type": "markdown",
   "metadata": {
    "id": "B8AFT3piE80W"
   },
   "source": [
    "## STEP 2. 데이터 전처리하기 (추상적 요약)"
   ]
  },
  {
   "cell_type": "code",
   "execution_count": 11,
   "metadata": {
    "colab": {
     "base_uri": "https://localhost:8080/"
    },
    "id": "JBfxGtYwExDV",
    "outputId": "fdaba299-b1f2-4961-b238-69517cb519d9"
   },
   "outputs": [
    {
     "name": "stdout",
     "output_type": "stream",
     "text": [
      "=3\n"
     ]
    }
   ],
   "source": [
    "# 데이터 전처리 함수\n",
    "def preprocess_sentence(sentence, remove_stopwords=True):\n",
    "    sentence = sentence.lower() # 텍스트 소문자화\n",
    "    sentence = BeautifulSoup(sentence, \"lxml\").text # <br />, <a href = ...> 등의 html 태그 제거\n",
    "    sentence = re.sub(r'\\([^)]*\\)', '', sentence) # 괄호로 닫힌 문자열 (...) 제거 Ex) my husband (and myself!) for => my husband for\n",
    "    sentence = re.sub('\"','', sentence) # 쌍따옴표 \" 제거\n",
    "    sentence = ' '.join([contractions[t] if t in contractions else t for t in sentence.split(\" \")]) # 약어 정규화\n",
    "    sentence = re.sub(r\"'s\\b\",\"\", sentence) # 소유격 제거. Ex) roland's -> roland\n",
    "    sentence = re.sub(\"[^a-zA-Z]\", \" \", sentence) # 영어 외 문자(숫자, 특수문자 등) 공백으로 변환\n",
    "    sentence = re.sub('[m]{2,}', 'mm', sentence) # m이 3개 이상이면 2개로 변경. Ex) ummmmmmm yeah -> umm yeah\n",
    "    \n",
    "    # 불용어 제거 (text)\n",
    "    if remove_stopwords:\n",
    "        tokens = ' '.join(word for word in sentence.split() if not word in stopwords.words('english') if len(word) > 1)\n",
    "    # 불용어 미제거 (headlines)\n",
    "    else:\n",
    "        tokens = ' '.join(word for word in sentence.split() if len(word) > 1)\n",
    "    return tokens\n",
    "print('=3')"
   ]
  },
  {
   "cell_type": "code",
   "execution_count": 12,
   "metadata": {
    "colab": {
     "base_uri": "https://localhost:8080/"
    },
    "id": "vbT97VdzExAh",
    "outputId": "e6303913-eac3-4a8d-a95b-621e70605623"
   },
   "outputs": [
    {
     "name": "stdout",
     "output_type": "stream",
     "text": [
      "Text 전처리 후 결과:  ['saurav kant alumnus upgrad iiit pg program machine learning artificial intelligence sr systems engineer infosys almost years work experience program upgrad degree career support helped transition data scientist tech mahindra salary hike upgrad online power learning powered lakh careers', 'kunal shah credit card bill payment platform cred gave users chance win free food swiggy one year pranav kaushik delhi techie bagged reward spending cred coins users get one cred coin per rupee bill paid used avail rewards brands like ixigo bookmyshow ubereats cult fit', 'new zealand defeated india wickets fourth odi hamilton thursday win first match five match odi series india lost international match rohit sharma captaincy consecutive victories dating back march match witnessed india getting seventh lowest total odi cricket history', 'aegon life iterm insurance plan customers enjoy tax benefits premiums paid save taxes plan provides life cover age years also customers options insure critical illnesses disability accidental death benefit rider life cover age years', 'speaking sexual harassment allegations rajkumar hirani sonam kapoor said known hirani many years true metoo movement get derailed metoo movement always believe woman case need reserve judgment added hirani accused assistant worked sanju']\n"
     ]
    }
   ],
   "source": [
    "clean_text = []\n",
    "    # 전체 Text 데이터에 대한 전처리 : 10분 이상 시간이 걸릴 수 있습니다. \n",
    "for s in data['text']:\n",
    "  clean_text.append(preprocess_sentence(s))\n",
    "\n",
    "# 전처리 후 출력\n",
    "print(\"Text 전처리 후 결과: \", clean_text[:5])"
   ]
  },
  {
   "cell_type": "code",
   "execution_count": 13,
   "metadata": {
    "colab": {
     "base_uri": "https://localhost:8080/"
    },
    "id": "9ygBCt59Ew97",
    "outputId": "f8e58740-0cca-46f6-bae7-1ba0d0fd1e96"
   },
   "outputs": [
    {
     "name": "stdout",
     "output_type": "stream",
     "text": [
      "Headlines 전처리 후 결과:  ['upgrad learner switches to career in ml al with salary hike', 'delhi techie wins free food from swiggy for one year on cred', 'new zealand end rohit sharma led india match winning streak', 'aegon life iterm insurance plan helps customers save tax', 'have known hirani for yrs what if metoo claims are not true sonam']\n"
     ]
    }
   ],
   "source": [
    "clean_headlines = []\n",
    "# 전체 headlines 데이터에 대한 전처리 : 5분 이상 시간이 걸릴 수 있습니다. \n",
    "for s in data['headlines']:\n",
    "    clean_headlines.append(preprocess_sentence(s, False))\n",
    "\n",
    "print(\"Headlines 전처리 후 결과: \", clean_headlines[:5])"
   ]
  },
  {
   "cell_type": "code",
   "execution_count": 14,
   "metadata": {
    "colab": {
     "base_uri": "https://localhost:8080/"
    },
    "id": "tBn-XWDEErXN",
    "outputId": "0f6bc1ac-5423-46f0-a435-7a534c82a3e2"
   },
   "outputs": [
    {
     "name": "stdout",
     "output_type": "stream",
     "text": [
      "=3\n"
     ]
    }
   ],
   "source": [
    "data['text'] = clean_text\n",
    "data['headlines'] = clean_headlines\n",
    "\n",
    "# 빈 값을 Null 값으로 변환\n",
    "data.replace('', np.nan, inplace=True)\n",
    "print('=3')"
   ]
  },
  {
   "cell_type": "code",
   "execution_count": 15,
   "metadata": {
    "colab": {
     "base_uri": "https://localhost:8080/"
    },
    "id": "Cqhw8-L-GZ-u",
    "outputId": "eabe3fda-61a2-44a9-ba0a-e19412b73c8d"
   },
   "outputs": [
    {
     "data": {
      "text/plain": [
       "headlines    0\n",
       "text         0\n",
       "dtype: int64"
      ]
     },
     "execution_count": 15,
     "metadata": {},
     "output_type": "execute_result"
    }
   ],
   "source": [
    "data.isnull().sum()"
   ]
  },
  {
   "cell_type": "code",
   "execution_count": 16,
   "metadata": {
    "colab": {
     "base_uri": "https://localhost:8080/"
    },
    "id": "lxuutb2aGZ8S",
    "outputId": "e268ea2a-069a-4338-92c3-32c202326372"
   },
   "outputs": [
    {
     "name": "stdout",
     "output_type": "stream",
     "text": [
      "전체 샘플수 : 98360\n"
     ]
    }
   ],
   "source": [
    "data.dropna(axis=0, inplace=True)\n",
    "print('전체 샘플수 :', (len(data)))"
   ]
  },
  {
   "cell_type": "markdown",
   "metadata": {
    "id": "4FExsOT8eMo3"
   },
   "source": [
    "### 샘플의 최대 길이 정하기"
   ]
  },
  {
   "cell_type": "code",
   "execution_count": 17,
   "metadata": {
    "colab": {
     "base_uri": "https://localhost:8080/",
     "height": 963
    },
    "id": "amZUqPcnGZ55",
    "outputId": "c9889ca7-f287-4ba8-f0da-b07075a6971f"
   },
   "outputs": [
    {
     "name": "stdout",
     "output_type": "stream",
     "text": [
      "텍스트의 최소 길이 : 1\n",
      "텍스트의 최대 길이 : 60\n",
      "텍스트의 평균 길이 : 35.09968483123221\n",
      "요약의 최소 길이 : 1\n",
      "요약의 최대 길이 : 16\n",
      "요약의 평균 길이 : 9.299532330215534\n"
     ]
    },
    {
     "data": {
      "image/png": "[encoded data removed]",
      "text/plain": [
       "<Figure size 432x288 with 2 Axes>"
      ]
     },
     "metadata": {
      "needs_background": "light"
     },
     "output_type": "display_data"
    },
    {
     "data": {
      "image/png": "[encoded data removed]",
      "text/plain": [
       "<Figure size 432x288 with 1 Axes>"
      ]
     },
     "metadata": {
      "needs_background": "light"
     },
     "output_type": "display_data"
    },
    {
     "data": {
      "image/png": "[encoded data removed]",
      "text/plain": [
       "<Figure size 432x288 with 1 Axes>"
      ]
     },
     "metadata": {
      "needs_background": "light"
     },
     "output_type": "display_data"
    }
   ],
   "source": [
    "# 길이 분포 출력\n",
    "import matplotlib.pyplot as plt\n",
    "\n",
    "text_len = [len(s.split()) for s in data['text']]\n",
    "headlines_len = [len(s.split()) for s in data['headlines']]\n",
    "\n",
    "print('텍스트의 최소 길이 : {}'.format(np.min(text_len)))\n",
    "print('텍스트의 최대 길이 : {}'.format(np.max(text_len)))\n",
    "print('텍스트의 평균 길이 : {}'.format(np.mean(text_len)))\n",
    "print('요약의 최소 길이 : {}'.format(np.min(headlines_len)))\n",
    "print('요약의 최대 길이 : {}'.format(np.max(headlines_len)))\n",
    "print('요약의 평균 길이 : {}'.format(np.mean(headlines_len)))\n",
    "\n",
    "plt.subplot(1,2,1)\n",
    "plt.boxplot(text_len)\n",
    "plt.title('Text')\n",
    "plt.subplot(1,2,2)\n",
    "plt.boxplot(headlines_len)\n",
    "plt.title('headlines')\n",
    "plt.tight_layout()\n",
    "plt.show()\n",
    "\n",
    "plt.title('Text')\n",
    "plt.hist(text_len, bins = 40)\n",
    "plt.xlabel('length of samples')\n",
    "plt.ylabel('number of samples')\n",
    "plt.show()\n",
    "\n",
    "plt.title('Headlines')\n",
    "plt.hist(headlines_len, bins = 40)\n",
    "plt.xlabel('length of samples')\n",
    "plt.ylabel('number of samples')\n",
    "plt.show()"
   ]
  },
  {
   "cell_type": "code",
   "execution_count": 18,
   "metadata": {
    "colab": {
     "base_uri": "https://localhost:8080/"
    },
    "id": "7kzIwqNMGdaF",
    "outputId": "8e2bab11-f49a-4d4a-b60c-dd107bade713"
   },
   "outputs": [
    {
     "name": "stdout",
     "output_type": "stream",
     "text": [
      "=3\n"
     ]
    }
   ],
   "source": [
    "text_max_len = 50\n",
    "headlines_max_len = 8\n",
    "print('=3')"
   ]
  },
  {
   "cell_type": "code",
   "execution_count": 19,
   "metadata": {
    "colab": {
     "base_uri": "https://localhost:8080/"
    },
    "id": "WyO4kqvaGdTZ",
    "outputId": "720084b8-2ac2-4d6a-bb1e-189427363337"
   },
   "outputs": [
    {
     "name": "stdout",
     "output_type": "stream",
     "text": [
      "=3\n"
     ]
    }
   ],
   "source": [
    "def below_threshold_len(max_len, nested_list):\n",
    "  cnt = 0\n",
    "  for s in nested_list:\n",
    "    if(len(s.split()) <= max_len):\n",
    "        cnt = cnt + 1\n",
    "  print('전체 샘플 중 길이가 %s 이하인 샘플의 비율: %s'%(max_len, (cnt / len(nested_list))))\n",
    "print('=3')"
   ]
  },
  {
   "cell_type": "code",
   "execution_count": 20,
   "metadata": {
    "colab": {
     "base_uri": "https://localhost:8080/"
    },
    "id": "O1CKJiZSGdQ8",
    "outputId": "130a3850-32c7-424e-aa2b-0f5be303cc0c"
   },
   "outputs": [
    {
     "name": "stdout",
     "output_type": "stream",
     "text": [
      "전체 샘플 중 길이가 50 이하인 샘플의 비율: 0.9998576657177715\n",
      "전체 샘플 중 길이가 8 이하인 샘플의 비율: 0.2755693371289142\n"
     ]
    }
   ],
   "source": [
    "below_threshold_len(text_max_len, data['text'])\n",
    "below_threshold_len(headlines_max_len,  data['headlines'])"
   ]
  },
  {
   "cell_type": "code",
   "execution_count": 21,
   "metadata": {
    "colab": {
     "base_uri": "https://localhost:8080/"
    },
    "id": "R9N-0erAGdOe",
    "outputId": "5579b832-7895-48f1-c040-772ca000e1da"
   },
   "outputs": [
    {
     "name": "stdout",
     "output_type": "stream",
     "text": [
      "전체 샘플수 : 27105\n"
     ]
    }
   ],
   "source": [
    "data = data[data['text'].apply(lambda x: len(x.split()) <= text_max_len)]\n",
    "data = data[data['headlines'].apply(lambda x: len(x.split()) <= headlines_max_len)]\n",
    "print('전체 샘플수 :', (len(data)))"
   ]
  },
  {
   "cell_type": "markdown",
   "metadata": {
    "id": "CQVGKbCUeTCa"
   },
   "source": [
    "### 시작 토큰과 종료 토큰 추가하기"
   ]
  },
  {
   "cell_type": "code",
   "execution_count": 22,
   "metadata": {
    "colab": {
     "base_uri": "https://localhost:8080/",
     "height": 320
    },
    "id": "Qw_bd3kqGYZz",
    "outputId": "b5622460-cecc-4136-ea0d-3fea456a4016"
   },
   "outputs": [
    {
     "data": {
      "text/html": [
       "<div>\n",
       "<style scoped>\n",
       "    .dataframe tbody tr th:only-of-type {\n",
       "        vertical-align: middle;\n",
       "    }\n",
       "\n",
       "    .dataframe tbody tr th {\n",
       "        vertical-align: top;\n",
       "    }\n",
       "\n",
       "    .dataframe thead th {\n",
       "        text-align: right;\n",
       "    }\n",
       "</style>\n",
       "<table border=\"1\" class=\"dataframe\">\n",
       "  <thead>\n",
       "    <tr style=\"text-align: right;\">\n",
       "      <th></th>\n",
       "      <th>headlines</th>\n",
       "      <th>text</th>\n",
       "      <th>decoder_input</th>\n",
       "      <th>decoder_target</th>\n",
       "    </tr>\n",
       "  </thead>\n",
       "  <tbody>\n",
       "    <tr>\n",
       "      <th>19</th>\n",
       "      <td>odisha cm patnaik controls mining mafia union ...</td>\n",
       "      <td>union minister dharmendra pradhan wednesday cl...</td>\n",
       "      <td>sostoken odisha cm patnaik controls mining maf...</td>\n",
       "      <td>odisha cm patnaik controls mining mafia union ...</td>\n",
       "    </tr>\n",
       "    <tr>\n",
       "      <th>21</th>\n",
       "      <td>isro unveils bengaluru centre for manned space...</td>\n",
       "      <td>indian space research organisation wednesday u...</td>\n",
       "      <td>sostoken isro unveils bengaluru centre for man...</td>\n",
       "      <td>isro unveils bengaluru centre for manned space...</td>\n",
       "    </tr>\n",
       "    <tr>\n",
       "      <th>22</th>\n",
       "      <td>killed injured in saudi arabia floods</td>\n",
       "      <td>least people killed others injured saudi arabi...</td>\n",
       "      <td>sostoken killed injured in saudi arabia floods</td>\n",
       "      <td>killed injured in saudi arabia floods eostoken</td>\n",
       "    </tr>\n",
       "    <tr>\n",
       "      <th>29</th>\n",
       "      <td>seat cushions from missing plane carrying foot...</td>\n",
       "      <td>investigators searching lost plane carrying ar...</td>\n",
       "      <td>sostoken seat cushions from missing plane carr...</td>\n",
       "      <td>seat cushions from missing plane carrying foot...</td>\n",
       "    </tr>\n",
       "    <tr>\n",
       "      <th>36</th>\n",
       "      <td>agustawestland scam accused rajiv saxena extra...</td>\n",
       "      <td>agustawestland chopper scam co accused rajiv s...</td>\n",
       "      <td>sostoken agustawestland scam accused rajiv sax...</td>\n",
       "      <td>agustawestland scam accused rajiv saxena extra...</td>\n",
       "    </tr>\n",
       "  </tbody>\n",
       "</table>\n",
       "</div>"
      ],
      "text/plain": [
       "                                            headlines  \\\n",
       "19  odisha cm patnaik controls mining mafia union ...   \n",
       "21  isro unveils bengaluru centre for manned space...   \n",
       "22              killed injured in saudi arabia floods   \n",
       "29  seat cushions from missing plane carrying foot...   \n",
       "36  agustawestland scam accused rajiv saxena extra...   \n",
       "\n",
       "                                                 text  \\\n",
       "19  union minister dharmendra pradhan wednesday cl...   \n",
       "21  indian space research organisation wednesday u...   \n",
       "22  least people killed others injured saudi arabi...   \n",
       "29  investigators searching lost plane carrying ar...   \n",
       "36  agustawestland chopper scam co accused rajiv s...   \n",
       "\n",
       "                                        decoder_input  \\\n",
       "19  sostoken odisha cm patnaik controls mining maf...   \n",
       "21  sostoken isro unveils bengaluru centre for man...   \n",
       "22     sostoken killed injured in saudi arabia floods   \n",
       "29  sostoken seat cushions from missing plane carr...   \n",
       "36  sostoken agustawestland scam accused rajiv sax...   \n",
       "\n",
       "                                       decoder_target  \n",
       "19  odisha cm patnaik controls mining mafia union ...  \n",
       "21  isro unveils bengaluru centre for manned space...  \n",
       "22     killed injured in saudi arabia floods eostoken  \n",
       "29  seat cushions from missing plane carrying foot...  \n",
       "36  agustawestland scam accused rajiv saxena extra...  "
      ]
     },
     "execution_count": 22,
     "metadata": {},
     "output_type": "execute_result"
    }
   ],
   "source": [
    "# 요약 데이터에는 시작 토큰과 종료 토큰을 추가한다.\n",
    "data['decoder_input'] = data['headlines'].apply(lambda x : 'sostoken '+ x)\n",
    "data['decoder_target'] = data['headlines'].apply(lambda x : x + ' eostoken')\n",
    "data.head()"
   ]
  },
  {
   "cell_type": "code",
   "execution_count": 23,
   "metadata": {
    "colab": {
     "base_uri": "https://localhost:8080/"
    },
    "id": "YeH_TW3sGjuB",
    "outputId": "b1a3bea7-3aa7-4bca-d11b-7d8fc0410e13"
   },
   "outputs": [
    {
     "name": "stdout",
     "output_type": "stream",
     "text": [
      "=3\n"
     ]
    }
   ],
   "source": [
    "encoder_input = np.array(data['text']) # 인코더의 입력\n",
    "decoder_input = np.array(data['decoder_input']) # 디코더의 입력\n",
    "decoder_target = np.array(data['decoder_target']) # 디코더의 레이블\n",
    "print('=3')"
   ]
  },
  {
   "cell_type": "code",
   "execution_count": 24,
   "metadata": {
    "colab": {
     "base_uri": "https://localhost:8080/"
    },
    "id": "DXurK38zGjrj",
    "outputId": "631c0a2e-835c-49a3-8911-d67474f828db"
   },
   "outputs": [
    {
     "name": "stdout",
     "output_type": "stream",
     "text": [
      "[11692 17871 16965 ... 18271  2123  5129]\n"
     ]
    }
   ],
   "source": [
    "indices = np.arange(encoder_input.shape[0])\n",
    "np.random.shuffle(indices)\n",
    "print(indices)"
   ]
  },
  {
   "cell_type": "code",
   "execution_count": 25,
   "metadata": {
    "colab": {
     "base_uri": "https://localhost:8080/"
    },
    "id": "fuTyqV7MGmBr",
    "outputId": "0366bf7a-01db-47be-c255-88af11f8e6af"
   },
   "outputs": [
    {
     "name": "stdout",
     "output_type": "stream",
     "text": [
      "=3\n"
     ]
    }
   ],
   "source": [
    "encoder_input = encoder_input[indices]\n",
    "decoder_input = decoder_input[indices]\n",
    "decoder_target = decoder_target[indices]\n",
    "print('=3')"
   ]
  },
  {
   "cell_type": "code",
   "execution_count": 26,
   "metadata": {
    "colab": {
     "base_uri": "https://localhost:8080/"
    },
    "id": "HF0NC95tGjo5",
    "outputId": "b07532be-d4e5-40a1-90b7-d31779f7768f"
   },
   "outputs": [
    {
     "name": "stdout",
     "output_type": "stream",
     "text": [
      "테스트 데이터의 수 : 5421\n"
     ]
    }
   ],
   "source": [
    "n_of_val = int(len(encoder_input)*0.2)\n",
    "print('테스트 데이터의 수 :', n_of_val)"
   ]
  },
  {
   "cell_type": "code",
   "execution_count": 27,
   "metadata": {
    "colab": {
     "base_uri": "https://localhost:8080/"
    },
    "id": "Qx97ionDUoio",
    "outputId": "f620d109-2e8a-4736-91d5-ddd13be5a841"
   },
   "outputs": [
    {
     "name": "stdout",
     "output_type": "stream",
     "text": [
      "훈련 데이터의 개수 : 21684\n",
      "훈련 레이블의 개수 : 21684\n",
      "테스트 데이터의 개수 : 5421\n",
      "테스트 레이블의 개수 : 5421\n"
     ]
    }
   ],
   "source": [
    "encoder_input_train = encoder_input[:-n_of_val]\n",
    "decoder_input_train = decoder_input[:-n_of_val]\n",
    "decoder_target_train = decoder_target[:-n_of_val]\n",
    "\n",
    "encoder_input_test = encoder_input[-n_of_val:]\n",
    "decoder_input_test = decoder_input[-n_of_val:]\n",
    "decoder_target_test = decoder_target[-n_of_val:]\n",
    "\n",
    "print('훈련 데이터의 개수 :', len(encoder_input_train))\n",
    "print('훈련 레이블의 개수 :', len(decoder_input_train))\n",
    "print('테스트 데이터의 개수 :', len(encoder_input_test))\n",
    "print('테스트 레이블의 개수 :', len(decoder_input_test))"
   ]
  },
  {
   "cell_type": "markdown",
   "metadata": {
    "id": "MTHHYB5iebys"
   },
   "source": [
    "### 단어 집합(vocabulary) 만들기 및 정수 인코딩"
   ]
  },
  {
   "cell_type": "code",
   "execution_count": 28,
   "metadata": {
    "colab": {
     "base_uri": "https://localhost:8080/"
    },
    "id": "q_6FzIopG2-M",
    "outputId": "31c49bdf-2565-4264-a209-ecc488a2a79c"
   },
   "outputs": [
    {
     "name": "stdout",
     "output_type": "stream",
     "text": [
      "=3\n"
     ]
    }
   ],
   "source": [
    "src_tokenizer = Tokenizer() # 토크나이저 정의\n",
    "src_tokenizer.fit_on_texts(encoder_input_train) # 입력된 데이터로부터 단어 집합 생성\n",
    "print('=3')"
   ]
  },
  {
   "cell_type": "code",
   "execution_count": 29,
   "metadata": {
    "colab": {
     "base_uri": "https://localhost:8080/",
     "height": 137
    },
    "id": "39PY5-EJG26w",
    "outputId": "35dd70ff-a15a-407d-87fb-68917a6f97be"
   },
   "outputs": [
    {
     "name": "stdout",
     "output_type": "stream",
     "text": [
      "단어 집합(vocabulary)의 크기 : 42653\n",
      "등장 빈도가 6번 이하인 희귀 단어의 수: 30891\n",
      "단어 집합에서 희귀 단어를 제외시킬 경우의 단어 집합의 크기 11762\n",
      "단어 집합에서 희귀 단어의 비율: 72.42397955595152\n",
      "전체 등장 빈도에서 희귀 단어 등장 빈도 비율: 8.274932791723359\n"
     ]
    }
   ],
   "source": [
    "threshold = 7\n",
    "total_cnt = len(src_tokenizer.word_index) # 단어의 수\n",
    "rare_cnt = 0 # 등장 빈도수가 threshold보다 작은 단어의 개수를 카운트\n",
    "total_freq = 0 # 훈련 데이터의 전체 단어 빈도수 총 합\n",
    "rare_freq = 0 # 등장 빈도수가 threshold보다 작은 단어의 등장 빈도수의 총 합\n",
    "\n",
    "# 단어와 빈도수의 쌍(pair)을 key와 value로 받는다.\n",
    "for key, value in src_tokenizer.word_counts.items():\n",
    "    total_freq = total_freq + value\n",
    "\n",
    "    # 단어의 등장 빈도수가 threshold보다 작으면\n",
    "    if(value < threshold):\n",
    "        rare_cnt = rare_cnt + 1\n",
    "        rare_freq = rare_freq + value\n",
    "\n",
    "print('단어 집합(vocabulary)의 크기 :', total_cnt)\n",
    "print('등장 빈도가 %s번 이하인 희귀 단어의 수: %s'%(threshold - 1, rare_cnt))\n",
    "print('단어 집합에서 희귀 단어를 제외시킬 경우의 단어 집합의 크기 %s'%(total_cnt - rare_cnt))\n",
    "print(\"단어 집합에서 희귀 단어의 비율:\", (rare_cnt / total_cnt)*100)\n",
    "print(\"전체 등장 빈도에서 희귀 단어 등장 빈도 비율:\", (rare_freq / total_freq)*100)"
   ]
  },
  {
   "cell_type": "code",
   "execution_count": 30,
   "metadata": {
    "id": "rovwLgEHG5W1"
   },
   "outputs": [
    {
     "name": "stdout",
     "output_type": "stream",
     "text": [
      "=3\n"
     ]
    }
   ],
   "source": [
    "src_vocab = 12000\n",
    "src_tokenizer = Tokenizer(num_words=src_vocab) # 단어 집합의 크기를 12,000으로 제한\n",
    "src_tokenizer.fit_on_texts(encoder_input_train) # 단어 집합 재생성\n",
    "print('=3')"
   ]
  },
  {
   "cell_type": "code",
   "execution_count": 31,
   "metadata": {
    "id": "8VOymkdXG5UV"
   },
   "outputs": [
    {
     "name": "stdout",
     "output_type": "stream",
     "text": [
      "[[98, 5, 16, 114, 39, 10780, 3268, 11763, 9265, 604, 351, 247, 188, 292, 14, 8692, 9963, 51, 5, 1057, 163, 247, 5397, 32, 442, 20, 4780, 9963, 1153, 604, 1224, 5398, 5597, 8214], [1715, 1570, 4069, 8, 61, 8, 2333, 1173, 2, 25, 105, 2333, 695, 370, 4069, 52, 105, 2333, 22, 1433, 3450, 8, 1, 695, 370, 3326, 2333], [810, 338, 385, 4924, 7409, 287, 7410, 5598, 175, 91, 423, 5399, 2777, 1809, 842, 939, 3072, 75, 655, 7783, 11764, 548, 117, 1648, 380, 74, 4781, 1330, 47, 2476, 9964, 26, 32, 1]]\n"
     ]
    }
   ],
   "source": [
    "# 텍스트 시퀀스를 정수 시퀀스로 변환\n",
    "encoder_input_train = src_tokenizer.texts_to_sequences(encoder_input_train) \n",
    "encoder_input_test = src_tokenizer.texts_to_sequences(encoder_input_test)\n",
    "\n",
    "# 잘 진행되었는지 샘플 출력\n",
    "print(encoder_input_train[:3])"
   ]
  },
  {
   "cell_type": "code",
   "execution_count": 32,
   "metadata": {
    "id": "smCCkHCfG5Rl"
   },
   "outputs": [
    {
     "name": "stdout",
     "output_type": "stream",
     "text": [
      "=3\n"
     ]
    }
   ],
   "source": [
    "tar_tokenizer = Tokenizer()\n",
    "tar_tokenizer.fit_on_texts(decoder_input_train)\n",
    "print('=3')"
   ]
  },
  {
   "cell_type": "code",
   "execution_count": 33,
   "metadata": {
    "id": "N2yO7VKxG5PO"
   },
   "outputs": [
    {
     "name": "stdout",
     "output_type": "stream",
     "text": [
      "단어 집합(vocabulary)의 크기 : 18952\n",
      "등장 빈도가 5번 이하인 희귀 단어의 수: 14325\n",
      "단어 집합에서 희귀 단어를 제외시킬 경우의 단어 집합의 크기 4627\n",
      "단어 집합에서 희귀 단어의 비율: 75.58569016462643\n",
      "전체 등장 빈도에서 희귀 단어 등장 빈도 비율: 14.209473339805513\n"
     ]
    }
   ],
   "source": [
    "threshold = 6\n",
    "total_cnt = len(tar_tokenizer.word_index) # 단어의 수\n",
    "rare_cnt = 0 # 등장 빈도수가 threshold보다 작은 단어의 개수를 카운트\n",
    "total_freq = 0 # 훈련 데이터의 전체 단어 빈도수 총 합\n",
    "rare_freq = 0 # 등장 빈도수가 threshold보다 작은 단어의 등장 빈도수의 총 합\n",
    "\n",
    "# 단어와 빈도수의 쌍(pair)을 key와 value로 받는다.\n",
    "for key, value in tar_tokenizer.word_counts.items():\n",
    "    total_freq = total_freq + value\n",
    "\n",
    "    # 단어의 등장 빈도수가 threshold보다 작으면\n",
    "    if(value < threshold):\n",
    "        rare_cnt = rare_cnt + 1\n",
    "        rare_freq = rare_freq + value\n",
    "\n",
    "print('단어 집합(vocabulary)의 크기 :', total_cnt)\n",
    "print('등장 빈도가 %s번 이하인 희귀 단어의 수: %s'%(threshold - 1, rare_cnt))\n",
    "print('단어 집합에서 희귀 단어를 제외시킬 경우의 단어 집합의 크기 %s'%(total_cnt - rare_cnt))\n",
    "print(\"단어 집합에서 희귀 단어의 비율:\", (rare_cnt / total_cnt)*100)\n",
    "print(\"전체 등장 빈도에서 희귀 단어 등장 빈도 비율:\", (rare_freq / total_freq)*100)"
   ]
  },
  {
   "cell_type": "code",
   "execution_count": 34,
   "metadata": {
    "id": "zrh3QcVoG9To"
   },
   "outputs": [
    {
     "name": "stdout",
     "output_type": "stream",
     "text": [
      "input\n",
      "input  [[1, 37, 1722, 15, 4, 215, 249, 357], [1, 773, 358, 5, 46, 1827, 124, 3], [1, 717, 376, 608, 5, 367, 532], [1, 48, 67, 2206, 5, 1948], [1, 1269, 176, 143, 1033, 4, 268, 8]]\n",
      "target\n",
      "decoder  [[37, 1722, 15, 4, 215, 249, 357, 2], [773, 358, 5, 46, 1827, 124, 3, 2], [717, 376, 608, 5, 367, 532, 2], [48, 67, 2206, 5, 1948, 2], [1269, 176, 143, 1033, 4, 268, 8, 2]]\n"
     ]
    }
   ],
   "source": [
    "tar_vocab = 4500\n",
    "tar_tokenizer = Tokenizer(num_words=tar_vocab) \n",
    "tar_tokenizer.fit_on_texts(decoder_input_train)\n",
    "tar_tokenizer.fit_on_texts(decoder_target_train)\n",
    "\n",
    "# 텍스트 시퀀스를 정수 시퀀스로 변환\n",
    "decoder_input_train = tar_tokenizer.texts_to_sequences(decoder_input_train) \n",
    "decoder_target_train = tar_tokenizer.texts_to_sequences(decoder_target_train)\n",
    "decoder_input_test = tar_tokenizer.texts_to_sequences(decoder_input_test)\n",
    "decoder_target_test = tar_tokenizer.texts_to_sequences(decoder_target_test)\n",
    "\n",
    "# 잘 변환되었는지 확인\n",
    "print('input')\n",
    "print('input ',decoder_input_train[:5])\n",
    "print('target')\n",
    "print('decoder ',decoder_target_train[:5])"
   ]
  },
  {
   "cell_type": "code",
   "execution_count": 35,
   "metadata": {
    "id": "8i2xsf6vG9RN"
   },
   "outputs": [
    {
     "name": "stdout",
     "output_type": "stream",
     "text": [
      "삭제할 훈련 데이터의 개수 : 2\n",
      "삭제할 테스트 데이터의 개수 : 1\n",
      "훈련 데이터의 개수 : 21682\n",
      "훈련 레이블의 개수 : 21682\n",
      "테스트 데이터의 개수 : 5420\n",
      "테스트 레이블의 개수 : 5420\n"
     ]
    }
   ],
   "source": [
    "drop_train = [index for index, sentence in enumerate(decoder_input_train) if len(sentence) == 1]\n",
    "drop_test = [index for index, sentence in enumerate(decoder_input_test) if len(sentence) == 1]\n",
    "\n",
    "print('삭제할 훈련 데이터의 개수 :', len(drop_train))\n",
    "print('삭제할 테스트 데이터의 개수 :', len(drop_test))\n",
    "\n",
    "encoder_input_train = [sentence for index, sentence in enumerate(encoder_input_train) if index not in drop_train]\n",
    "decoder_input_train = [sentence for index, sentence in enumerate(decoder_input_train) if index not in drop_train]\n",
    "decoder_target_train = [sentence for index, sentence in enumerate(decoder_target_train) if index not in drop_train]\n",
    "\n",
    "encoder_input_test = [sentence for index, sentence in enumerate(encoder_input_test) if index not in drop_test]\n",
    "decoder_input_test = [sentence for index, sentence in enumerate(decoder_input_test) if index not in drop_test]\n",
    "decoder_target_test = [sentence for index, sentence in enumerate(decoder_target_test) if index not in drop_test]\n",
    "\n",
    "print('훈련 데이터의 개수 :', len(encoder_input_train))\n",
    "print('훈련 레이블의 개수 :', len(decoder_input_train))\n",
    "print('테스트 데이터의 개수 :', len(encoder_input_test))\n",
    "print('테스트 레이블의 개수 :', len(decoder_input_test))"
   ]
  },
  {
   "cell_type": "markdown",
   "metadata": {
    "id": "L9Cd6L3UHAir"
   },
   "source": [
    "### 패딩하기"
   ]
  },
  {
   "cell_type": "code",
   "execution_count": 36,
   "metadata": {
    "id": "jByHlmi3HAZf"
   },
   "outputs": [
    {
     "name": "stdout",
     "output_type": "stream",
     "text": [
      "=3\n"
     ]
    }
   ],
   "source": [
    "encoder_input_train = pad_sequences(encoder_input_train, maxlen=text_max_len, padding='post')\n",
    "encoder_input_test = pad_sequences(encoder_input_test, maxlen=text_max_len, padding='post')\n",
    "decoder_input_train = pad_sequences(decoder_input_train, maxlen=headlines_max_len, padding='post')\n",
    "decoder_target_train = pad_sequences(decoder_target_train, maxlen=headlines_max_len, padding='post')\n",
    "decoder_input_test = pad_sequences(decoder_input_test, maxlen=headlines_max_len, padding='post')\n",
    "decoder_target_test = pad_sequences(decoder_target_test, maxlen=headlines_max_len, padding='post')\n",
    "print('=3')"
   ]
  },
  {
   "cell_type": "markdown",
   "metadata": {
    "id": "hlEWIjihHDNE"
   },
   "source": [
    "## STEP 3. 어텐션 메커니즘 사용하기 (추상적 요약)"
   ]
  },
  {
   "cell_type": "code",
   "execution_count": 37,
   "metadata": {
    "id": "9HSlhbylHAIg"
   },
   "outputs": [],
   "source": [
    "from tensorflow.keras.layers import Input, LSTM, Embedding, Dense, Concatenate, TimeDistributed\n",
    "from tensorflow.keras.models import Model\n",
    "from tensorflow.keras.callbacks import EarlyStopping, ModelCheckpoint\n",
    "\n",
    "\n",
    "# 인코더 설계 시작\n",
    "embedding_dim = 128\n",
    "hidden_size = 256\n",
    "\n",
    "# 인코더\n",
    "encoder_inputs = Input(shape=(text_max_len,))\n",
    "\n",
    "# 인코더의 임베딩 층\n",
    "enc_emb = Embedding(src_vocab, embedding_dim)(encoder_inputs)\n",
    "\n",
    "# 인코더의 LSTM 1\n",
    "# encoder_lstm1 = LSTM(hidden_size, return_sequences=True, return_state=True ,dropout = 0.4, recurrent_dropout = 0.4)\n",
    "encoder_lstm1 = LSTM(hidden_size, return_sequences=True, return_state=True ,dropout = 0.4)\n",
    "encoder_output1, state_h1, state_c1 = encoder_lstm1(enc_emb)\n",
    "\n",
    "# 인코더의 LSTM 2\n",
    "# encoder_lstm2 = LSTM(hidden_size, return_sequences=True, return_state=True, dropout=0.4, recurrent_dropout=0.4)\n",
    "encoder_lstm2 = LSTM(hidden_size, return_sequences=True, return_state=True, dropout=0.4)\n",
    "encoder_output2, state_h2, state_c2 = encoder_lstm2(encoder_output1)\n",
    "\n",
    "# 인코더의 LSTM 3\n",
    "# encoder_lstm3 = LSTM(hidden_size, return_state=True, return_sequences=True, dropout=0.4, recurrent_dropout=0.4)\n",
    "encoder_lstm3 = LSTM(hidden_size, return_state=True, return_sequences=True, dropout=0.4)\n",
    "encoder_outputs, state_h, state_c= encoder_lstm3(encoder_output2)"
   ]
  },
  {
   "cell_type": "code",
   "execution_count": 38,
   "metadata": {
    "id": "mX7o0yrtG9Os"
   },
   "outputs": [],
   "source": [
    "# 디코더 설계\n",
    "decoder_inputs = Input(shape=(None,))\n",
    "\n",
    "# 디코더의 임베딩 층\n",
    "dec_emb_layer = Embedding(tar_vocab, embedding_dim)\n",
    "dec_emb = dec_emb_layer(decoder_inputs)\n",
    "\n",
    "# 디코더의 LSTM\n",
    "# decoder_lstm = LSTM(hidden_size, return_sequences=True, return_state=True, dropout=0.4, recurrent_dropout=0.2)\n",
    "decoder_lstm = LSTM(hidden_size, return_sequences=True, return_state=True, dropout=0.4)\n",
    "decoder_outputs, _, _ = decoder_lstm(dec_emb, initial_state=[state_h, state_c])"
   ]
  },
  {
   "cell_type": "code",
   "execution_count": 39,
   "metadata": {
    "id": "e-gEEA2wG23o"
   },
   "outputs": [
    {
     "name": "stdout",
     "output_type": "stream",
     "text": [
      "Model: \"model\"\n",
      "__________________________________________________________________________________________________\n",
      "Layer (type)                    Output Shape         Param #     Connected to                     \n",
      "==================================================================================================\n",
      "input_1 (InputLayer)            [(None, 50)]         0                                            \n",
      "__________________________________________________________________________________________________\n",
      "embedding (Embedding)           (None, 50, 128)      1536000     input_1[0][0]                    \n",
      "__________________________________________________________________________________________________\n",
      "lstm (LSTM)                     [(None, 50, 256), (N 394240      embedding[0][0]                  \n",
      "__________________________________________________________________________________________________\n",
      "input_2 (InputLayer)            [(None, None)]       0                                            \n",
      "__________________________________________________________________________________________________\n",
      "lstm_1 (LSTM)                   [(None, 50, 256), (N 525312      lstm[0][0]                       \n",
      "__________________________________________________________________________________________________\n",
      "embedding_1 (Embedding)         (None, None, 128)    576000      input_2[0][0]                    \n",
      "__________________________________________________________________________________________________\n",
      "lstm_2 (LSTM)                   [(None, 50, 256), (N 525312      lstm_1[0][0]                     \n",
      "__________________________________________________________________________________________________\n",
      "lstm_3 (LSTM)                   [(None, None, 256),  394240      embedding_1[0][0]                \n",
      "                                                                 lstm_2[0][1]                     \n",
      "                                                                 lstm_2[0][2]                     \n",
      "__________________________________________________________________________________________________\n",
      "dense (Dense)                   (None, None, 4500)   1156500     lstm_3[0][0]                     \n",
      "==================================================================================================\n",
      "Total params: 5,107,604\n",
      "Trainable params: 5,107,604\n",
      "Non-trainable params: 0\n",
      "__________________________________________________________________________________________________\n"
     ]
    }
   ],
   "source": [
    "# 디코더의 출력층\n",
    "decoder_softmax_layer = Dense(tar_vocab, activation='softmax')\n",
    "decoder_softmax_outputs = decoder_softmax_layer(decoder_outputs) \n",
    "\n",
    "# 모델 정의\n",
    "model = Model([encoder_inputs, decoder_inputs], decoder_softmax_outputs)\n",
    "model.summary()"
   ]
  },
  {
   "cell_type": "code",
   "execution_count": 40,
   "metadata": {
    "id": "PxKk1H-_G208"
   },
   "outputs": [
    {
     "name": "stdout",
     "output_type": "stream",
     "text": [
      "Model: \"model_1\"\n",
      "__________________________________________________________________________________________________\n",
      "Layer (type)                    Output Shape         Param #     Connected to                     \n",
      "==================================================================================================\n",
      "input_1 (InputLayer)            [(None, 50)]         0                                            \n",
      "__________________________________________________________________________________________________\n",
      "embedding (Embedding)           (None, 50, 128)      1536000     input_1[0][0]                    \n",
      "__________________________________________________________________________________________________\n",
      "lstm (LSTM)                     [(None, 50, 256), (N 394240      embedding[0][0]                  \n",
      "__________________________________________________________________________________________________\n",
      "input_2 (InputLayer)            [(None, None)]       0                                            \n",
      "__________________________________________________________________________________________________\n",
      "lstm_1 (LSTM)                   [(None, 50, 256), (N 525312      lstm[0][0]                       \n",
      "__________________________________________________________________________________________________\n",
      "embedding_1 (Embedding)         (None, None, 128)    576000      input_2[0][0]                    \n",
      "__________________________________________________________________________________________________\n",
      "lstm_2 (LSTM)                   [(None, 50, 256), (N 525312      lstm_1[0][0]                     \n",
      "__________________________________________________________________________________________________\n",
      "lstm_3 (LSTM)                   [(None, None, 256),  394240      embedding_1[0][0]                \n",
      "                                                                 lstm_2[0][1]                     \n",
      "                                                                 lstm_2[0][2]                     \n",
      "__________________________________________________________________________________________________\n",
      "attention_layer (AdditiveAttent (None, None, 256)    256         lstm_3[0][0]                     \n",
      "                                                                 lstm_2[0][0]                     \n",
      "__________________________________________________________________________________________________\n",
      "concat_layer (Concatenate)      (None, None, 512)    0           lstm_3[0][0]                     \n",
      "                                                                 attention_layer[0][0]            \n",
      "__________________________________________________________________________________________________\n",
      "dense_1 (Dense)                 (None, None, 4500)   2308500     concat_layer[0][0]               \n",
      "==================================================================================================\n",
      "Total params: 6,259,860\n",
      "Trainable params: 6,259,860\n",
      "Non-trainable params: 0\n",
      "__________________________________________________________________________________________________\n"
     ]
    }
   ],
   "source": [
    "from tensorflow.keras.layers import AdditiveAttention\n",
    "\n",
    "# 어텐션 층(어텐션 함수)\n",
    "attn_layer = AdditiveAttention(name='attention_layer')\n",
    "\n",
    "# 인코더와 디코더의 모든 time step의 hidden state를 어텐션 층에 전달하고 결과를 리턴\n",
    "attn_out = attn_layer([decoder_outputs, encoder_outputs])\n",
    "\n",
    "\n",
    "# 어텐션의 결과와 디코더의 hidden state들을 연결\n",
    "decoder_concat_input = Concatenate(axis=-1, name='concat_layer')([decoder_outputs, attn_out])\n",
    "\n",
    "# 디코더의 출력층\n",
    "decoder_softmax_layer = Dense(tar_vocab, activation='softmax')\n",
    "decoder_softmax_outputs = decoder_softmax_layer(decoder_concat_input)\n",
    "\n",
    "# 모델 정의\n",
    "model = Model([encoder_inputs, decoder_inputs], decoder_softmax_outputs)\n",
    "model.summary()"
   ]
  },
  {
   "cell_type": "code",
   "execution_count": 41,
   "metadata": {
    "id": "YlBPx1RwG2ub"
   },
   "outputs": [
    {
     "name": "stdout",
     "output_type": "stream",
     "text": [
      "Epoch 1/50\n",
      "85/85 [==============================] - 14s 84ms/step - loss: 6.1579 - val_loss: 5.6804\n",
      "Epoch 2/50\n",
      "85/85 [==============================] - 6s 71ms/step - loss: 5.7129 - val_loss: 5.4169\n",
      "Epoch 3/50\n",
      "85/85 [==============================] - 6s 72ms/step - loss: 5.4824 - val_loss: 5.2720\n",
      "Epoch 4/50\n",
      "85/85 [==============================] - 6s 72ms/step - loss: 5.3156 - val_loss: 5.2253\n",
      "Epoch 5/50\n",
      "85/85 [==============================] - 6s 72ms/step - loss: 5.1606 - val_loss: 5.0476\n",
      "Epoch 6/50\n",
      "85/85 [==============================] - 6s 73ms/step - loss: 4.9925 - val_loss: 4.9201\n",
      "Epoch 7/50\n",
      "85/85 [==============================] - 6s 73ms/step - loss: 4.8153 - val_loss: 4.8180\n",
      "Epoch 8/50\n",
      "85/85 [==============================] - 6s 74ms/step - loss: 4.6526 - val_loss: 4.7200\n",
      "Epoch 9/50\n",
      "85/85 [==============================] - 6s 74ms/step - loss: 4.5049 - val_loss: 4.6467\n",
      "Epoch 10/50\n",
      "85/85 [==============================] - 6s 75ms/step - loss: 4.3652 - val_loss: 4.5869\n",
      "Epoch 11/50\n",
      "85/85 [==============================] - 6s 75ms/step - loss: 4.2343 - val_loss: 4.5321\n",
      "Epoch 12/50\n",
      "85/85 [==============================] - 6s 76ms/step - loss: 4.1087 - val_loss: 4.4954\n",
      "Epoch 13/50\n",
      "85/85 [==============================] - 6s 76ms/step - loss: 3.9925 - val_loss: 4.4469\n",
      "Epoch 14/50\n",
      "85/85 [==============================] - 7s 77ms/step - loss: 3.8825 - val_loss: 4.4164\n",
      "Epoch 15/50\n",
      "85/85 [==============================] - 7s 77ms/step - loss: 3.7770 - val_loss: 4.3965\n",
      "Epoch 16/50\n",
      "85/85 [==============================] - 7s 77ms/step - loss: 3.6752 - val_loss: 4.3663\n",
      "Epoch 17/50\n",
      "85/85 [==============================] - 7s 78ms/step - loss: 3.5790 - val_loss: 4.3557\n",
      "Epoch 18/50\n",
      "85/85 [==============================] - 7s 77ms/step - loss: 3.4862 - val_loss: 4.3530\n",
      "Epoch 19/50\n",
      "85/85 [==============================] - 7s 77ms/step - loss: 3.3939 - val_loss: 4.3409\n",
      "Epoch 20/50\n",
      "85/85 [==============================] - 6s 76ms/step - loss: 3.3085 - val_loss: 4.3353\n",
      "Epoch 21/50\n",
      "85/85 [==============================] - 6s 76ms/step - loss: 3.2222 - val_loss: 4.3325\n",
      "Epoch 22/50\n",
      "85/85 [==============================] - 6s 76ms/step - loss: 3.1407 - val_loss: 4.3343\n",
      "Epoch 23/50\n",
      "85/85 [==============================] - 6s 76ms/step - loss: 3.0579 - val_loss: 4.3356\n",
      "Epoch 00023: early stopping\n"
     ]
    }
   ],
   "source": [
    "model.compile(optimizer='rmsprop', loss='sparse_categorical_crossentropy')\n",
    "es = EarlyStopping(monitor='val_loss', patience=2, verbose=1)\n",
    "history = model.fit(x=[encoder_input_train, decoder_input_train], y=decoder_target_train, \\\n",
    "          validation_data=([encoder_input_test, decoder_input_test], decoder_target_test), \\\n",
    "          batch_size=256, callbacks=[es], epochs=50)"
   ]
  },
  {
   "cell_type": "code",
   "execution_count": 42,
   "metadata": {
    "id": "rHCfPBHTHMj3"
   },
   "outputs": [
    {
     "data": {
      "image/png": "[encoded data removed]",
      "text/plain": [
       "<Figure size 432x288 with 1 Axes>"
      ]
     },
     "metadata": {
      "needs_background": "light"
     },
     "output_type": "display_data"
    }
   ],
   "source": [
    "# 시각화\n",
    "plt.plot(history.history['loss'], label='train')\n",
    "plt.plot(history.history['val_loss'], label='test')\n",
    "plt.legend()\n",
    "plt.show()"
   ]
  },
  {
   "cell_type": "markdown",
   "metadata": {
    "id": "Es-ITr-he4GE"
   },
   "source": [
    "### 인퍼런스 모델 구현하기"
   ]
  },
  {
   "cell_type": "code",
   "execution_count": 43,
   "metadata": {
    "id": "tOsm4w7ZHMhO"
   },
   "outputs": [
    {
     "name": "stdout",
     "output_type": "stream",
     "text": [
      "=3\n"
     ]
    }
   ],
   "source": [
    "src_index_to_word = src_tokenizer.index_word # 원문 단어 집합에서 정수 -> 단어를 얻음\n",
    "tar_word_to_index = tar_tokenizer.word_index # 요약 단어 집합에서 단어 -> 정수를 얻음\n",
    "tar_index_to_word = tar_tokenizer.index_word # 요약 단어 집합에서 정수 -> 단어를 얻음\n",
    "\n",
    "print('=3')"
   ]
  },
  {
   "cell_type": "code",
   "execution_count": 44,
   "metadata": {
    "id": "GFcZj2VyHMem"
   },
   "outputs": [
    {
     "name": "stdout",
     "output_type": "stream",
     "text": [
      "=3\n"
     ]
    }
   ],
   "source": [
    "# 인코더 설계\n",
    "encoder_model = Model(inputs=encoder_inputs, outputs=[encoder_outputs, state_h, state_c])\n",
    "\n",
    "# 이전 시점의 상태들을 저장하는 텐서\n",
    "decoder_state_input_h = Input(shape=(hidden_size,))\n",
    "decoder_state_input_c = Input(shape=(hidden_size,))\n",
    "\n",
    "dec_emb2 = dec_emb_layer(decoder_inputs)\n",
    "\n",
    "# 문장의 다음 단어를 예측하기 위해서 초기 상태(initial_state)를 이전 시점의 상태로 사용. 이는 뒤의 함수 decode_sequence()에 구현\n",
    "# 훈련 과정에서와 달리 LSTM의 리턴하는 은닉 상태와 셀 상태인 state_h와 state_c를 버리지 않음.\n",
    "decoder_outputs2, state_h2, state_c2 = decoder_lstm(dec_emb2, initial_state=[decoder_state_input_h, decoder_state_input_c])\n",
    "\n",
    "print('=3')"
   ]
  },
  {
   "cell_type": "code",
   "execution_count": 45,
   "metadata": {
    "id": "lNzAmqrKHMb4"
   },
   "outputs": [
    {
     "name": "stdout",
     "output_type": "stream",
     "text": [
      "=3\n"
     ]
    }
   ],
   "source": [
    "# 어텐션 함수\n",
    "decoder_hidden_state_input = Input(shape=(text_max_len, hidden_size))\n",
    "attn_out_inf = attn_layer([decoder_outputs2, decoder_hidden_state_input])\n",
    "decoder_inf_concat = Concatenate(axis=-1, name='concat')([decoder_outputs2, attn_out_inf])\n",
    "\n",
    "# 디코더의 출력층\n",
    "decoder_outputs2 = decoder_softmax_layer(decoder_inf_concat) \n",
    "\n",
    "# 최종 디코더 모델\n",
    "decoder_model = Model(\n",
    "    [decoder_inputs] + [decoder_hidden_state_input,decoder_state_input_h, decoder_state_input_c],\n",
    "    [decoder_outputs2] + [state_h2, state_c2])\n",
    "\n",
    "print('=3')"
   ]
  },
  {
   "cell_type": "code",
   "execution_count": 46,
   "metadata": {
    "id": "khzqOzNEHMZZ"
   },
   "outputs": [
    {
     "name": "stdout",
     "output_type": "stream",
     "text": [
      "=3\n"
     ]
    }
   ],
   "source": [
    "def decode_sequence(input_seq):\n",
    "    # 입력으로부터 인코더의 상태를 얻음\n",
    "    e_out, e_h, e_c = encoder_model.predict(input_seq)\n",
    "\n",
    "     # <SOS>에 해당하는 토큰 생성\n",
    "    target_seq = np.zeros((1,1))\n",
    "    target_seq[0, 0] = tar_word_to_index['sostoken']\n",
    "\n",
    "    stop_condition = False\n",
    "    decoded_sentence = ''\n",
    "    while not stop_condition: # stop_condition이 True가 될 때까지 루프 반복\n",
    "\n",
    "        output_tokens, h, c = decoder_model.predict([target_seq] + [e_out, e_h, e_c])\n",
    "        sampled_token_index = np.argmax(output_tokens[0, -1, :])\n",
    "        sampled_token = tar_index_to_word[sampled_token_index]\n",
    "\n",
    "        if (sampled_token!='eostoken'):\n",
    "            decoded_sentence += ' '+sampled_token\n",
    "\n",
    "        #  <eos>에 도달하거나 최대 길이를 넘으면 중단.\n",
    "        if (sampled_token == 'eostoken'  or len(decoded_sentence.split()) >= (headlines_max_len-1)):\n",
    "            stop_condition = True\n",
    "\n",
    "        # 길이가 1인 타겟 시퀀스를 업데이트\n",
    "        target_seq = np.zeros((1,1))\n",
    "        target_seq[0, 0] = sampled_token_index\n",
    "\n",
    "        # 상태를 업데이트 합니다.\n",
    "        e_h, e_c = h, c\n",
    "\n",
    "    return decoded_sentence\n",
    "print('=3')"
   ]
  },
  {
   "cell_type": "code",
   "execution_count": 47,
   "metadata": {
    "id": "Z6pXhhAOHR2S"
   },
   "outputs": [
    {
     "name": "stdout",
     "output_type": "stream",
     "text": [
      "=3\n"
     ]
    }
   ],
   "source": [
    "# 원문의 정수 시퀀스를 텍스트 시퀀스로 변환\n",
    "def seq2text(input_seq):\n",
    "    temp=''\n",
    "    for i in input_seq:\n",
    "        if (i!=0):\n",
    "            temp = temp + src_index_to_word[i]+' '\n",
    "    return temp\n",
    "\n",
    "# 요약문의 정수 시퀀스를 텍스트 시퀀스로 변환\n",
    "def seq2summary(input_seq):\n",
    "    temp=''\n",
    "    for i in input_seq:\n",
    "        if ((i!=0 and i!=tar_word_to_index['sostoken']) and i!=tar_word_to_index['eostoken']):\n",
    "            temp = temp + tar_index_to_word[i] + ' '\n",
    "    return temp\n",
    "\n",
    "print('=3')"
   ]
  },
  {
   "cell_type": "markdown",
   "metadata": {
    "id": "WRMkcmR0HTyl"
   },
   "source": [
    "## STEP 4. 실제 결과와 요약문 비교하기 (추상적 요약)"
   ]
  },
  {
   "cell_type": "code",
   "execution_count": 48,
   "metadata": {
    "id": "x3b1SB3FHRzw"
   },
   "outputs": [
    {
     "name": "stdout",
     "output_type": "stream",
     "text": [
      "원문 : india added millionaires months mid taking total number millionaires according credit suisse report added india wealth swiss bank estimated adults india wealth million million \n",
      "실제 요약 : india has lakh millionaires added in yr report \n",
      "예측 요약 :  india to pay its first time\n",
      "\n",
      "\n",
      "원문 : men startup bombay company raised undisclosed amount asia pacific limited series funding existing investor ventures led million funding pre series also participated round delhi based startup launched rohit \n",
      "실제 요약 : men brand bombay company raises series funding \n",
      "예측 요약 :  startup raises million from\n",
      "\n",
      "\n",
      "원문 : according reports kim kardashian kardashian kylie jenner planned mother kris jenner order earn million various deals offered also said planned get better ratings reality show keeping \n",
      "실제 요약 : planned for million reports \n",
      "예측 요약 :  indian origin startup wins crore\n",
      "\n",
      "\n",
      "원문 : us based payments platform paypal said buying sweden based payments startup billion cash deal part deal expected close third quarter ceo jacob de stay lead business founded offers payments solutions including mobile card readers \n",
      "실제 요약 : buys swedish payments startup for billion \n",
      "예측 요약 :  uber to invest million in india report\n",
      "\n",
      "\n",
      "원문 : breakthrough prize backed facebook ceo mark zuckerberg google co founder sergey brin russian billionaire among others awarded million scientists field life sciences fundamental physics mathematics organised annually since total seven million prizes awarded scientists year million going junior researchers \n",
      "실제 요약 : zuckerberg backed foundation awards mn to scientists \n",
      "예측 요약 :  google founder zuckerberg sued over crore\n",
      "\n",
      "\n",
      "원문 : year old resort owner jacob year old employee found murdered near kerala sunday running resort acre bought father driver resort started working around week ago missing police searching \n",
      "실제 요약 : owner employee found murdered in kerala \n",
      "예측 요약 :  woman found dead in us\n",
      "\n",
      "\n",
      "원문 : claiming us president donald trump absurd tweets encouraged disruption country iran thursday said us crossed every limit international relations expressing support iran anti government protesters comes trump expressed support people iran tweeted see great support us appropriate time \n",
      "실제 요약 : trump tweets have iran \n",
      "예측 요약 :  trump calls us president\n",
      "\n",
      "\n",
      "원문 : pakistan maritime security agency captured indian fishermen seized four boats gujarat coast official national forum said fishermen days ago apprehended near international maritime border line official added \n",
      "실제 요약 : pakistan captures indian fishermen off gujarat coast \n",
      "예측 요약 :  pakistan army fishermen by pakistan\n",
      "\n",
      "\n",
      "원문 : ex team india captain mohammed azharuddin appointed working president telangana pradesh congress committee comes reports azharuddin unhappy treatment within party cricketer turned politician reportedly wanted contest next month telangana assembly elections proposal faced resistance senior leaders \n",
      "실제 요약 : appointed working president of telangana congress \n",
      "예측 요약 :  former pm modi joins party\n",
      "\n",
      "\n",
      "원문 : pakistani lashkar taiba terrorist escaped police custody tuesday reportedly gunmen started firing outside srinagar hospital taken medical check policeman martyred another injured firing srinagar deputy inspector general ghulam hassan bhat claimed planned militant attack \n",
      "실제 요약 : pakistani militant escapes during srinagar hospital firing \n",
      "예측 요약 :  army jawans martyred in kashmir\n",
      "\n",
      "\n",
      "원문 : border security force sunday seized australian worth lakh border west bengal district smugglers intercepted trying india bangladesh bsf officials said birds reportedly handed garden kolkata \n",
      "실제 요약 : bsf seizes australian worth over \n",
      "예측 요약 :  injured in train accident in\n",
      "\n",
      "\n",
      "원문 : pictures actress katrina kaif practising stunts upcoming film tiger zinda hai surfaced online pictures show katrina gun practising swords reports suggest stunt previously worked hollywood films like dark knight training katrina action \n",
      "실제 요약 : katrina kaif for tiger hai \n",
      "예측 요약 :  ranveer shows ranveer singh surface online\n",
      "\n",
      "\n",
      "원문 : bengaluru based payments startup raised lakh seed funding silicon valley based accelerator combinator startup founders akash sinha said funds utilised product development hiring individuals sales engineering platforms founded lets indian businesses bank transfers accept card payments \n",
      "실제 요약 : payments startup raises lakh from \n",
      "예측 요약 :  gurugram startup raises million\n",
      "\n",
      "\n",
      "원문 : indian wrestler bronze medal commonwealth games defeating canada alexander moore men freestyle kg event saturday india th medal wrestling games includes five meanwhile pakistan muhammad beat event early stages gold medal final \n",
      "실제 요약 : wins india th medal at cwg \n",
      "예측 요약 :  chelsea chelsea chelsea chelsea to\n",
      "\n",
      "\n",
      "원문 : maharashtra excise department slapped crore penalty liquor giant india allegedly evading excise duty bulk upon examining company records found excise duty crore litres excise department notice said per rules company pay three times duty \n",
      "실제 요약 : department slaps crore penalty on india \n",
      "예측 요약 :  delhi govt gets crore from crore\n",
      "\n",
      "\n",
      "원문 : us based startup developed device claims clean poop particles using light device called wall toothbrush holder also solar panel charging priced device expected ship october \n",
      "실제 요약 : device to clean poop particles from developed \n",
      "예측 요약 :  device to users that\n",
      "\n",
      "\n",
      "원문 : former indian captain mahendra singh dhoni slammed ball highest ever individual odi score wicketkeeper batting number three sri lanka october dhoni smashed fours sixes knock overtook ex australian wicketkeeper adam gilchrist scored zimbabwe century dhoni second odi hundred \n",
      "실제 요약 : dhoni is the highest odi score by \n",
      "예측 요약 :  dhoni scores for dhoni odi\n",
      "\n",
      "\n",
      "원문 : mumbai year old batsman shaw named captain indian team world cup scheduled held new zealand january comes shaw slammed three tons two fifties five ranji trophy matches season punjab gill named shaw deputy \n",
      "실제 요약 : named india captain for world cup \n",
      "예측 요약 :  indian women wins his record at\n",
      "\n",
      "\n",
      "원문 : us sending afghanistan strengthen internal security according media report us central command agreed send around additional country province would join existing assigned task force southwest news reported \n",
      "실제 요약 : us sending more to afghanistan reports \n",
      "예측 요약 :  us to us war against us\n",
      "\n",
      "\n",
      "원문 : microblogging site twitter increased display name character limit previous limit characters add middle name even emojis twitter said comes twitter increased character limit tweets languages except chinese japanese korean languages \n",
      "실제 요약 : twitter increases display name character limit to \n",
      "예측 요약 :  facebook launches its new news\n",
      "\n",
      "\n",
      "원문 : comedian kapil sharma said checked ayurveda clinic bengaluru complete kapil added saying stay days film coming november said resume shooting show completing treatment promoting film firangi \n",
      "실제 요약 : am treatment in bengaluru kapil \n",
      "예측 요약 :  kapil sharma starrer pari to\n",
      "\n",
      "\n",
      "원문 : newly launched patients group saturday demanded free medicines safe tested blood zero births reservation government jobs people suffering disease group headed seven patients working different fields aims communicate interests patients government \n",
      "실제 요약 : patients demand free medicines job \n",
      "예측 요약 :  iit kharagpur to make for\n",
      "\n",
      "\n",
      "원문 : india extended crore lines credit pm narendra modi held talks nation president paul two countries signed agreements industrial agricultural development pm modi first indian prime minister visit country also announced first indian diplomatic mission would opened \n",
      "실제 요약 : india extends crore of credit to \n",
      "예측 요약 :  india pm modi to bilateral bilateral bilateral\n",
      "\n",
      "\n",
      "원문 : hdfc approved sale realty brokerage business hdfc realty digital real estate business hdfc developers online platform around crore according filings deal value crore according reports hdfc receive stock return hdfc managing director said \n",
      "실제 요약 : buys two hdfc for crore \n",
      "예측 요약 :  bank to buy crore in june\n",
      "\n",
      "\n",
      "원문 : uae vice president sheikh mohammed bin rashid al thursday announced appointment omar sultan al country first ever artificial intelligence minister next global wave artificial intelligence want uae prepared al said gulf nation also introduced post minister advanced sciences \n",
      "실제 요약 : uae appoints its first ever artificial intelligence minister \n"
     ]
    },
    {
     "name": "stdout",
     "output_type": "stream",
     "text": [
      "예측 요약 :  india most space space\n",
      "\n",
      "\n",
      "원문 : commerce marketplace operator lost million patent dispute ibm according us jury jury ruled used ibm patented commerce technology without authorisation consent dispute involved four patents including single sign technology allows users log website facebook google accounts \n",
      "실제 요약 : loses million patent dispute with ibm \n",
      "예측 요약 :  google parent to acquire cryptocurrency\n",
      "\n",
      "\n",
      "원문 : home minister rajnath singh praised bollywood actor akshay kumar supporting indian soldiers shared video akshay seeking donations jawans families via web portal bharat ke video national award winner said website already collected crore nothing important akshay added \n",
      "실제 요약 : rajnath praises akshay kumar for supporting indian soldiers \n",
      "예측 요약 :  salman khan to release in\n",
      "\n",
      "\n",
      "원문 : bengaluru based food tech startup raised crore media conglomerate company according filings last year startup raised crore series funding round founded iim ahmedabad alumni lets users order meals prepared house chefs \n",
      "실제 요약 : food tech startup raises crore \n",
      "예측 요약 :  mumbai based startup raises crore\n",
      "\n",
      "\n",
      "원문 : police sunday seized huge foreign liquor village bihar district basis specific intelligence input cartons foreign country liquor worth around crore seized various houses said police run notably bihar became dry state april \n",
      "실제 요약 : liquor worth crore seized in bihar \n",
      "예측 요약 :  people worth lakh seized in delhi\n",
      "\n",
      "\n",
      "원문 : supreme court tuesday barred print electronic media organisations publishing statements calcutta hc judge found guilty contempt court sentenced six months prison corruption charges apex court judges later sentenced seven judges years imprisonment \n",
      "실제 요약 : sc bars media from justice statements \n",
      "예측 요약 :  sc rejects rape against sc\n",
      "\n",
      "\n",
      "원문 : assam unit congress filed police complaint bjp mp prasad allegedly mahatma gandhi jawaharlal nehru indira gandhi rajiv gandhi garbage congress washed brains people garbage like gandhi nehru without knowing deendayal upadhyaya reportedly said public rally \n",
      "실제 요약 : assam bjp mp calls garbage \n",
      "예측 요약 :  congress leader calls rahul gandhi\n",
      "\n",
      "\n",
      "원문 : terms hours scheduled lok sabha witnessed productivity rajya sabha recorded productivity recently concluded budget session per legislative research comparison lok sabha previous session recorded productivity worst since bjp government took rajya sabha productivity previous session \n",
      "실제 요약 : lok sabha at in budget session \n",
      "예측 요약 :  karnataka cabinet to have development\n",
      "\n",
      "\n",
      "원문 : series tweets congress leader chidambaram sunday said gujarat critical areas human resource development past years despite industrial growth upcoming gujarat assembly polls witness contest social reality headline grabbing announcements poor human development indicators billion dollar investment proposals added \n",
      "실제 요약 : gujarat has in last yrs chidambaram \n",
      "예측 요약 :  rahul gandhi is congress\n",
      "\n",
      "\n",
      "원문 : mcdonald canada created disposable cup holder turns speaker users smartphone electronic bits inside cup works increase sound phone speakers limited edition created celebrate years mcdonald invented canada \n",
      "실제 요약 : mcdonald makes cup holder that becomes speaker \n",
      "예측 요약 :  year old boy of\n",
      "\n",
      "\n",
      "원문 : chinese soldiers road building machines reportedly crossed metres indian territory arunachal pradesh late december reports state locals informed indian army following latter intercepted chinese troops seized machines comes months day standoff indian chinese troops doklam \n",
      "실제 요약 : china into arunachal with road equipment reports \n",
      "예측 요약 :  army kills in china\n",
      "\n",
      "\n",
      "원문 : nearly lakh cases pending investigation delhi police department according reports shortage investigating officers delays examination forensic evidence large number first information reports lodged online led delay around cases pending last two years \n",
      "실제 요약 : nearly lakh cases pending with the delhi police \n",
      "예측 요약 :  dept raids lakh for lakh\n",
      "\n",
      "\n",
      "원문 : enforcement directorate attached properties worth crore belonging fraud accused gitanjali gems owner mehul choksi companies acre park hyderabad worth crore also attached assets include flats office premises shopping mall farmhouse acres land maharashtra tamil nadu \n",
      "실제 요약 : choksi assets worth cr including cr park seized \n",
      "예측 요약 :  ed accused of crore fraud scam\n",
      "\n",
      "\n",
      "원문 : mumbai based dairy tech startup raised million pre series funding switzerland based investment firm ventures us based firm foods ultra high net worth families also participated round founded milk primary producers supplies industrial processors milk product manufacturers end consumers \n",
      "실제 요약 : tech startup raises million \n",
      "예측 요약 :  mumbai based startup raises million\n",
      "\n",
      "\n",
      "원문 : three construction workers killed around people feared trapped debris construction building collapsed bengaluru thursday mayor raj said authorities permitted construction three five built structure construction work building stopped two years ago \n",
      "실제 요약 : killed as under construction building collapses in luru \n",
      "예측 요약 :  dead as boat collapses in mumbai\n",
      "\n",
      "\n",
      "원문 : rajasthan police arrested year old boy connection khan lynching case police arrested minor identifying basis video showed mob attacking khan others khan physically assaulted cow alwar suspicion smuggling cows later died hospital \n",
      "실제 요약 : police arrests minor in khan lynching case \n",
      "예측 요약 :  arrested for raping minor daughter in\n",
      "\n",
      "\n",
      "원문 : replied australian customer left review saying operator integrity failing return jacket post ireland based owner anthony said posted jacket despite busy managing two restaurants blaming customer said would take shopping new jacket \n",
      "실제 요약 : to review on \n",
      "예측 요약 :  gets married to\n",
      "\n",
      "\n",
      "원문 : brewery introduced beer aged days feet underwater sea expert involved process said impression changes lot sea better last year south african brewery introduced beer aged ocean \n",
      "실제 요약 : brewery beer in the sea \n",
      "예측 요약 :  australian university to hire beer\n",
      "\n",
      "\n",
      "원문 : state owned lender andhra bank filed insolvency petition pharmaceutical firm sterling biotech recover crore gujarat based firm took loans crore andhra bank led consortium turned bad loans bank argued investigative agencies already probing case promoters company fled country \n",
      "실제 요약 : insolvency case against to cr \n",
      "예측 요약 :  bank shares crore to crore\n",
      "\n",
      "\n",
      "원문 : india largest airline indigo operator interglobe aviation reported worst performance least years june quarter profit fell crore company posted profit crore year earlier indigo fuel costs surged crore losses climbed crore last quarter \n",
      "실제 요약 : indigo june quarter profit falls to crore \n",
      "예측 요약 :  airtel profit falls to crore in\n",
      "\n",
      "\n",
      "원문 : china shut revoked licences websites since violating country internet rules state media reported said social media platforms closed nearly one crore internet accounts violating service protocol notably china banned social media platforms including facebook twitter \n",
      "실제 요약 : china has shut down websites since \n",
      "예측 요약 :  us government to launch cryptocurrency\n",
      "\n",
      "\n",
      "원문 : study neurons suggests memories trigger anxiety without affecting normal memory long term memories stored increasing strength experiments showed different proteins used strengthen different memories blocking specific protein researchers able delete one memory without \n",
      "실제 요약 : could be new research suggests \n",
      "예측 요약 :  video of\n",
      "\n",
      "\n",
      "원문 : us israel based researchers found evidence fusion particles called could release eight times energy hydrogen fusion central process hydrogen bombs surprised discovery duo earlier considered publishing results calculations showed would impossible trigger chain reaction short lived \n",
      "실제 요약 : more powerful than bomb study \n",
      "예측 요약 :  scientists discover new scientists\n",
      "\n",
      "\n",
      "원문 : pair twin sisters received surprise joint marriage proposal pair twin brothers twin lakes state park virginia united states two couples get married joint ceremony annual twins days festival first met interestingly four plan staying together wedding \n",
      "실제 요약 : twin receive joint proposal from twin brothers \n",
      "예측 요약 :  video crowned miss\n",
      "\n",
      "\n",
      "원문 : jaipur based organisation brahmin mahasabha demanded screening padmavati member panel experts film release organisation president suresh mishra said film historical facts take back opposition said happen till november ensure padmavati released \n",
      "실제 요약 : group demands screening of padmavati before release \n"
     ]
    },
    {
     "name": "stdout",
     "output_type": "stream",
     "text": [
      "예측 요약 :  padmavati to be in padmavati\n",
      "\n",
      "\n",
      "원문 : facebook paid million acquire internet address com domain acquired american farm bureau federation bought internal use company employees notably social networking site originally named facebook launched february \n",
      "실제 요약 : facebook paid crore to acquire fb address \n",
      "예측 요약 :  google acquires million\n",
      "\n",
      "\n"
     ]
    }
   ],
   "source": [
    "for i in range(50, 100):\n",
    "    print(\"원문 :\", seq2text(encoder_input_test[i]))\n",
    "    print(\"실제 요약 :\", seq2summary(decoder_input_test[i]))\n",
    "    print(\"예측 요약 :\", decode_sequence(encoder_input_test[i].reshape(1, text_max_len)))\n",
    "    print(\"\\n\")"
   ]
  },
  {
   "cell_type": "markdown",
   "metadata": {
    "id": "8C-a1PDJHZc-"
   },
   "source": [
    "## STEP 5. Summa을 이용해서 추출적 요약해보기"
   ]
  },
  {
   "cell_type": "code",
   "execution_count": 49,
   "metadata": {
    "id": "2CkNJSTKHRxR"
   },
   "outputs": [],
   "source": [
    "import requests\n",
    "from summa.summarizer import summarize"
   ]
  },
  {
   "cell_type": "code",
   "execution_count": 50,
   "metadata": {},
   "outputs": [],
   "source": [
    "import urllib.request\n",
    "urllib.request.urlretrieve(\"https://raw.githubusercontent.com/sunnysai12345/News_Summary/master/news_summary_more.csv\", filename=\"news_summary_more.csv\")\n",
    "data = pd.read_csv('news_summary_more.csv', encoding='iso-8859-1')"
   ]
  },
  {
   "cell_type": "code",
   "execution_count": 51,
   "metadata": {
    "id": "H5nDfM7uHRuw"
   },
   "outputs": [
    {
     "data": {
      "text/plain": [
       "0        Saurav Kant, an alumnus of upGrad and IIIT-B's...\n",
       "1        Kunal Shah's credit card bill payment platform...\n",
       "2        New Zealand defeated India by 8 wickets in the...\n",
       "3        With Aegon Life iTerm Insurance plan, customer...\n",
       "4        Speaking about the sexual harassment allegatio...\n",
       "                               ...                        \n",
       "98396    A CRPF jawan was on Tuesday axed to death with...\n",
       "98397    'Uff Yeh', the first song from the Sonakshi Si...\n",
       "98398    According to reports, a new version of the 199...\n",
       "98399    A new music video shows rapper Snoop Dogg aimi...\n",
       "98400    Madhesi Morcha, an alliance of seven political...\n",
       "Name: text, Length: 98401, dtype: object"
      ]
     },
     "execution_count": 51,
     "metadata": {},
     "output_type": "execute_result"
    }
   ],
   "source": [
    "data['text']"
   ]
  },
  {
   "cell_type": "code",
   "execution_count": 52,
   "metadata": {
    "id": "MdQ8tTX7HRsh"
   },
   "outputs": [
    {
     "data": {
      "text/plain": [
       "'The Election Commission on Monday dismissed a US-based Indian \\'cyber expert\\'s\\' claim that EVMs were hacked in 2014 Lok Sabha elections, saying that the machines used in the polls were \"foolproof\". The election watchdog added these EVMs are manufactured under \"very strict supervisory and security conditions\". The EC said it was \"wary of becoming a party to this motivated slugfest\".'"
      ]
     },
     "execution_count": 52,
     "metadata": {},
     "output_type": "execute_result"
    }
   ],
   "source": [
    "data['text'].iloc[1234]"
   ]
  },
  {
   "cell_type": "code",
   "execution_count": 53,
   "metadata": {
    "id": "My7uSpznHMW7"
   },
   "outputs": [
    {
     "data": {
      "text/plain": [
       "'The Election Commission on Monday dismissed a US-based Indian \\'cyber expert\\'s\\' claim that EVMs were hacked in 2014 Lok Sabha elections, saying that the machines used in the polls were \"foolproof\".'"
      ]
     },
     "execution_count": 53,
     "metadata": {},
     "output_type": "execute_result"
    }
   ],
   "source": [
    "summarize(data['text'].iloc[1234], ratio=0.5)"
   ]
  },
  {
   "cell_type": "markdown",
   "metadata": {
    "id": "TeIgpOjOHnmq"
   },
   "source": [
    "<회고>\n",
    "\n",
    "뉴스기사 요약해보기 프로젝트를 하며 <br>\n",
    "추상적 요약(Abstractive Summarization)과 추출적 요약(Extractive Summarization)을 진행해보았다. <br><br>\n",
    "1) 데이터 준비 <br>\n",
    "2) 데이터 전처리<br>\n",
    "     - 데이터 정리<br>\n",
    "    - 훈련/테스트 데이터 나누기<br>\n",
    "    - 정수 인코딩<br>\n",
    "3) 모델 설계<br>\n",
    "4) 모델 훈련<br>\n",
    "5) 인퍼런스 모델 구현<br>\n",
    "6) 모델 테스트<br><br>\n",
    "- 요약 결과의 퀄리티가 썩 좋지는 않은 듯하다(loss 값 4점대). nlp 성능 개선에 대해서 좀 더 알아볼 필요.\n",
    "- summa 진행할 때 lms 클라우드 상에서 summarize 함수 작동 시, 결과물이 뜨지 않아서 colab에서 옮겨서 진행했더니 됐음, 이유를 알아볼 필요.\n",
    "- train loss와 test loss는 감소하고, validation loss는 감소하다 다시 반등하려는 경향을 보인다\n",
    "- train loss에 비해 test loss가 완만하게 감소하는 경향"
   ]
  }
 ],
 "metadata": {
  "colab": {
   "collapsed_sections": [],
   "provenance": []
  },
  "gpuClass": "standard",
  "kernelspec": {
   "display_name": "Python 3 (ipykernel)",
   "language": "python",
   "name": "python3"
  },
  "language_info": {
   "codemirror_mode": {
    "name": "ipython",
    "version": 3
   },
   "file_extension": ".py",
   "mimetype": "text/x-python",
   "name": "python",
   "nbconvert_exporter": "python",
   "pygments_lexer": "ipython3",
   "version": "3.9.7"
  }
 },
 "nbformat": 4,
 "nbformat_minor": 1
}
