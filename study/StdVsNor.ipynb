{
 "cells": [
  {
   "cell_type": "markdown",
   "id": "12f2e19a",
   "metadata": {},
   "source": [
    "# Standardization Vs. Normalization"
   ]
  },
  {
   "cell_type": "markdown",
   "id": "aebfbd65",
   "metadata": {},
   "source": [
    "<b>Scaling이 필요한 이유</b>\n",
    "- Scaling: 데이터(feature) 분포의 모양은 변하지 않고 동일한 비율을 유지한 채 범주를 조정한다\n",
    "- 데이터셋을 분석하기 위해서 특정 feature의 과도한 영향을 받는 결과를 제거하기 위해서<br>\n",
    "(feature의 범주가 다르면 범주가 큰 feature에 결과값이 큰 영향을 받게 된다)\n",
    "- outlier 영향 제거"
   ]
  },
  {
   "cell_type": "markdown",
   "id": "3cef0b75",
   "metadata": {},
   "source": [
    "## 1. Standardization\n",
    "### $$({\\frac {X-\\mu }{\\sigma }})$$ "
   ]
  },
  {
   "cell_type": "markdown",
   "id": "aae05ce9",
   "metadata": {},
   "source": [
    "- 데이터의 평균은 0, 표준편차는 1인 정규분포를 가지도록 변환하는 것\n",
    "- 여기서 z-score가 쓰인다.\n",
    "- 최대/최솟값을 고려하는 방식이 아니라 평균, 편차를 고려하는 방식"
   ]
  },
  {
   "cell_type": "code",
   "execution_count": null,
   "id": "ffcafc41",
   "metadata": {},
   "outputs": [],
   "source": [
    "# standardization\n",
    "from sklearn.preprocessing import MinmaxScaler\n",
    "scaler = MinMaxScaler()\n",
    "stock_df = scaler.fit_transform(stock_df)"
   ]
  },
  {
   "cell_type": "markdown",
   "id": "7bb18eb3",
   "metadata": {},
   "source": [
    "## 2. Normalization\n",
    "### $$\\frac{X−Xmin}{Xmax−Xmin}$$"
   ]
  },
  {
   "cell_type": "markdown",
   "id": "9107045b",
   "metadata": {},
   "source": [
    "- 여러 방법이 있으나, 대표적으로 min-max scaling이 쓰이며, 여기서는 min-max scaling 기준으로 설명\n",
    "- 최솟값을 0, 최댓값을 1로 하여 feature의 분포를 0 ~ 1 사이에 위치시키는 것"
   ]
  },
  {
   "cell_type": "code",
   "execution_count": null,
   "id": "fc4c8d33",
   "metadata": {},
   "outputs": [],
   "source": [
    "# normalization\n",
    "from sklearn.preprocessing import StandardScaler\n",
    "scaler = StandardScaler()\n",
    "stock_df = scaler.fit_transform(stock_df)"
   ]
  },
  {
   "cell_type": "markdown",
   "id": "b81cb3a7",
   "metadata": {},
   "source": [
    "<b>언제 사용하는가?</b>\n",
    "- required: 알고리즘이 그레디언트 계산을 할 때\n",
    "- not required: distance-based / tree-based 알고리즘 사용 시<br>\n",
    "\n",
    "- 데이터가 가우시안 분포를 보일 때 ▶ Standardization 선호\n",
    "- 너무 많은 이상치(outlier)가 있을 때 ▶ Standardization 선호\n",
    "- (인공신경망에서) 어떤 데이터 분포도 추정할 수 없을 때 ▶ Normalization 선호"
   ]
  },
  {
   "cell_type": "markdown",
   "id": "71a0cf62",
   "metadata": {},
   "source": [
    "<b>사용하는 순서?</b>\n",
    "- 일반적으로 Standardization >> Normalization 순으로 시행된다: 이상치 제거를 위해서\n",
    "- 이상치 제거를 하지 않고 Normalization을 진행하면 특정 feature 값으로 인해 0이나 1에 분포가 몰릴 수 있기 때문\n",
    "- z-score(or IQR) >> min-max scaling"
   ]
  },
  {
   "cell_type": "markdown",
   "id": "c2a53af2",
   "metadata": {},
   "source": [
    "vgsales 예시 확인**"
   ]
  },
  {
   "cell_type": "markdown",
   "id": "f879db89",
   "metadata": {},
   "source": [
    "참고: <br>\n",
    "https://www.youtube.com/watch?v=bqhQ2LWBheQ\n",
    "https://heeya-stupidbutstudying.tistory.com/entry/%ED%86%B5%EA%B3%84-%EC%A0%95%EA%B7%9C%ED%99%94%EC%99%80-%ED%91%9C%EC%A4%80%ED%99%94"
   ]
  }
 ],
 "metadata": {
  "kernelspec": {
   "display_name": "Python 3 (ipykernel)",
   "language": "python",
   "name": "python3"
  },
  "language_info": {
   "codemirror_mode": {
    "name": "ipython",
    "version": 3
   },
   "file_extension": ".py",
   "mimetype": "text/x-python",
   "name": "python",
   "nbconvert_exporter": "python",
   "pygments_lexer": "ipython3",
   "version": "3.9.7"
  }
 },
 "nbformat": 4,
 "nbformat_minor": 5
}
