{
 "cells": [
  {
   "cell_type": "markdown",
   "id": "6d57c3a9",
   "metadata": {},
   "source": [
    "# Confusion Matrix(오차 행렬)"
   ]
  },
  {
   "cell_type": "markdown",
   "id": "06a31660",
   "metadata": {},
   "source": [
    "ex) 코로나바이러스에 감염되었다고 의심되는 환자를 진단할 때\n",
    "- 실제 음성인데 양성으로 오진을 하면? ▶ 그나마 환자한테는 다행\n",
    "- 실제 양성인데 음성으로 오진을 하면? ▶ 환자에게 치명적인 상황이 될 것"
   ]
  },
  {
   "cell_type": "markdown",
   "id": "e7407f0b",
   "metadata": {},
   "source": [
    "### 같은 오진이라도 양성을 잡아내는 데에 실패하는 오진과, <br> 음성을 잡아내는 데에 실패하는 오진은 그 중요도가 다를 수 있다!"
   ]
  },
  {
   "cell_type": "markdown",
   "id": "3137a116",
   "metadata": {},
   "source": [
    "이렇게 정답과 오답을 구분하여 표현하는 방법 ▶ <b>오차 행렬</b> <br>"
   ]
  },
  {
   "cell_type": "markdown",
   "id": "e89a10ff",
   "metadata": {},
   "source": [
    "데이터를 준비하여 모델을 training시킨 후, model evalution phase를 갖게 된다.<br>\n",
    "이 때 some evalution metrics로 모델의 퍼포먼스를 확인"
   ]
  },
  {
   "cell_type": "markdown",
   "id": "0a586848",
   "metadata": {},
   "source": [
    "- 오차 행렬은 분류 모델에서 사용되며, accuracy, precision, recall 값이 중요하다"
   ]
  },
  {
   "cell_type": "markdown",
   "id": "a75ec718",
   "metadata": {},
   "source": [
    "![MCoutput](https://4.bp.blogspot.com/-jNSCuV2OtOY/XMfoQka3qaI/AAAAAAAAEjY/TiFX8HALafAVzu_zp5njDqOoGCqzyVouwCLcBGAs/s640/1_001%2Bnew.jpg)"
   ]
  },
  {
   "cell_type": "markdown",
   "id": "dffe6620",
   "metadata": {},
   "source": [
    "오차 행렬은 예측 클래스와 실제 클래스의 조합을 통해 <b>4가지</b> 예측 결과를 갖는다<br>\n",
    "▶ 단어의 조합: 실제 값 + 예측 값\n",
    "### 1. TP(True Positive)\n",
    "- Positive로 예측한 값이 True였다\n",
    "- 스팸메일로 예측한 값이 실제로 스팸메일이었다\n",
    "\n",
    "### 2. FN(False Negative)\n",
    "- Negative로 예측한 값이 False였다\n",
    "- Non-스팸으로 예측한 값이 실제는 스팸이었다\n",
    "\n",
    "### 3. FP(False Positive)\n",
    "- Positive로 예측한 값이 False였다\n",
    "- 스팸메일로 예측한 값이 실제는 Non-스팸이었다\n",
    "\n",
    "### 4. TN(True Negative)\n",
    "- Negative로 예측한 값이 True였다\n",
    "- Non-스팸으로 예측한 값이 실제로도 Non-스팸이었다\n"
   ]
  },
  {
   "cell_type": "markdown",
   "id": "b744a52c",
   "metadata": {},
   "source": [
    "![CM](https://2.bp.blogspot.com/-EvSXDotTOwc/XMfeOGZ-CVI/AAAAAAAAEiE/oePFfvhfOQM11dgRn9FkPxlegCXbgOF4QCLcBGAs/s1600/confusionMatrxiUpdated.jpg)"
   ]
  },
  {
   "cell_type": "markdown",
   "id": "74297da3",
   "metadata": {},
   "source": [
    "TP, FN, FP, TN 네 가지 값을 가지고<br>\n",
    "advanced된 분류 metric을 활용할 수 있다. (성능 지표)"
   ]
  },
  {
   "cell_type": "markdown",
   "id": "57f2a1f1",
   "metadata": {},
   "source": [
    "### 1. Sensitivity(민감도, =Recall, 재현율)\n",
    "- True Positive Rate 또는 Recall이라고 불린다(Recall로 많이 쓰임)\n",
    "- 전체 스팸 메일 중 스팸 메일이라고 맞춘 것만<br>\n",
    "- $Recall = \\frac {TP} {TP + FN}$\n",
    "![recall](https://1.bp.blogspot.com/--vT9gA03_lk/XMflpCQwgKI/AAAAAAAAEic/Gd9LqqALGuEGcKjCjZwexcXuqPcvi0fkwCLcBGAs/s640/sensitivity.jpg)\n",
    "\n",
    "2. Specificity(특이도)\n",
    "- True Negative Rate \n",
    "- 전체 non-스팸 메일 중 non-스팸 메일이라고 맞춘 것만<br>\n",
    "- $Specificity = \\frac{TN} {TN+FP}$\n",
    "![speci](https://2.bp.blogspot.com/-8mYLha2u3wo/XMfl1AAJvGI/AAAAAAAAEig/Y60NEZwZngc-gaXUg9R3SHKvOHNPx5cRwCLcBGAs/s640/specificity.jpg)\n",
    "\n",
    "### 3. Precision(정밀도)\n",
    "- 스팸 메일이라고 예측한 것 중에서 진짜 스팸 메일의 비율<br>\n",
    "- $Precision= \\frac{TP}{TP+FP}$\n",
    "![pre](https://2.bp.blogspot.com/-iPZUTveSMFo/XMfl94EIv-I/AAAAAAAAEi0/FB4KnRnPjt4FHPaC3GqZGjZFxFUP_xUKwCEwYBhgL/s640/precision.jpg)\n",
    "\n",
    "### 4. Accuracy(정확도)\n",
    "- 전체 메일 중 스팸/non-스팸 메일이라고 맞춘 것 전체의 비율<br>\n",
    "- $Accuracy = \\frac {TP+TN} {TP+TN+FP+FN}$\n",
    "![acc](https://1.bp.blogspot.com/-FS2fTXdNBCo/XMfpsCYR7TI/AAAAAAAAEjs/4XxnF3ugYeUzVoy87m-xFfBkXhaTz7mVgCLcBGAs/s1600/20190430_002105.jpg)\n",
    "\n",
    "5. Negative Predictive Value\n",
    "- $Negative Predictive Value = \\frac {TN}{TN+FN}$\n",
    "\n",
    "### 6. F1 Score\n",
    "- Recall과 Precision의 가중평균(weighted average)\n",
    "- Recall과 Precision 사이의 균형을 구할 때 쓰인다\n",
    "- $F1 score = 2 \\times \\frac {Precision \\times Recall} {Precision + Recall}$"
   ]
  },
  {
   "cell_type": "markdown",
   "id": "cf2916e1",
   "metadata": {},
   "source": [
    "## Precision과 Recall\n",
    "\n",
    "FP, FN은 잘못된 예측이므로, <br>\n",
    "precision과 Recall 값은 클수록 좋다.<br>\n",
    "\n",
    "Precision은 FP가 낮을수록: False Positive↓   ▶  음성인데 양성으로 판단하는 경우가 적어야 한다<br>\n",
    "Recall은 FN이 낮을수록: False Negative↓   ▶   양성인데 음성으로 판단하는 경우가 적어야 한다"
   ]
  },
  {
   "cell_type": "markdown",
   "id": "973d2894",
   "metadata": {},
   "source": [
    "<b>Q1</b> 전체메일함에서 스팸메일을 거르는 모델에게는 Precision/Recall 중 어느 것이 더 중요할까?<br>\n",
    "(스팸메일이 positive, 정상메일이 negative라고 가정)\n",
    "\n",
    "<b>Q2</b> 암 환자를 진단하는 모델에게는 Precision/Recall 중 어느 것이 더 중요할까? <br>"
   ]
  },
  {
   "cell_type": "markdown",
   "id": "4740f16b",
   "metadata": {},
   "source": [
    "<b>A1</b> 스팸메일: <b>Precision</b><br>\n",
    "정상메일(positive)을 스팸메일(negative)로 판단하는 경우가 적어야 한다<br>\n",
    "(스팸메일이 정상메일에 들어와도 크게 상관없음)\n",
    "\n",
    "<b>A2</b> 암 환자 진단: <b>Recall</b><br>\n",
    "실제 환자(positive)를 negative로 판단하는 경우가 적어야 한다<br>\n",
    "(병이 없는데 병이 있다고 해도 당장 큰 문제가 되지는 않음)"
   ]
  },
  {
   "cell_type": "code",
   "execution_count": null,
   "id": "e1d59390",
   "metadata": {},
   "outputs": [],
   "source": [
    "# 오차 행렬은 다음과 같이 sklearn.metrics 패키지 내의 confusion_matrix로 확인가능\n",
    "from sklearn.metrics import confusion_matrix\n",
    "\n",
    "confusion_matrix(y_test, y_pred)"
   ]
  },
  {
   "cell_type": "markdown",
   "id": "067f2bf1",
   "metadata": {},
   "source": [
    "참고: <br>\n",
    "https://manisha-sirsat.blogspot.com/2019/04/confusion-matrix.html<br>\n",
    "https://www.youtube.com/watch?v=GIzIk1C-_yE&t=657s"
   ]
  }
 ],
 "metadata": {
  "kernelspec": {
   "display_name": "Python 3 (ipykernel)",
   "language": "python",
   "name": "python3"
  },
  "language_info": {
   "codemirror_mode": {
    "name": "ipython",
    "version": 3
   },
   "file_extension": ".py",
   "mimetype": "text/x-python",
   "name": "python",
   "nbconvert_exporter": "python",
   "pygments_lexer": "ipython3",
   "version": "3.9.7"
  }
 },
 "nbformat": 4,
 "nbformat_minor": 5
}
