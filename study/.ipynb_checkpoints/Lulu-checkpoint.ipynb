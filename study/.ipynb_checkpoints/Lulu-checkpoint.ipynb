{
 "cells": [
  {
   "cell_type": "markdown",
   "id": "3e5d2ee2",
   "metadata": {},
   "source": [
    "# Lululemon 주식차트 만들기\n",
    "### 기간: 2020. 09. 01 ~ 2022. 09. 01 (2년)\n",
    "### 기준: Close열(종가)"
   ]
  },
  {
   "cell_type": "code",
   "execution_count": 15,
   "id": "cd99069c",
   "metadata": {},
   "outputs": [],
   "source": [
    "import numpy as np\n",
    "import pandas as pd\n",
    "import matplotlib as mpl\n",
    "import matplotlib.pyplot as plt\n",
    "%matplotlib inline    \n",
    "# 생략해도 괜찮지만 써주는 것이 좋다\n",
    "import seaborn as sns"
   ]
  },
  {
   "cell_type": "markdown",
   "id": "76dbe192",
   "metadata": {},
   "source": [
    "### Dataframe 사용하기"
   ]
  },
  {
   "cell_type": "code",
   "execution_count": 2,
   "id": "6e827b59",
   "metadata": {},
   "outputs": [
    {
     "data": {
      "text/html": [
       "<div>\n",
       "<style scoped>\n",
       "    .dataframe tbody tr th:only-of-type {\n",
       "        vertical-align: middle;\n",
       "    }\n",
       "\n",
       "    .dataframe tbody tr th {\n",
       "        vertical-align: top;\n",
       "    }\n",
       "\n",
       "    .dataframe thead th {\n",
       "        text-align: right;\n",
       "    }\n",
       "</style>\n",
       "<table border=\"1\" class=\"dataframe\">\n",
       "  <thead>\n",
       "    <tr style=\"text-align: right;\">\n",
       "      <th></th>\n",
       "      <th>Date</th>\n",
       "      <th>Open</th>\n",
       "      <th>High</th>\n",
       "      <th>Low</th>\n",
       "      <th>Close</th>\n",
       "      <th>Adj Close</th>\n",
       "      <th>Volume</th>\n",
       "    </tr>\n",
       "  </thead>\n",
       "  <tbody>\n",
       "    <tr>\n",
       "      <th>0</th>\n",
       "      <td>2020-09-01</td>\n",
       "      <td>376.600006</td>\n",
       "      <td>391.380005</td>\n",
       "      <td>373.559998</td>\n",
       "      <td>391.160004</td>\n",
       "      <td>391.160004</td>\n",
       "      <td>1363100</td>\n",
       "    </tr>\n",
       "    <tr>\n",
       "      <th>1</th>\n",
       "      <td>2020-09-02</td>\n",
       "      <td>398.109985</td>\n",
       "      <td>399.899994</td>\n",
       "      <td>387.079987</td>\n",
       "      <td>398.290009</td>\n",
       "      <td>398.290009</td>\n",
       "      <td>1631300</td>\n",
       "    </tr>\n",
       "    <tr>\n",
       "      <th>2</th>\n",
       "      <td>2020-09-03</td>\n",
       "      <td>393.390015</td>\n",
       "      <td>396.829987</td>\n",
       "      <td>376.369995</td>\n",
       "      <td>377.869995</td>\n",
       "      <td>377.869995</td>\n",
       "      <td>2412900</td>\n",
       "    </tr>\n",
       "    <tr>\n",
       "      <th>3</th>\n",
       "      <td>2020-09-04</td>\n",
       "      <td>372.390015</td>\n",
       "      <td>376.399994</td>\n",
       "      <td>345.970001</td>\n",
       "      <td>361.410004</td>\n",
       "      <td>361.410004</td>\n",
       "      <td>3111700</td>\n",
       "    </tr>\n",
       "    <tr>\n",
       "      <th>4</th>\n",
       "      <td>2020-09-08</td>\n",
       "      <td>351.010010</td>\n",
       "      <td>365.000000</td>\n",
       "      <td>348.500000</td>\n",
       "      <td>349.799988</td>\n",
       "      <td>349.799988</td>\n",
       "      <td>3512500</td>\n",
       "    </tr>\n",
       "    <tr>\n",
       "      <th>...</th>\n",
       "      <td>...</td>\n",
       "      <td>...</td>\n",
       "      <td>...</td>\n",
       "      <td>...</td>\n",
       "      <td>...</td>\n",
       "      <td>...</td>\n",
       "      <td>...</td>\n",
       "    </tr>\n",
       "    <tr>\n",
       "      <th>499</th>\n",
       "      <td>2022-08-25</td>\n",
       "      <td>319.220001</td>\n",
       "      <td>323.589996</td>\n",
       "      <td>317.040009</td>\n",
       "      <td>323.359985</td>\n",
       "      <td>323.359985</td>\n",
       "      <td>603200</td>\n",
       "    </tr>\n",
       "    <tr>\n",
       "      <th>500</th>\n",
       "      <td>2022-08-26</td>\n",
       "      <td>323.200012</td>\n",
       "      <td>324.899994</td>\n",
       "      <td>310.140015</td>\n",
       "      <td>311.309998</td>\n",
       "      <td>311.309998</td>\n",
       "      <td>1111600</td>\n",
       "    </tr>\n",
       "    <tr>\n",
       "      <th>501</th>\n",
       "      <td>2022-08-29</td>\n",
       "      <td>304.980011</td>\n",
       "      <td>311.970001</td>\n",
       "      <td>303.660004</td>\n",
       "      <td>307.500000</td>\n",
       "      <td>307.500000</td>\n",
       "      <td>1165100</td>\n",
       "    </tr>\n",
       "    <tr>\n",
       "      <th>502</th>\n",
       "      <td>2022-08-30</td>\n",
       "      <td>311.359985</td>\n",
       "      <td>312.000000</td>\n",
       "      <td>302.500000</td>\n",
       "      <td>307.070007</td>\n",
       "      <td>307.070007</td>\n",
       "      <td>1179200</td>\n",
       "    </tr>\n",
       "    <tr>\n",
       "      <th>503</th>\n",
       "      <td>2022-08-31</td>\n",
       "      <td>307.959991</td>\n",
       "      <td>310.489990</td>\n",
       "      <td>295.540009</td>\n",
       "      <td>299.959991</td>\n",
       "      <td>299.959991</td>\n",
       "      <td>1915300</td>\n",
       "    </tr>\n",
       "  </tbody>\n",
       "</table>\n",
       "<p>504 rows × 7 columns</p>\n",
       "</div>"
      ],
      "text/plain": [
       "           Date        Open        High         Low       Close   Adj Close  \\\n",
       "0    2020-09-01  376.600006  391.380005  373.559998  391.160004  391.160004   \n",
       "1    2020-09-02  398.109985  399.899994  387.079987  398.290009  398.290009   \n",
       "2    2020-09-03  393.390015  396.829987  376.369995  377.869995  377.869995   \n",
       "3    2020-09-04  372.390015  376.399994  345.970001  361.410004  361.410004   \n",
       "4    2020-09-08  351.010010  365.000000  348.500000  349.799988  349.799988   \n",
       "..          ...         ...         ...         ...         ...         ...   \n",
       "499  2022-08-25  319.220001  323.589996  317.040009  323.359985  323.359985   \n",
       "500  2022-08-26  323.200012  324.899994  310.140015  311.309998  311.309998   \n",
       "501  2022-08-29  304.980011  311.970001  303.660004  307.500000  307.500000   \n",
       "502  2022-08-30  311.359985  312.000000  302.500000  307.070007  307.070007   \n",
       "503  2022-08-31  307.959991  310.489990  295.540009  299.959991  299.959991   \n",
       "\n",
       "      Volume  \n",
       "0    1363100  \n",
       "1    1631300  \n",
       "2    2412900  \n",
       "3    3111700  \n",
       "4    3512500  \n",
       "..       ...  \n",
       "499   603200  \n",
       "500  1111600  \n",
       "501  1165100  \n",
       "502  1179200  \n",
       "503  1915300  \n",
       "\n",
       "[504 rows x 7 columns]"
      ]
     },
     "execution_count": 2,
     "metadata": {},
     "output_type": "execute_result"
    }
   ],
   "source": [
    "# Dataframe\n",
    "# lulu 파일을 불러와 lulu 이름으로 할당\n",
    "luludf = pd.read_csv('~/aiffel/data_analysis_basic/data/LULU.csv')\n",
    "\n",
    "# 할당된 lulu 변수 호출\n",
    "luludf"
   ]
  },
  {
   "cell_type": "code",
   "execution_count": 4,
   "id": "7a25360c",
   "metadata": {},
   "outputs": [
    {
     "data": {
      "text/plain": [
       "257.51001"
      ]
     },
     "execution_count": 4,
     "metadata": {},
     "output_type": "execute_result"
    }
   ],
   "source": [
    "# Close 최솟값\n",
    "lulumin = luludf['Close'].min()\n",
    "lulumin"
   ]
  },
  {
   "cell_type": "code",
   "execution_count": 5,
   "id": "9a224c79",
   "metadata": {},
   "outputs": [
    {
     "data": {
      "text/plain": [
       "435"
      ]
     },
     "execution_count": 5,
     "metadata": {},
     "output_type": "execute_result"
    }
   ],
   "source": [
    "# Close 최솟값 인덱스 찾기\n",
    "idxmin = luludf['Close'].idxmin()\n",
    "idxmin"
   ]
  },
  {
   "cell_type": "code",
   "execution_count": 6,
   "id": "9cb3f2f8",
   "metadata": {},
   "outputs": [
    {
     "data": {
      "text/plain": [
       "Date         2022-05-24\n",
       "Open         266.399994\n",
       "High         267.170013\n",
       "Low          253.070007\n",
       "Close         257.51001\n",
       "Adj Close     257.51001\n",
       "Volume          1861500\n",
       "Name: 435, dtype: object"
      ]
     },
     "execution_count": 6,
     "metadata": {},
     "output_type": "execute_result"
    }
   ],
   "source": [
    "# Close 최솟값이 있는 인덱스 정보 확인\n",
    "luludf.loc[idxmin]"
   ]
  },
  {
   "cell_type": "code",
   "execution_count": 7,
   "id": "149f5451",
   "metadata": {},
   "outputs": [
    {
     "data": {
      "text/plain": [
       "477.910004"
      ]
     },
     "execution_count": 7,
     "metadata": {},
     "output_type": "execute_result"
    }
   ],
   "source": [
    "# Close 최댓값\n",
    "lulumax = luludf['Close'].max()\n",
    "lulumax"
   ]
  },
  {
   "cell_type": "code",
   "execution_count": 8,
   "id": "7b6c1e49",
   "metadata": {},
   "outputs": [
    {
     "data": {
      "text/plain": [
       "305"
      ]
     },
     "execution_count": 8,
     "metadata": {},
     "output_type": "execute_result"
    }
   ],
   "source": [
    "# Close 최댓값 인덱스 찾기\n",
    "idxmax = luludf['Close'].idxmax()\n",
    "idxmax"
   ]
  },
  {
   "cell_type": "code",
   "execution_count": 9,
   "id": "dd8a23ca",
   "metadata": {},
   "outputs": [
    {
     "data": {
      "text/plain": [
       "Date         2021-11-16\n",
       "Open          464.51001\n",
       "High         485.829987\n",
       "Low          463.730011\n",
       "Close        477.910004\n",
       "Adj Close    477.910004\n",
       "Volume          1390100\n",
       "Name: 305, dtype: object"
      ]
     },
     "execution_count": 9,
     "metadata": {},
     "output_type": "execute_result"
    }
   ],
   "source": [
    "# Close 최댓값이 있는 인덱스 정보 확인\n",
    "luludf.loc[idxmax]"
   ]
  },
  {
   "cell_type": "code",
   "execution_count": 18,
   "id": "a667b5f8",
   "metadata": {},
   "outputs": [
    {
     "data": {
      "text/plain": [
       "349.2714285436508"
      ]
     },
     "execution_count": 18,
     "metadata": {},
     "output_type": "execute_result"
    }
   ],
   "source": [
    "# Close 평균값\n",
    "lulumean = luludf['Close'].mean()\n",
    "lulumean"
   ]
  },
  {
   "cell_type": "markdown",
   "id": "96de0520",
   "metadata": {},
   "source": [
    "### Matplotlib 사용하기"
   ]
  },
  {
   "cell_type": "code",
   "execution_count": 19,
   "id": "338a8e93",
   "metadata": {},
   "outputs": [
    {
     "data": {
      "image/png": "[encoded data removed]",
      "text/plain": [
       "<Figure size 648x360 with 1 Axes>"
      ]
     },
     "metadata": {
      "needs_background": "light"
     },
     "output_type": "display_data"
    }
   ],
   "source": [
    "from datetime import datetime\n",
    "import os\n",
    "\n",
    "# 그래프 데이터 \n",
    "csv_path = os.getenv(\"HOME\") + \"/aiffel/data_analysis_basic/data/LULU.csv\"\n",
    "data = pd.read_csv(csv_path ,index_col=0, parse_dates=True)\n",
    "price = data['Close']\n",
    "\n",
    "# 축 그리기 및 좌표축 설정\n",
    "fig = plt.figure(figsize=(9, 5))\n",
    "ax = fig.add_subplot(1,1,1)\n",
    "price.plot(ax=ax, style='blue', alpha=0.3)\n",
    "plt.ylim([200,500])\n",
    "plt.xlim(['2020-09-01','2022-09-01'])\n",
    "\n",
    "# 주석달기\n",
    "dLow = datetime(2022, 5, 24)\n",
    "dPeak = datetime(2021,11,16)\n",
    "\n",
    "ax.annotate(\"Low Price\", xy=(dLow, price.asof(dLow)-5), xytext=(dLow, price.asof(dLow)-50), arrowprops=dict(facecolor='red')) # 최저점 주석 달기\n",
    "ax.annotate(\"Peak Price\", xy=(dPeak, price.asof(dPeak)-30), xytext=(dPeak, price.asof(dPeak)-100), arrowprops=dict(facecolor='red')) # 최고점 주석 달기\n",
    "\n",
    "# 그리드, 타이틀 달기\n",
    "plt.grid()\n",
    "ax.set_title('Lululemon StockPrice')\n",
    "\n",
    "# 보여주기\n",
    "plt.show()"
   ]
  },
  {
   "cell_type": "markdown",
   "id": "81278a38",
   "metadata": {},
   "source": [
    "### Seaborn 사용하기"
   ]
  },
  {
   "cell_type": "code",
   "execution_count": 14,
   "id": "ec5963e0",
   "metadata": {},
   "outputs": [
    {
     "data": {
      "text/plain": [
       "<AxesSubplot:xlabel='Date', ylabel='Close'>"
      ]
     },
     "execution_count": 14,
     "metadata": {},
     "output_type": "execute_result"
    },
    {
     "data": {
      "image/png": "[encoded data removed]",
      "text/plain": [
       "<Figure size 432x288 with 1 Axes>"
      ]
     },
     "metadata": {
      "needs_background": "light"
     },
     "output_type": "display_data"
    }
   ],
   "source": [
    "sns.scatterplot(data=luludf , x='Date', y='Close', palette=\"ch:r=-.2,d=.3_r\")"
   ]
  }
 ],
 "metadata": {
  "kernelspec": {
   "display_name": "Python 3 (ipykernel)",
   "language": "python",
   "name": "python3"
  },
  "language_info": {
   "codemirror_mode": {
    "name": "ipython",
    "version": 3
   },
   "file_extension": ".py",
   "mimetype": "text/x-python",
   "name": "python",
   "nbconvert_exporter": "python",
   "pygments_lexer": "ipython3",
   "version": "3.9.7"
  }
 },
 "nbformat": 4,
 "nbformat_minor": 5
}
