{
 "cells": [
  {
   "cell_type": "markdown",
   "id": "6a0206c4",
   "metadata": {},
   "source": [
    "# < 메소드 오버라이딩과 메소드 오버로딩 in Python>"
   ]
  },
  {
   "cell_type": "markdown",
   "id": "b16c41c3",
   "metadata": {},
   "source": [
    "## 메소드 오버라이딩\n",
    "### - 부모 클래스의 메소드를 자식 클래스에서 '재정의(override)'하여 사용\n",
    "### - 기존 부모 클래스의 메소드가 자식 클래스에서 변경된다\n",
    "### - 다형성 구현이 가능하다 : 하나의 부모를 정하고 다양한 형태로 상속을 받는다"
   ]
  },
  {
   "cell_type": "code",
   "execution_count": 7,
   "id": "298d518d",
   "metadata": {},
   "outputs": [
    {
     "name": "stdout",
     "output_type": "stream",
     "text": [
      "I'm driving\n",
      "I'm driving and can fly\n"
     ]
    }
   ],
   "source": [
    "# 메소드 오버라이딩의 예\n",
    "\n",
    "class Car:\n",
    "    color = 'red'\n",
    "    category = 'sports car'\n",
    "\n",
    "    def drive(self):\n",
    "        print(\"I'm driving\")\n",
    "\n",
    "class NewCar(Car):\n",
    "    def fly(self):\n",
    "        print(\"I'm flying!! This is the new car!!\")\n",
    "\n",
    "    def drive(self):    # 오버라이딩이 일어난다\n",
    "        print(\"I'm driving and can fly\") \n",
    "        \n",
    "cr = Car()\n",
    "ncr = NewCar()\n",
    "\n",
    "cr.drive()\n",
    "ncr.drive()"
   ]
  },
  {
   "cell_type": "markdown",
   "id": "71b13ffb",
   "metadata": {},
   "source": [
    "## 메소드 오버로딩\n",
    "### - 같은 클래스 내에서 매개변수의 개수 또는 자료형이 다른, 같은 이름의 메소드를 정의\n",
    "### - 다양한 매개변수를 처리하기 위해 필요하다"
   ]
  },
  {
   "cell_type": "code",
   "execution_count": 14,
   "id": "aaaa5f6b",
   "metadata": {},
   "outputs": [
    {
     "ename": "TypeError",
     "evalue": "buy() takes 3 positional arguments but 4 were given",
     "output_type": "error",
     "traceback": [
      "\u001b[0;31m---------------------------------------------------------------------------\u001b[0m",
      "\u001b[0;31mTypeError\u001b[0m                                 Traceback (most recent call last)",
      "\u001b[0;32m/tmp/ipykernel_150/3220886021.py\u001b[0m in \u001b[0;36m<module>\u001b[0;34m\u001b[0m\n\u001b[1;32m     10\u001b[0m \u001b[0;34m\u001b[0m\u001b[0m\n\u001b[1;32m     11\u001b[0m \u001b[0mfr\u001b[0m \u001b[0;34m=\u001b[0m \u001b[0mFruits\u001b[0m\u001b[0;34m(\u001b[0m\u001b[0;34m)\u001b[0m\u001b[0;34m\u001b[0m\u001b[0;34m\u001b[0m\u001b[0m\n\u001b[0;32m---> 12\u001b[0;31m \u001b[0mfr\u001b[0m\u001b[0;34m.\u001b[0m\u001b[0mbuy\u001b[0m\u001b[0;34m(\u001b[0m\u001b[0;36m1\u001b[0m\u001b[0;34m,\u001b[0m \u001b[0;36m2\u001b[0m\u001b[0;34m,\u001b[0m \u001b[0;36m3\u001b[0m\u001b[0;34m)\u001b[0m\u001b[0;34m\u001b[0m\u001b[0;34m\u001b[0m\u001b[0m\n\u001b[0m",
      "\u001b[0;31mTypeError\u001b[0m: buy() takes 3 positional arguments but 4 were given"
     ]
    }
   ],
   "source": [
    "# 메소드 오버로딩의 예 1\n",
    "\n",
    "class Fruits:\n",
    "\n",
    "    def buy(self, a, b, p):\n",
    "        print(\"apple:\",a, \" banana:\",b, \" peach:\",p)\n",
    "        \n",
    "    def buy(self, g, pr):\n",
    "        print(\" grapes:\",g, \" pear:\",pr)\n",
    "    \n",
    "fr = Fruits()\n",
    "fr.buy(1, 2, 3)\n",
    "\n",
    "# TypeError 발생\n",
    "# 파이썬에서는 메소드 오버로딩을 지원하지 않는다"
   ]
  },
  {
   "cell_type": "code",
   "execution_count": 35,
   "id": "ca9140ce",
   "metadata": {},
   "outputs": [
    {
     "name": "stdout",
     "output_type": "stream",
     "text": [
      "자료형이 int면 합을 구합니다. 21\n",
      "자료형이 str면 나열합니다. method overloading\n"
     ]
    }
   ],
   "source": [
    "# 메소드 오버로딩의 예 2\n",
    "# 자료형에 따른 분기처리\n",
    "\n",
    "class Option:\n",
    "\n",
    "    def add(self, datatype, *args):    # *args: 여러 개의 인자를 받기 위해 쓰인다\n",
    "        if datatype == 'int':\n",
    "            return sum(args)\n",
    "        if datatype == 'str':\n",
    "            return ''.join([x for x in args])\n",
    "        \n",
    "op = Option()\n",
    "print(\"자료형이 int면 합을 구합니다.\", op.add('int', 5, 7, 9))\n",
    "print(\"자료형이 str면 나열합니다.\", op.add('str', 'method', ' ','overloading'))"
   ]
  },
  {
   "cell_type": "code",
   "execution_count": 19,
   "id": "af26ebdb",
   "metadata": {},
   "outputs": [
    {
     "name": "stdout",
     "output_type": "stream",
     "text": [
      "apple: 1  banana: 2  peach: 3\n",
      "grapes: 5  pear: 6\n"
     ]
    }
   ],
   "source": [
    "# 메소드 오버로딩의 예 3\n",
    "\n",
    "from multipledispatch import dispatch    # pip install multipledispatch로 패키지를 다운로드 하면 오버로딩 사용할 수 있다\n",
    "\n",
    "class Fruits:\n",
    "    \n",
    "    @dispatch(int, int, int)\n",
    "    def buy(self, a, b, p):\n",
    "        print(\"apple:\",a, \" banana:\",b, \" peach:\",p)\n",
    "    \n",
    "    @dispatch(int, int)\n",
    "    def buy(self, g, pr):\n",
    "        print(\"grapes:\",g, \" pear:\",pr)\n",
    "    \n",
    "fr = Fruits()\n",
    "fr.buy(1, 2, 3)\n",
    "fr.buy(5, 6)"
   ]
  },
  {
   "cell_type": "markdown",
   "id": "29b8ea1f",
   "metadata": {},
   "source": [
    "참고: https://junior-datalist.tistory.com/96"
   ]
  }
 ],
 "metadata": {
  "kernelspec": {
   "display_name": "Python 3 (ipykernel)",
   "language": "python",
   "name": "python3"
  },
  "language_info": {
   "codemirror_mode": {
    "name": "ipython",
    "version": 3
   },
   "file_extension": ".py",
   "mimetype": "text/x-python",
   "name": "python",
   "nbconvert_exporter": "python",
   "pygments_lexer": "ipython3",
   "version": "3.9.7"
  }
 },
 "nbformat": 4,
 "nbformat_minor": 5
}
